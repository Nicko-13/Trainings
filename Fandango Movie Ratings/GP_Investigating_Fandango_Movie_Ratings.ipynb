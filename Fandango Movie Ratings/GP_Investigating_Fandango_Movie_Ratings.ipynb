{
 "cells": [
  {
   "cell_type": "markdown",
   "metadata": {},
   "source": [
    "# Can you trust Fandango? Analysis of movie ratings 2015 vs 2016\n",
    "\n",
    "A data journalist named Walt Hickey revealed that the actual rating of movies on Fandango website is lower than star rating. Fandango displays a 5-star rating system on their website, where the smallest rating is 0 stars and the largest is 5 stars. \n",
    "\n",
    "Here are some examples of Hickey's findings:\n",
    "\n",
    "The actual rating was almost always rounded up to the nearest half-star. For instance, a 4.1 movie would be rounded off to 4.5 stars, not to 4 stars, as you may expect;\n",
    "\n",
    "In the case of 8% of the ratings analyzed, the rounding up was done to the nearest whole star. For instance, a 4.5 rating would be rounded off to 5 stars;\n",
    "\n",
    "The aim of the project is to identify any changes in Fandango's rating system after Hickey's analysis.\n",
    "\n",
    "To achieve the aim we will compare the system's characteristics previous and after Hickey's analysis. We will use graphs of ratings distributions, probability tables, and some descriptive statistics. \n",
    "\n",
    "- Walt Hickey's data available [here](https://github.com/fivethirtyeight/data/tree/master/fandango);\n",
    "- Movie ratings for 2016 available [here](https://github.com/mircealex/Movie_ratings_2016_17);\n",
    "\n",
    "### Summary of the results\n",
    "\n",
    "After the data analysis, we can conclude that there were no significant changes in Fandango's system. "
   ]
  },
  {
   "cell_type": "code",
   "execution_count": 1,
   "metadata": {
    "collapsed": false
   },
   "outputs": [],
   "source": [
    "%matplotlib inline\n",
    "import pandas as pd\n",
    "import numpy as np\n",
    "import matplotlib.pyplot as plt\n",
    "\n",
    "pd.set_option('max_columns', 50)\n",
    "pd.set_option('max_rows', 100)\n",
    "pd.set_option('max_colwidth', 5000)\n",
    "\n",
    "# Read cvs files to Pandas dataframe\n",
    "hickey_data = pd.read_csv('fandango_score_comparison.csv')\n",
    "dq_data = pd.read_csv('movie_ratings_16_17.csv')"
   ]
  },
  {
   "cell_type": "markdown",
   "metadata": {},
   "source": [
    "## Explore datasets\n",
    "We will now explore Hickey's data set. The documentation available [here](https://github.com/fivethirtyeight/data/tree/master/fandango). "
   ]
  },
  {
   "cell_type": "code",
   "execution_count": 2,
   "metadata": {
    "collapsed": false
   },
   "outputs": [
    {
     "name": "stdout",
     "output_type": "stream",
     "text": [
      "                             FILM  RottenTomatoes  RottenTomatoes_User  \\\n",
      "0  Avengers: Age of Ultron (2015)              74                   86   \n",
      "1               Cinderella (2015)              85                   80   \n",
      "2                  Ant-Man (2015)              80                   90   \n",
      "3          Do You Believe? (2015)              18                   84   \n",
      "4   Hot Tub Time Machine 2 (2015)              14                   28   \n",
      "\n",
      "   Metacritic  Metacritic_User  IMDB  Fandango_Stars  Fandango_Ratingvalue  \\\n",
      "0          66              7.1   7.8             5.0                   4.5   \n",
      "1          67              7.5   7.1             5.0                   4.5   \n",
      "2          64              8.1   7.8             5.0                   4.5   \n",
      "3          22              4.7   5.4             5.0                   4.5   \n",
      "4          29              3.4   5.1             3.5                   3.0   \n",
      "\n",
      "   RT_norm  RT_user_norm  Metacritic_norm  Metacritic_user_nom  IMDB_norm  \\\n",
      "0     3.70           4.3             3.30                 3.55       3.90   \n",
      "1     4.25           4.0             3.35                 3.75       3.55   \n",
      "2     4.00           4.5             3.20                 4.05       3.90   \n",
      "3     0.90           4.2             1.10                 2.35       2.70   \n",
      "4     0.70           1.4             1.45                 1.70       2.55   \n",
      "\n",
      "   RT_norm_round  RT_user_norm_round  Metacritic_norm_round  \\\n",
      "0            3.5                 4.5                    3.5   \n",
      "1            4.5                 4.0                    3.5   \n",
      "2            4.0                 4.5                    3.0   \n",
      "3            1.0                 4.0                    1.0   \n",
      "4            0.5                 1.5                    1.5   \n",
      "\n",
      "   Metacritic_user_norm_round  IMDB_norm_round  Metacritic_user_vote_count  \\\n",
      "0                         3.5              4.0                        1330   \n",
      "1                         4.0              3.5                         249   \n",
      "2                         4.0              4.0                         627   \n",
      "3                         2.5              2.5                          31   \n",
      "4                         1.5              2.5                          88   \n",
      "\n",
      "   IMDB_user_vote_count  Fandango_votes  Fandango_Difference  \n",
      "0                271107           14846                  0.5  \n",
      "1                 65709           12640                  0.5  \n",
      "2                103660           12055                  0.5  \n",
      "3                  3136            1793                  0.5  \n",
      "4                 19560            1021                  0.5  \n"
     ]
    }
   ],
   "source": [
    "print(hickey_data.head())"
   ]
  },
  {
   "cell_type": "markdown",
   "metadata": {},
   "source": [
    "The next step is to explore DQ data set. The documentation available [here](https://github.com/mircealex/Movie_ratings_2016_17). "
   ]
  },
  {
   "cell_type": "code",
   "execution_count": 3,
   "metadata": {
    "collapsed": false
   },
   "outputs": [
    {
     "name": "stdout",
     "output_type": "stream",
     "text": [
      "                     movie  year  metascore  imdb  tmeter  audience  fandango  \\\n",
      "0      10 Cloverfield Lane  2016         76   7.2      90        79       3.5   \n",
      "1                 13 Hours  2016         48   7.3      50        83       4.5   \n",
      "2      A Cure for Wellness  2016         47   6.6      40        47       3.0   \n",
      "3          A Dog's Purpose  2017         43   5.2      33        76       4.5   \n",
      "4  A Hologram for the King  2016         58   6.1      70        57       3.0   \n",
      "\n",
      "   n_metascore  n_imdb  n_tmeter  n_audience  nr_metascore  nr_imdb  \\\n",
      "0         3.80    3.60      4.50        3.95           4.0      3.5   \n",
      "1         2.40    3.65      2.50        4.15           2.5      3.5   \n",
      "2         2.35    3.30      2.00        2.35           2.5      3.5   \n",
      "3         2.15    2.60      1.65        3.80           2.0      2.5   \n",
      "4         2.90    3.05      3.50        2.85           3.0      3.0   \n",
      "\n",
      "   nr_tmeter  nr_audience  \n",
      "0        4.5          4.0  \n",
      "1        2.5          4.0  \n",
      "2        2.0          2.5  \n",
      "3        1.5          4.0  \n",
      "4        3.5          3.0  \n"
     ]
    }
   ],
   "source": [
    "print(dq_data.head())"
   ]
  },
  {
   "cell_type": "markdown",
   "metadata": {},
   "source": [
    "Next, we isolate data for Fandango in separate datasets. "
   ]
  },
  {
   "cell_type": "code",
   "execution_count": 4,
   "metadata": {
    "collapsed": false
   },
   "outputs": [],
   "source": [
    "hickey_fn = hickey_data[['FILM', 'Fandango_Stars',\n",
    "                        'Fandango_Ratingvalue',\n",
    "                        'Fandango_votes',\n",
    "                        'Fandango_Difference']]\n",
    "dq_fn = dq_data[['movie', 'year', 'fandango']]"
   ]
  },
  {
   "cell_type": "markdown",
   "metadata": {},
   "source": [
    "## Cheking data representativity\n",
    "\n",
    "To achieve our goal we can compare Fandango's ratings for 2015 and 2016 and check if there is any difference. We should explore columns Fandango_Stars in hickey_fn dataset and fandango in the dq_fn dataset.\n",
    "\n",
    "But, according to documentation the Hickeys data \"contains every film that has a Rotten Tomatoes rating, an RT User rating, a Metacritic score, a Metacritic User score, and IMDb score and at least 30 fan reviews on Fandango. The data from Fandango was pulled on Aug. 24, 2015.\". For this project, we will consider this as a population of interest. But I'd rather prefer to see all films from Fandango website (the full population) or a random sample of these films. Here we see that some predefined criteria were implemented. \n",
    "\n",
    "According to documentation the Data Quest data \"contains movie rating data for 214 of the most popular movies (with a significant number of votes) released in 2016 and 2017.\". Again, we will consider this as a population for this project, despite that there are some predefined criteria too. \n",
    "\n",
    "So, we are going to compare the following populations in our analysis:\n",
    "\n",
    "- Fandango's ratings for popular movies released in 2015;\n",
    "- Fandango's ratings for popular movies released in 2016;\n",
    "\n",
    "We consider a movie as popular if it has 30 or more reviews in Fandango. Let's check if we meet this criterion for all movies in our datasets."
   ]
  },
  {
   "cell_type": "code",
   "execution_count": 5,
   "metadata": {
    "collapsed": false
   },
   "outputs": [
    {
     "name": "stdout",
     "output_type": "stream",
     "text": [
      "Empty DataFrame\n",
      "Columns: [FILM, Fandango_Stars, Fandango_Ratingvalue, Fandango_votes, Fandango_Difference]\n",
      "Index: []\n"
     ]
    }
   ],
   "source": [
    "print(hickey_fn[hickey_fn['Fandango_votes'] < 30])"
   ]
  },
  {
   "cell_type": "markdown",
   "metadata": {},
   "source": [
    "As we received empty dataset all movies can be considered as popular. \n",
    "\n",
    "For the Data Quest, we will randomly sample 10 movies and check their ratings on Fandango. If at least 80% will have a high number of voters (30 or more) we will consider them as popular. "
   ]
  },
  {
   "cell_type": "code",
   "execution_count": 6,
   "metadata": {
    "collapsed": false
   },
   "outputs": [
    {
     "name": "stdout",
     "output_type": "stream",
     "text": [
      "                                       movie  year  fandango\n",
      "108                   Mechanic: Resurrection  2016       4.0\n",
      "206                                 Warcraft  2016       4.0\n",
      "106                                Max Steel  2016       3.5\n",
      "107                            Me Before You  2016       4.5\n",
      "51   Fantastic Beasts and Where to Find Them  2016       4.5\n",
      "33                                      Cell  2016       3.0\n",
      "59                                    Genius  2016       3.5\n",
      "152                                    Sully  2016       4.5\n",
      "4                    A Hologram for the King  2016       3.0\n",
      "31                Captain America: Civil War  2016       4.5\n"
     ]
    }
   ],
   "source": [
    "# Sample 10 random films\n",
    "print(dq_fn.sample(n=10, random_state=1))"
   ]
  },
  {
   "cell_type": "markdown",
   "metadata": {
    "collapsed": true
   },
   "source": [
    "We received the same list as Data Quest team as the same random seed was used. As the list contains 90% movies which meet our criterion of popularity we can use it for further analysis. "
   ]
  },
  {
   "cell_type": "code",
   "execution_count": 7,
   "metadata": {
    "collapsed": false
   },
   "outputs": [
    {
     "name": "stdout",
     "output_type": "stream",
     "text": [
      "129\n",
      "191\n"
     ]
    }
   ],
   "source": [
    "# Store data for each year in the separate dataset\n",
    "movies_2015 = hickey_fn[hickey_fn['FILM']\n",
    "                        .str.contains('2015')]\n",
    "movies_2016 = dq_fn[dq_fn['year'] == 2016]\n",
    "\n",
    "# Explore the number of rows in every dataset\n",
    "print(movies_2015.shape[0])\n",
    "print(movies_2016.shape[0])"
   ]
  },
  {
   "cell_type": "markdown",
   "metadata": {},
   "source": [
    "## Investigate difference in movie ratings 2015 vs 2016\n",
    "\n",
    "First we will compare shapes of the distributions of ratings for both samples."
   ]
  },
  {
   "cell_type": "code",
   "execution_count": 8,
   "metadata": {
    "collapsed": false
   },
   "outputs": [
    {
     "data": {
      "image/png": "[encoded data removed]",
      "text/plain": [
       "<matplotlib.figure.Figure at 0x7f5a9f670908>"
      ]
     },
     "metadata": {},
     "output_type": "display_data"
    }
   ],
   "source": [
    "# Generate kernel density plot\n",
    "movies_2015['Fandango_Stars'].plot.kde(\n",
    "    label='2015', legend=True)\n",
    "movies_2016['fandango'].plot.kde(\n",
    "    label='2016',\n",
    "    legend=True,\n",
    "    xlim=(0, 5),\n",
    "    xticks=np.arange(0, 5.5, 0.5))\n",
    "plt.title('Distribution of movie ratings for 2015 and 2016',\n",
    "           y=1.07)\n",
    "plt.style.use('fivethirtyeight')"
   ]
  },
  {
   "cell_type": "markdown",
   "metadata": {},
   "source": [
    "We can see from the graphs:\n",
    "\n",
    "- both of them skewed to the left, so there are more high ratings than lower ones. But, if we looked more closely on interval 3 - 5 for distribution of 2016 it looks very like a normal distribution;\n",
    "- 2015 distribution contains more ratings of 4.5 and 5 and 2016 one contains more 4 ratings;\n",
    "- we can conclude that there are some changes towards lower ratings from 2015 to 2016. We can assume that Fandango made some changes in their system;\n",
    "\n",
    "Let's analyze data more granually using distribution tables."
   ]
  },
  {
   "cell_type": "code",
   "execution_count": 9,
   "metadata": {
    "collapsed": false
   },
   "outputs": [
    {
     "data": {
      "text/plain": [
       "3.0    0.085271\n",
       "3.5    0.178295\n",
       "4.0    0.286822\n",
       "4.5    0.379845\n",
       "5.0    0.069767\n",
       "Name: Fandango_Stars, dtype: float64"
      ]
     },
     "execution_count": 9,
     "metadata": {},
     "output_type": "execute_result"
    }
   ],
   "source": [
    "(movies_2015['Fandango_Stars']\n",
    " .value_counts(normalize=True)\n",
    " .sort_index())"
   ]
  },
  {
   "cell_type": "code",
   "execution_count": 10,
   "metadata": {
    "collapsed": false
   },
   "outputs": [
    {
     "data": {
      "text/plain": [
       "2.5    0.031414\n",
       "3.0    0.073298\n",
       "3.5    0.240838\n",
       "4.0    0.403141\n",
       "4.5    0.246073\n",
       "5.0    0.005236\n",
       "Name: fandango, dtype: float64"
      ]
     },
     "execution_count": 10,
     "metadata": {},
     "output_type": "execute_result"
    }
   ],
   "source": [
    "(movies_2016['fandango']\n",
    " .value_counts(normalize=True)\n",
    " .sort_index())"
   ]
  },
  {
   "cell_type": "markdown",
   "metadata": {},
   "source": [
    "The percentage of films with high ratings (5.0, 4.5) and percentage of films is lower ratings (4.0, 3.5, 3.0) increased. The films with rating 2.5 appeared in 2016. There is a clear direction towards lower ratings. \n",
    "Let's explore some summary statistic. "
   ]
  },
  {
   "cell_type": "code",
   "execution_count": 11,
   "metadata": {
    "collapsed": false
   },
   "outputs": [
    {
     "name": "stdout",
     "output_type": "stream",
     "text": [
      "Mode 2015: 4.5\n",
      "Median 2015: 4.0\n",
      "Mean 2015: 4.0852713178294575\n",
      "\n",
      "Mode 2016: 4.0\n",
      "Median 2016: 4.0\n",
      "Mean 2016: 3.887434554973822\n",
      "\n"
     ]
    }
   ],
   "source": [
    "# Compute summary statistics for 2015 and 2016\n",
    "for y, d in [('2015', movies_2015['Fandango_Stars']),\n",
    "            ('2016', movies_2016['fandango'])]:\n",
    "    print('Mode {}: {}'.format(y, d.mode()[0]))\n",
    "    print('Median {}: {}'.format(y, d.median()))\n",
    "    print('Mean {}: {}'.format(y, d.mean()))\n",
    "    print()\n"
   ]
  },
  {
   "cell_type": "markdown",
   "metadata": {},
   "source": [
    "We will create group bar chart to reflect these statistics."
   ]
  },
  {
   "cell_type": "code",
   "execution_count": 12,
   "metadata": {
    "collapsed": false
   },
   "outputs": [
    {
     "data": {
      "text/plain": [
       "<matplotlib.legend.Legend at 0x7f5a970af0b8>"
      ]
     },
     "execution_count": 12,
     "metadata": {},
     "output_type": "execute_result"
    },
    {
     "data": {
      "image/png": "[encoded data removed]",
      "text/plain": [
       "<matplotlib.figure.Figure at 0x7f5a970af2b0>"
      ]
     },
     "metadata": {},
     "output_type": "display_data"
    }
   ],
   "source": [
    "# Create dictionary which contains data on summary\n",
    "# statistics\n",
    "data = {}\n",
    "for y, d in [('2015', movies_2015['Fandango_Stars']),\n",
    "            ('2016', movies_2016['fandango'])]:\n",
    "    data[y] = [d.mode()[0], d.median(), d.mean()]\n",
    "\n",
    "# Create Pandas dataframe with the data above\n",
    "data = pd.DataFrame(\n",
    "    data,\n",
    "    index = ['Mode', 'Median', 'Mean']\n",
    "    \n",
    "# Plot group bar chart\n",
    ")\n",
    "data.plot.bar(\n",
    "    rot=0,\n",
    "    ylim=(0, 5),\n",
    "    yticks=np.arange(0, 5.5, 0.5)\n",
    ")\n",
    "plt.title(\n",
    "    'Comparing summary statistisc: 2015 vs 2016',\n",
    "    y=1.07\n",
    ")\n",
    "plt.legend(loc='upper center')"
   ]
  },
  {
   "cell_type": "markdown",
   "metadata": {},
   "source": [
    "We can see from the data and the plot the median remains the same, but mode and mean have become lower. It shows that ratings tend to become lower. Yet, there is only a slight difference. "
   ]
  },
  {
   "cell_type": "markdown",
   "metadata": {},
   "source": [
    "## Conclusion \n",
    "\n",
    "The aim of the project is to identify any changes in Fandango's rating system after Hickey's analysis.\n",
    "\n",
    "During data analysis we revealed that:\n",
    "\n",
    "- the ratings in 2016 is a bit lower than in 2015;\n",
    "\n",
    "- but the difference is not significant;\n",
    "\n",
    "We can conclude that Fandango made some changes in their system.  However, these changes do not affect star rating significantly."
   ]
  },
  {
   "cell_type": "code",
   "execution_count": null,
   "metadata": {
    "collapsed": true
   },
   "outputs": [],
   "source": []
  }
 ],
 "metadata": {
  "kernelspec": {
   "display_name": "Python 3",
   "language": "python",
   "name": "python3"
  },
  "language_info": {
   "codemirror_mode": {
    "name": "ipython",
    "version": 3
   },
   "file_extension": ".py",
   "mimetype": "text/x-python",
   "name": "python",
   "nbconvert_exporter": "python",
   "pygments_lexer": "ipython3",
   "version": "3.4.3"
  }
 },
 "nbformat": 4,
 "nbformat_minor": 2
}
