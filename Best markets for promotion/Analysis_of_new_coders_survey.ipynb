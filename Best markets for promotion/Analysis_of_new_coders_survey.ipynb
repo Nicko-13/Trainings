{
 "cells": [
  {
   "cell_type": "markdown",
   "metadata": {},
   "source": [
    "# Choosing best markets for promotion - Analysis of new coders survey\n",
    "\n",
    "Our goal is to identify the two best countries to advertise e-learning courses on programming. Most of them are on the web and mobile development, but some of them also cover other domains like data science, game development, etc. The raw data available [here](https://github.com/freeCodeCamp/2017-new-coder-survey).\n",
    "\n",
    "We will use data from [freeCodeCamp's 2017 New Coder Survey](https://medium.freecodecamp.org/we-asked-20-000-people-who-they-are-and-how-theyre-learning-to-code-fff5d668969). [freeCodeCamp](https://www.freecodecamp.org) is a free e-learning platform that offers courses on web development. The company runs [a popular Medium publication](https://medium.freecodecamp.org), and their survey attracts our potential customers who might be interested in different topics."
   ]
  },
  {
   "cell_type": "code",
   "execution_count": 1,
   "metadata": {
    "collapsed": true
   },
   "outputs": [],
   "source": [
    "# Importing modules\n",
    "%matplotlib inline\n",
    "import pandas as pd\n",
    "import numpy as np\n",
    "import matplotlib.pyplot as plt\n",
    "\n",
    "# Setting pandas options\n",
    "pd.set_option('max_columns', 150)\n",
    "pd.set_option('max_rows', 100)\n",
    "pd.set_option('max_colwidth', 5000)\n",
    "pd.options.mode.chained_assignment = None  # Remove irrelevant warnings"
   ]
  },
  {
   "cell_type": "markdown",
   "metadata": {},
   "source": [
    "## Getting familiar with the data"
   ]
  },
  {
   "cell_type": "code",
   "execution_count": 2,
   "metadata": {
    "collapsed": false
   },
   "outputs": [
    {
     "name": "stdout",
     "output_type": "stream",
     "text": [
      "(18175, 136)\n",
      "    Age  AttendedBootcamp  BootcampFinish  BootcampLoanYesNo BootcampName  \\\n",
      "0  27.0               0.0             NaN                NaN          NaN   \n",
      "1  34.0               0.0             NaN                NaN          NaN   \n",
      "2  21.0               0.0             NaN                NaN          NaN   \n",
      "3  26.0               0.0             NaN                NaN          NaN   \n",
      "4  20.0               0.0             NaN                NaN          NaN   \n",
      "\n",
      "   BootcampRecommend  ChildrenNumber                 CityPopulation  \\\n",
      "0                NaN             NaN            more than 1 million   \n",
      "1                NaN             NaN              less than 100,000   \n",
      "2                NaN             NaN            more than 1 million   \n",
      "3                NaN             NaN  between 100,000 and 1 million   \n",
      "4                NaN             NaN  between 100,000 and 1 million   \n",
      "\n",
      "   CodeEventConferences  CodeEventDjangoGirls  CodeEventFCC  CodeEventGameJam  \\\n",
      "0                   NaN                   NaN           NaN               NaN   \n",
      "1                   NaN                   NaN           NaN               NaN   \n",
      "2                   NaN                   NaN           NaN               NaN   \n",
      "3                   NaN                   NaN           NaN               NaN   \n",
      "4                   NaN                   NaN           NaN               NaN   \n",
      "\n",
      "   CodeEventGirlDev  CodeEventHackathons  CodeEventMeetup  \\\n",
      "0               NaN                  NaN              NaN   \n",
      "1               NaN                  NaN              NaN   \n",
      "2               NaN                  1.0              NaN   \n",
      "3               NaN                  NaN              NaN   \n",
      "4               NaN                  NaN              NaN   \n",
      "\n",
      "   CodeEventNodeSchool  CodeEventNone CodeEventOther  CodeEventRailsBridge  \\\n",
      "0                  NaN            NaN            NaN                   NaN   \n",
      "1                  NaN            NaN            NaN                   NaN   \n",
      "2                  1.0            NaN            NaN                   NaN   \n",
      "3                  NaN            NaN            NaN                   NaN   \n",
      "4                  NaN            NaN            NaN                   NaN   \n",
      "\n",
      "   CodeEventRailsGirls  CodeEventStartUpWknd  CodeEventWkdBootcamps  \\\n",
      "0                  NaN                   NaN                    NaN   \n",
      "1                  NaN                   NaN                    NaN   \n",
      "2                  NaN                   NaN                    NaN   \n",
      "3                  NaN                   NaN                    NaN   \n",
      "4                  NaN                   NaN                    NaN   \n",
      "\n",
      "   CodeEventWomenCode  CodeEventWorkshops       CommuteTime  \\\n",
      "0                 NaN                 NaN  15 to 29 minutes   \n",
      "1                 NaN                 NaN               NaN   \n",
      "2                 NaN                 NaN  15 to 29 minutes   \n",
      "3                 NaN                 NaN  I work from home   \n",
      "4                 NaN                 NaN               NaN   \n",
      "\n",
      "             CountryCitizen               CountryLive  \\\n",
      "0                    Canada                    Canada   \n",
      "1  United States of America  United States of America   \n",
      "2  United States of America  United States of America   \n",
      "3                    Brazil                    Brazil   \n",
      "4                  Portugal                  Portugal   \n",
      "\n",
      "               EmploymentField EmploymentFieldOther  \\\n",
      "0  software development and IT                  NaN   \n",
      "1                          NaN                  NaN   \n",
      "2  software development and IT                  NaN   \n",
      "3  software development and IT                  NaN   \n",
      "4                          NaN                  NaN   \n",
      "\n",
      "                   EmploymentStatus EmploymentStatusOther  ExpectedEarning  \\\n",
      "0                Employed for wages                   NaN              NaN   \n",
      "1  Not working but looking for work                   NaN          35000.0   \n",
      "2                Employed for wages                   NaN          70000.0   \n",
      "3                Employed for wages                   NaN          40000.0   \n",
      "4  Not working but looking for work                   NaN         140000.0   \n",
      "\n",
      "   FinanciallySupporting  FirstDevJob  Gender GenderOther  HasChildren  \\\n",
      "0                    NaN          NaN  female         NaN          NaN   \n",
      "1                    NaN          NaN    male         NaN          NaN   \n",
      "2                    NaN          NaN    male         NaN          NaN   \n",
      "3                    0.0          NaN    male         NaN          0.0   \n",
      "4                    NaN          NaN  female         NaN          NaN   \n",
      "\n",
      "   HasDebt  HasFinancialDependents  HasHighSpdInternet  HasHomeMortgage  \\\n",
      "0      1.0                     0.0                 1.0              0.0   \n",
      "1      1.0                     0.0                 1.0              0.0   \n",
      "2      0.0                     0.0                 1.0              NaN   \n",
      "3      1.0                     1.0                 1.0              1.0   \n",
      "4      0.0                     0.0                 1.0              NaN   \n",
      "\n",
      "   HasServedInMilitary  HasStudentDebt  HomeMortgageOwe  HoursLearning  \\\n",
      "0                  0.0             0.0              NaN           15.0   \n",
      "1                  0.0             1.0              NaN           10.0   \n",
      "2                  0.0             NaN              NaN           25.0   \n",
      "3                  0.0             0.0          40000.0           14.0   \n",
      "4                  0.0             NaN              NaN           10.0   \n",
      "\n",
      "                               ID.x                              ID.y  \\\n",
      "0  02d9465b21e8bd09374b0066fb2d5614  eb78c1c3ac6cd9052aec557065070fbf   \n",
      "1  5bfef9ecb211ec4f518cfc1d2a6f3e0c  21db37adb60cdcafadfa7dca1b13b6b1   \n",
      "2  14f1863afa9c7de488050b82eb3edd96  21ba173828fbe9e27ccebaf4d5166a55   \n",
      "3  91756eb4dc280062a541c25a3d44cfb0  3be37b558f02daae93a6da10f83f0c77   \n",
      "4  aa3f061a1949a90b27bef7411ecd193f  d7c56bbf2c7b62096be9db010e86d96d   \n",
      "\n",
      "    Income  IsEthnicMinority  IsReceiveDisabilitiesBenefits  IsSoftwareDev  \\\n",
      "0      NaN               NaN                            0.0            0.0   \n",
      "1      NaN               0.0                            0.0            0.0   \n",
      "2  13000.0               1.0                            0.0            0.0   \n",
      "3  24000.0               0.0                            0.0            0.0   \n",
      "4      NaN               0.0                            0.0            0.0   \n",
      "\n",
      "   IsUnderEmployed              JobApplyWhen  JobInterestBackEnd  \\\n",
      "0              0.0                       NaN                 NaN   \n",
      "1              NaN     Within 7 to 12 months                 NaN   \n",
      "2              0.0     Within 7 to 12 months                 1.0   \n",
      "3              1.0  Within the next 6 months                 1.0   \n",
      "4              NaN     Within 7 to 12 months                 1.0   \n",
      "\n",
      "   JobInterestDataEngr  JobInterestDataSci  JobInterestDevOps  \\\n",
      "0                  NaN                 NaN                NaN   \n",
      "1                  NaN                 NaN                NaN   \n",
      "2                  NaN                 NaN                1.0   \n",
      "3                  NaN                 NaN                NaN   \n",
      "4                  NaN                 NaN                NaN   \n",
      "\n",
      "   JobInterestFrontEnd  JobInterestFullStack  JobInterestGameDev  \\\n",
      "0                  NaN                   NaN                 NaN   \n",
      "1                  NaN                   1.0                 NaN   \n",
      "2                  1.0                   1.0                 NaN   \n",
      "3                  1.0                   1.0                 NaN   \n",
      "4                  1.0                   1.0                 NaN   \n",
      "\n",
      "   JobInterestInfoSec  JobInterestMobile JobInterestOther  \\\n",
      "0                 NaN                NaN              NaN   \n",
      "1                 NaN                NaN              NaN   \n",
      "2                 NaN                1.0              NaN   \n",
      "3                 NaN                NaN              NaN   \n",
      "4                 1.0                1.0              NaN   \n",
      "\n",
      "   JobInterestProjMngr  JobInterestQAEngr  JobInterestUX  \\\n",
      "0                  NaN                NaN            NaN   \n",
      "1                  NaN                NaN            NaN   \n",
      "2                  NaN                NaN            NaN   \n",
      "3                  NaN                NaN            NaN   \n",
      "4                  NaN                NaN            NaN   \n",
      "\n",
      "                                JobPref  JobRelocateYesNo  \\\n",
      "0               start your own business               NaN   \n",
      "1                  work for a nonprofit               1.0   \n",
      "2       work for a medium-sized company               1.0   \n",
      "3       work for a medium-sized company               NaN   \n",
      "4  work for a multinational corporation               1.0   \n",
      "\n",
      "                                                                                                         JobRoleInterest  \\\n",
      "0                                                                                                                    NaN   \n",
      "1                                                                                               Full-Stack Web Developer   \n",
      "2     Front-End Web Developer, Back-End Web Developer,   DevOps / SysAdmin,   Mobile Developer, Full-Stack Web Developer   \n",
      "3                                              Front-End Web Developer, Full-Stack Web Developer, Back-End Web Developer   \n",
      "4  Full-Stack Web Developer, Information Security,   Mobile Developer,   Front-End Web Developer, Back-End Web Developer   \n",
      "\n",
      "                         JobWherePref LanguageAtHome  \\\n",
      "0                                 NaN        English   \n",
      "1  in an office with other developers        English   \n",
      "2                       no preference        Spanish   \n",
      "3                           from home     Portuguese   \n",
      "4  in an office with other developers     Portuguese   \n",
      "\n",
      "                     MaritalStatus  MoneyForLearning  MonthsProgramming  \\\n",
      "0  married or domestic partnership             150.0                6.0   \n",
      "1            single, never married              80.0                6.0   \n",
      "2            single, never married            1000.0                5.0   \n",
      "3  married or domestic partnership               0.0                5.0   \n",
      "4            single, never married               0.0               24.0   \n",
      "\n",
      "    NetworkID         Part1EndTime       Part1StartTime         Part2EndTime  \\\n",
      "0  6f1fbc6b2b  2017-03-09 00:36:22  2017-03-09 00:32:59  2017-03-09 00:59:46   \n",
      "1  f8f8be6910  2017-03-09 00:37:07  2017-03-09 00:33:26  2017-03-09 00:38:59   \n",
      "2  2ed189768e  2017-03-09 00:37:58  2017-03-09 00:33:53  2017-03-09 00:40:14   \n",
      "3  dbdc0664d1  2017-03-09 00:40:13  2017-03-09 00:37:45  2017-03-09 00:42:26   \n",
      "4  11b0f2d8a9  2017-03-09 00:42:45  2017-03-09 00:39:44  2017-03-09 00:45:42   \n",
      "\n",
      "        Part2StartTime  PodcastChangeLog  PodcastCodeNewbie  PodcastCodePen  \\\n",
      "0  2017-03-09 00:36:26               NaN                NaN             NaN   \n",
      "1  2017-03-09 00:37:10               NaN                1.0             NaN   \n",
      "2  2017-03-09 00:38:02               1.0                NaN             1.0   \n",
      "3  2017-03-09 00:40:18               NaN                NaN             NaN   \n",
      "4  2017-03-09 00:42:50               NaN                NaN             NaN   \n",
      "\n",
      "   PodcastDevTea  PodcastDotNET  PodcastGiantRobots  PodcastJSAir  \\\n",
      "0            1.0            NaN                 NaN           NaN   \n",
      "1            NaN            NaN                 NaN           NaN   \n",
      "2            NaN            NaN                 NaN           NaN   \n",
      "3            NaN            NaN                 NaN           NaN   \n",
      "4            NaN            NaN                 NaN           NaN   \n",
      "\n",
      "   PodcastJSJabber  PodcastNone PodcastOther  PodcastProgThrowdown  \\\n",
      "0              NaN          NaN          NaN                   NaN   \n",
      "1              NaN          NaN          NaN                   NaN   \n",
      "2              NaN          NaN   Codenewbie                   NaN   \n",
      "3              NaN          NaN          NaN                   NaN   \n",
      "4              NaN          NaN          NaN                   NaN   \n",
      "\n",
      "   PodcastRubyRogues  PodcastSEDaily  PodcastSERadio  PodcastShopTalk  \\\n",
      "0                NaN             NaN             NaN              NaN   \n",
      "1                NaN             NaN             NaN              NaN   \n",
      "2                NaN             NaN             NaN              1.0   \n",
      "3                NaN             NaN             NaN              NaN   \n",
      "4                NaN             NaN             NaN              NaN   \n",
      "\n",
      "   PodcastTalkPython  PodcastTheWebAhead  ResourceCodecademy  \\\n",
      "0                NaN                 NaN                 1.0   \n",
      "1                NaN                 NaN                 1.0   \n",
      "2                NaN                 NaN                 1.0   \n",
      "3                NaN                 NaN                 NaN   \n",
      "4                NaN                 NaN                 NaN   \n",
      "\n",
      "   ResourceCodeWars  ResourceCoursera  ResourceCSS  ResourceEdX  \\\n",
      "0               NaN               NaN          NaN          NaN   \n",
      "1               NaN               NaN          1.0          NaN   \n",
      "2               NaN               NaN          1.0          NaN   \n",
      "3               NaN               NaN          NaN          NaN   \n",
      "4               NaN               NaN          NaN          NaN   \n",
      "\n",
      "   ResourceEgghead  ResourceFCC  ResourceHackerRank  ResourceKA  \\\n",
      "0              NaN          1.0                 NaN         NaN   \n",
      "1              NaN          1.0                 NaN         NaN   \n",
      "2              NaN          1.0                 NaN         NaN   \n",
      "3              1.0          1.0                 NaN         NaN   \n",
      "4              NaN          NaN                 NaN         NaN   \n",
      "\n",
      "   ResourceLynda  ResourceMDN  ResourceOdinProj ResourceOther  \\\n",
      "0            NaN          1.0               NaN           NaN   \n",
      "1            NaN          NaN               NaN           NaN   \n",
      "2            NaN          1.0               NaN           NaN   \n",
      "3            NaN          1.0               NaN           NaN   \n",
      "4            NaN          NaN               NaN           NaN   \n",
      "\n",
      "   ResourcePluralSight  ResourceSkillcrush  ResourceSO  ResourceTreehouse  \\\n",
      "0                  NaN                 NaN         NaN                NaN   \n",
      "1                  NaN                 NaN         1.0                NaN   \n",
      "2                  NaN                 NaN         NaN                NaN   \n",
      "3                  NaN                 NaN         1.0                NaN   \n",
      "4                  NaN                 NaN         1.0                NaN   \n",
      "\n",
      "   ResourceUdacity  ResourceUdemy  ResourceW3S  \\\n",
      "0              NaN            1.0          1.0   \n",
      "1              NaN            1.0          1.0   \n",
      "2              1.0            1.0          NaN   \n",
      "3              NaN            NaN          NaN   \n",
      "4              NaN            NaN          NaN   \n",
      "\n",
      "                              SchoolDegree             SchoolMajor  \\\n",
      "0           some college credit, no degree                     NaN   \n",
      "1           some college credit, no degree                     NaN   \n",
      "2  high school diploma or equivalent (GED)                     NaN   \n",
      "3           some college credit, no degree                     NaN   \n",
      "4                        bachelor's degree  Information Technology   \n",
      "\n",
      "   StudentDebtOwe  YouTubeCodeCourse  YouTubeCodingTrain  YouTubeCodingTut360  \\\n",
      "0             NaN                NaN                 NaN                  NaN   \n",
      "1             NaN                NaN                 NaN                  NaN   \n",
      "2             NaN                NaN                 NaN                  1.0   \n",
      "3             NaN                NaN                 NaN                  NaN   \n",
      "4             NaN                NaN                 NaN                  NaN   \n",
      "\n",
      "   YouTubeComputerphile  YouTubeDerekBanas  YouTubeDevTips  \\\n",
      "0                   NaN                NaN             NaN   \n",
      "1                   NaN                NaN             NaN   \n",
      "2                   NaN                1.0             1.0   \n",
      "3                   NaN                NaN             1.0   \n",
      "4                   NaN                NaN             NaN   \n",
      "\n",
      "   YouTubeEngineeredTruth  YouTubeFCC  YouTubeFunFunFunction  \\\n",
      "0                     NaN         NaN                    NaN   \n",
      "1                     NaN         1.0                    NaN   \n",
      "2                     NaN         NaN                    NaN   \n",
      "3                     NaN         1.0                    1.0   \n",
      "4                     NaN         NaN                    NaN   \n",
      "\n",
      "   YouTubeGoogleDev  YouTubeLearnCode  YouTubeLevelUpTuts  YouTubeMIT  \\\n",
      "0               NaN               NaN                 NaN         NaN   \n",
      "1               NaN               NaN                 NaN         NaN   \n",
      "2               NaN               1.0                 1.0         NaN   \n",
      "3               NaN               NaN                 1.0         NaN   \n",
      "4               NaN               NaN                 NaN         NaN   \n",
      "\n",
      "   YouTubeMozillaHacks YouTubeOther  YouTubeSimplilearn  YouTubeTheNewBoston  \n",
      "0                  NaN          NaN                 NaN                  NaN  \n",
      "1                  NaN          NaN                 NaN                  NaN  \n",
      "2                  NaN          NaN                 NaN                  NaN  \n",
      "3                  NaN          NaN                 NaN                  NaN  \n",
      "4                  NaN          NaN                 NaN                  NaN  \n"
     ]
    },
    {
     "name": "stderr",
     "output_type": "stream",
     "text": [
      "/dataquest/system/env/python3/lib/python3.4/site-packages/IPython/core/interactiveshell.py:2723: DtypeWarning: Columns (17,62) have mixed types. Specify dtype option on import or set low_memory=False.\n",
      "  interactivity=interactivity, compiler=compiler, result=result)\n"
     ]
    }
   ],
   "source": [
    "# Read data into pandas dataframe\n",
    "survey = pd.read_csv('2017-fCC-New-Coders-Survey-Data.csv')\n",
    "\n",
    "# Explore number of rows and columns\n",
    "print(survey.shape)\n",
    "\n",
    "# Look at data structure\n",
    "print(survey.head())"
   ]
  },
  {
   "cell_type": "markdown",
   "metadata": {},
   "source": [
    "Columns that might be usefull for the analysis:\n",
    "- CountryLive;\n",
    "- JobInterestBackEnd;\n",
    "- JobInterestDataEngr;\n",
    "- JobInterestDataSci;\n",
    "- JobInterestDevOps;\n",
    "- JobInterestFrontEnd;\n",
    "- JobInterestFullStack;\n",
    "- JobInterestGameDev;\n",
    "- JobInterestInfoSec;\n",
    "- JobInterestMobile;\n",
    "- JobInterestOther;\n",
    "- JobInterestProjMngr;\n",
    "- JobInterestQAEngr;\n",
    "- JobInterestUX;\n",
    "- JobRoleInterest;\n",
    "- MonthsProgramming;\n",
    "- MoneyForLearning;\n",
    "\n",
    "These columns contain information on:\n",
    "- location of potential leaners;\n",
    "- desired jobs of potential leaners;\n",
    "- experience of respondents;\n",
    "- how much money they are ready to spend on learning;\n",
    "\n",
    "So, based on this we can identify the areas of special interest."
   ]
  },
  {
   "cell_type": "markdown",
   "metadata": {},
   "source": [
    "## Checking sample representativity\n",
    "\n",
    "Before the start we need to ensure that the sample data is representative. We will explore column JobRoleInterest to answer these questions. "
   ]
  },
  {
   "cell_type": "code",
   "execution_count": 3,
   "metadata": {
    "collapsed": false
   },
   "outputs": [
    {
     "data": {
      "text/plain": [
       "Game Developer,   Mobile Developer, Information Security,   User Experience Designer                                                                                                                                                                                        0.000143\n",
       "Information Security,   User Experience Designer, Full-Stack Web Developer, Back-End Web Developer,   Front-End Web Developer                                                                                                                                               0.000143\n",
       "  Mobile Developer,   Product Manager,   Front-End Web Developer, Back-End Web Developer, Full-Stack Web Developer,   Data Scientist, Game Developer,   Quality Assurance Engineer,   User Experience Designer, Information Security, Data Engineer                         0.000143\n",
       "  DevOps / SysAdmin,   Data Scientist, Data Engineer, Back-End Web Developer, Information Security, Full-Stack Web Developer                                                                                                                                                0.000143\n",
       "  Product Manager, Back-End Web Developer, Data Engineer                                                                                                                                                                                                                    0.000143\n",
       "Full-Stack Web Developer,   Mobile Developer,   Front-End Web Developer, Data Engineer, Information Security                                                                                                                                                                0.000143\n",
       "Game Developer, Data Engineer, Full-Stack Web Developer,   Mobile Developer, Information Security                                                                                                                                                                           0.000143\n",
       "Software engineer                                                                                                                                                                                                                                                           0.000143\n",
       "  Front-End Web Developer,   Data Scientist,   User Experience Designer, Teacher                                                                                                                                                                                            0.000143\n",
       "  DevOps / SysAdmin, Full-Stack Web Developer, Back-End Web Developer,   Front-End Web Developer,   Mobile Developer                                                                                                                                                        0.000143\n",
       "Data Engineer,   Data Scientist, Information Security, Game Developer                                                                                                                                                                                                       0.000143\n",
       "Information Security,   DevOps / SysAdmin, Full-Stack Web Developer, Game Developer,   Mobile Developer                                                                                                                                                                     0.000143\n",
       "  User Experience Designer, Information Security,   Mobile Developer,   Product Manager,   Quality Assurance Engineer                                                                                                                                                       0.000143\n",
       "  Front-End Web Developer,   Product Manager,   User Experience Designer, Back-End Web Developer,   DevOps / SysAdmin, Full-Stack Web Developer                                                                                                                             0.000143\n",
       "  Mobile Developer,   Data Scientist, Data Engineer, Back-End Web Developer, Full-Stack Web Developer,   User Experience Designer                                                                                                                                           0.000143\n",
       "  DevOps / SysAdmin,   Front-End Web Developer, Full-Stack Web Developer, Back-End Web Developer,   Mobile Developer, Game Developer                                                                                                                                        0.000143\n",
       "Full-Stack Web Developer,   Mobile Developer,   Front-End Web Developer,   Quality Assurance Engineer                                                                                                                                                                       0.000143\n",
       "  Mobile Developer,   Front-End Web Developer, Full-Stack Web Developer, Game Developer, Back-End Web Developer                                                                                                                                                             0.000143\n",
       "Game Developer, Information Security, Full-Stack Web Developer, Back-End Web Developer                                                                                                                                                                                      0.000143\n",
       "Data Engineer, Information Security,   DevOps / SysAdmin,   Data Scientist,   Front-End Web Developer, Full-Stack Web Developer                                                                                                                                             0.000143\n",
       "Game Developer, Programmer                                                                                                                                                                                                                                                  0.000143\n",
       "  Front-End Web Developer, Back-End Web Developer, Full-Stack Web Developer,   Mobile Developer,   Data Scientist, Information Security                                                                                                                                     0.000143\n",
       "  Front-End Web Developer, Back-End Web Developer,   Product Manager,   User Experience Designer, Full-Stack Web Developer                                                                                                                                                  0.000143\n",
       "  Front-End Web Developer, Full-Stack Web Developer,   Data Scientist,   Product Manager, Back-End Web Developer,   Mobile Developer                                                                                                                                        0.000143\n",
       "  Mobile Developer,   Data Scientist,   Front-End Web Developer, Back-End Web Developer                                                                                                                                                                                     0.000143\n",
       "Back-End Web Developer, Data Engineer, Full-Stack Web Developer,   Data Scientist, System Software                                                                                                                                                                          0.000143\n",
       "  User Experience Designer, Back-End Web Developer,   Mobile Developer, Full-Stack Web Developer,   Front-End Web Developer                                                                                                                                                 0.000143\n",
       "  Mobile Developer,   Front-End Web Developer, Full-Stack Web Developer, Back-End Web Developer                                                                                                                                                                             0.000143\n",
       "  Mobile Developer, Game Developer,   Product Manager, Full-Stack Web Developer,   Quality Assurance Engineer                                                                                                                                                               0.000143\n",
       "  Front-End Web Developer,   Data Scientist, Data Engineer, Information Security, Full-Stack Web Developer,   Mobile Developer                                                                                                                                              0.000143\n",
       "  Front-End Web Developer,   Data Scientist, Back-End Web Developer, Data Engineer                                                                                                                                                                                          0.000143\n",
       "Back-End Web Developer, Game Developer, Full-Stack Web Developer,   Front-End Web Developer,   DevOps / SysAdmin                                                                                                                                                            0.000143\n",
       "  Data Scientist, Full-Stack Web Developer, Back-End Web Developer, Information Security                                                                                                                                                                                    0.000143\n",
       "  Front-End Web Developer,   User Experience Designer, Full-Stack Web Developer,   Mobile Developer, Back-End Web Developer                                                                                                                                                 0.000143\n",
       "  User Experience Designer,   Front-End Web Developer,   Data Scientist, Data Engineer, Full-Stack Web Developer,   Mobile Developer, Back-End Web Developer                                                                                                                0.000143\n",
       "  Data Scientist, Data Engineer,   Mobile Developer, Full-Stack Web Developer                                                                                                                                                                                               0.000143\n",
       "  User Experience Designer, Game Developer,   Mobile Developer,   DevOps / SysAdmin,   Front-End Web Developer,   Quality Assurance Engineer, Full-Stack Web Developer, Information Security, Back-End Web Developer                                                        0.000143\n",
       "Game Developer,   Data Scientist, Full-Stack Web Developer                                                                                                                                                                                                                  0.000143\n",
       "Full-Stack Web Developer,   Front-End Web Developer, Back-End Web Developer,   User Experience Designer,   Product Manager,   Mobile Developer                                                                                                                              0.000143\n",
       "  DevOps / SysAdmin,   Data Scientist,   Front-End Web Developer,   Product Manager, Full-Stack Web Developer,   Mobile Developer, Back-End Web Developer, Game Developer                                                                                                   0.000143\n",
       "  Front-End Web Developer,   Data Scientist,   Product Manager, Full-Stack Web Developer, Back-End Web Developer                                                                                                                                                            0.000143\n",
       "Back-End Web Developer, Information Security,   Front-End Web Developer,   DevOps / SysAdmin, Game Developer                                                                                                                                                                0.000143\n",
       "Full-Stack Web Developer, Information Security,   Mobile Developer                                                                                                                                                                                                          0.000143\n",
       "  Front-End Web Developer, Game Developer,   User Experience Designer, Back-End Web Developer, Full-Stack Web Developer                                                                                                                                                     0.000143\n",
       "Full-Stack Web Developer, Back-End Web Developer,   Mobile Developer,   User Experience Designer,   Product Manager, Game Developer,   Quality Assurance Engineer, Data Engineer, Information Security,   DevOps / SysAdmin,   Front-End Web Developer,   Data Scientist    0.000143\n",
       "Data Engineer, Information Security,   DevOps / SysAdmin, Game Developer                                                                                                                                                                                                    0.000143\n",
       "  DevOps / SysAdmin, Game Developer,   User Experience Designer, Data Engineer, Information Security,   Data Scientist, Full-Stack Web Developer, Back-End Web Developer                                                                                                    0.000143\n",
       "  Front-End Web Developer,   Product Manager, Full-Stack Web Developer,   Data Scientist,   User Experience Designer                                                                                                                                                        0.000143\n",
       "  Quality Assurance Engineer,   DevOps / SysAdmin,   Front-End Web Developer, Full-Stack Web Developer                                                                                                                                                                      0.000143\n",
       "Information Security, Game Developer,   DevOps / SysAdmin                                                                                                                                                                                                                   0.000143\n",
       "                                                                                                                                                                                                                                                                              ...   \n",
       "Full-Stack Web Developer, Back-End Web Developer,   Mobile Developer,   Front-End Web Developer                                                                                                                                                                             0.001287\n",
       "Full-Stack Web Developer,   DevOps / SysAdmin                                                                                                                                                                                                                               0.001287\n",
       "  Data Scientist, Back-End Web Developer                                                                                                                                                                                                                                    0.001430\n",
       "  Front-End Web Developer,   Mobile Developer, Full-Stack Web Developer                                                                                                                                                                                                     0.001430\n",
       "  Front-End Web Developer, Back-End Web Developer                                                                                                                                                                                                                           0.001430\n",
       "Game Developer, Full-Stack Web Developer,   Mobile Developer                                                                                                                                                                                                                0.001430\n",
       "Full-Stack Web Developer,   Mobile Developer,   Front-End Web Developer                                                                                                                                                                                                     0.001430\n",
       "  Mobile Developer,   Front-End Web Developer, Full-Stack Web Developer                                                                                                                                                                                                     0.001430\n",
       "Full-Stack Web Developer, Information Security                                                                                                                                                                                                                              0.001573\n",
       "  Mobile Developer, Game Developer, Full-Stack Web Developer                                                                                                                                                                                                                0.001573\n",
       "Game Developer,   Mobile Developer                                                                                                                                                                                                                                          0.001716\n",
       "  Front-End Web Developer, Full-Stack Web Developer,   Mobile Developer                                                                                                                                                                                                     0.001716\n",
       "  Mobile Developer, Full-Stack Web Developer                                                                                                                                                                                                                                0.002002\n",
       "  Quality Assurance Engineer                                                                                                                                                                                                                                                0.002145\n",
       "  Mobile Developer,   Front-End Web Developer                                                                                                                                                                                                                               0.002145\n",
       "Full-Stack Web Developer, Game Developer                                                                                                                                                                                                                                    0.002145\n",
       "  User Experience Designer,   Front-End Web Developer, Full-Stack Web Developer                                                                                                                                                                                             0.002145\n",
       "  Data Scientist, Full-Stack Web Developer                                                                                                                                                                                                                                  0.002145\n",
       "  User Experience Designer, Full-Stack Web Developer,   Front-End Web Developer                                                                                                                                                                                             0.002145\n",
       "Game Developer,   Front-End Web Developer                                                                                                                                                                                                                                   0.002145\n",
       "  Mobile Developer, Game Developer                                                                                                                                                                                                                                          0.002288\n",
       "  Data Scientist, Data Engineer                                                                                                                                                                                                                                             0.002288\n",
       "Full-Stack Web Developer,   Data Scientist                                                                                                                                                                                                                                  0.002431\n",
       "  Front-End Web Developer,   Mobile Developer                                                                                                                                                                                                                               0.002574\n",
       "Full-Stack Web Developer, Back-End Web Developer,   Front-End Web Developer                                                                                                                                                                                                 0.002717\n",
       "Data Engineer,   Data Scientist                                                                                                                                                                                                                                             0.002717\n",
       "Back-End Web Developer,   Front-End Web Developer                                                                                                                                                                                                                           0.002860\n",
       "Full-Stack Web Developer, Back-End Web Developer                                                                                                                                                                                                                            0.003719\n",
       "Back-End Web Developer, Full-Stack Web Developer                                                                                                                                                                                                                            0.003862\n",
       "Full-Stack Web Developer,   Mobile Developer                                                                                                                                                                                                                                0.004148\n",
       "  Front-End Web Developer,   User Experience Designer                                                                                                                                                                                                                       0.004148\n",
       "  Front-End Web Developer, Full-Stack Web Developer, Back-End Web Developer                                                                                                                                                                                                 0.004291\n",
       "Full-Stack Web Developer,   Front-End Web Developer, Back-End Web Developer                                                                                                                                                                                                 0.004434\n",
       "Back-End Web Developer,   Front-End Web Developer, Full-Stack Web Developer                                                                                                                                                                                                 0.005149\n",
       "  DevOps / SysAdmin                                                                                                                                                                                                                                                         0.005149\n",
       "Back-End Web Developer, Full-Stack Web Developer,   Front-End Web Developer                                                                                                                                                                                                 0.005149\n",
       "  Front-End Web Developer, Back-End Web Developer, Full-Stack Web Developer                                                                                                                                                                                                 0.005578\n",
       "  User Experience Designer,   Front-End Web Developer                                                                                                                                                                                                                       0.006150\n",
       "  User Experience Designer                                                                                                                                                                                                                                                  0.007437\n",
       "Data Engineer                                                                                                                                                                                                                                                               0.007580\n",
       "  Product Manager                                                                                                                                                                                                                                                           0.007866\n",
       "  Front-End Web Developer, Full-Stack Web Developer                                                                                                                                                                                                                         0.008009\n",
       "Full-Stack Web Developer,   Front-End Web Developer                                                                                                                                                                                                                         0.009153\n",
       "Information Security                                                                                                                                                                                                                                                        0.013158\n",
       "Game Developer                                                                                                                                                                                                                                                              0.016304\n",
       "  Mobile Developer                                                                                                                                                                                                                                                          0.016733\n",
       "Back-End Web Developer                                                                                                                                                                                                                                                      0.020309\n",
       "  Data Scientist                                                                                                                                                                                                                                                            0.021739\n",
       "  Front-End Web Developer                                                                                                                                                                                                                                                   0.064359\n",
       "Full-Stack Web Developer                                                                                                                                                                                                                                                    0.117706\n",
       "Name: JobRoleInterest, Length: 3213, dtype: float64"
      ]
     },
     "execution_count": 3,
     "metadata": {},
     "output_type": "execute_result"
    }
   ],
   "source": [
    "# Generate a frequency distribution table\n",
    "survey['JobRoleInterest'].value_counts(\n",
    "    normalize=True).sort_values()"
   ]
  },
  {
   "cell_type": "markdown",
   "metadata": {},
   "source": [
    "We can see from the data that most of the leaners are interested in several subjects. The sample is still representative as people can be interested in more than one subjects.\n",
    "\n",
    "Let's explore the following questions:\n",
    "- which subjects are in the data set?\n",
    "- how many people are interested in one subject vs several subjects?\n",
    "- how many people are interested in each subject?\n",
    "\n",
    "The dataset contains columns like 'JobInterestBackEnd' which reveal the respondent's interest in a particular subject. So, we have the following subjects (the 'JobInterest' part is omitted for each column name):\n",
    "- BackEnd - Back-End Web Developer;\n",
    "- DataEngr - Data Engineer;\n",
    "- DataSci - Data Scientist;\n",
    "- DevOps - DevOps / SysAdmin;\n",
    "- FrontEnd - Front-End Web Developer;\n",
    "- FullStack - Full-Stack Web Developer;\n",
    "- GameDev - Game Developer;\n",
    "- InfoSec - Information Security;\n",
    "- Mobile - Mobile Developer;\n",
    "- Other - self-explanatory;\n",
    "- ProjMngr - Product Manager;\n",
    "- QAEngr - Quality Assurance Engineer;\n",
    "- UX - User Experience Designer;\n",
    "\n",
    "We answer the remaining questions now. To make the work easier we will generate separate dataset which contains specified columns."
   ]
  },
  {
   "cell_type": "code",
   "execution_count": 4,
   "metadata": {
    "collapsed": false
   },
   "outputs": [
    {
     "name": "stdout",
     "output_type": "stream",
     "text": [
      "       BackEnd  DataEngr  DataSci  DevOps  FrontEnd  FullStack  GameDev  \\\n",
      "15555      NaN       NaN      NaN     NaN       NaN        NaN      NaN   \n",
      "7715       NaN       1.0      1.0     NaN       NaN        NaN      1.0   \n",
      "153        NaN       NaN      NaN     NaN       1.0        1.0      NaN   \n",
      "7463       NaN       NaN      NaN     NaN       NaN        NaN      NaN   \n",
      "272        NaN       NaN      NaN     NaN       NaN        NaN      NaN   \n",
      "17894      1.0       1.0      1.0     NaN       1.0        1.0      1.0   \n",
      "6840       NaN       NaN      NaN     NaN       NaN        NaN      NaN   \n",
      "11713      NaN       NaN      NaN     NaN       NaN        NaN      NaN   \n",
      "7182       NaN       NaN      NaN     NaN       NaN        1.0      NaN   \n",
      "15289      NaN       NaN      NaN     NaN       NaN        NaN      NaN   \n",
      "\n",
      "       InfoSec  Mobile Other  ProjMngr  QAEngr   UX  \\\n",
      "15555      NaN     NaN   NaN       NaN     NaN  NaN   \n",
      "7715       1.0     NaN   NaN       NaN     NaN  NaN   \n",
      "153        NaN     1.0   NaN       NaN     NaN  1.0   \n",
      "7463       NaN     NaN   NaN       NaN     NaN  NaN   \n",
      "272        NaN     NaN   NaN       NaN     NaN  NaN   \n",
      "17894      NaN     NaN   NaN       NaN     NaN  NaN   \n",
      "6840       NaN     NaN   NaN       NaN     NaN  NaN   \n",
      "11713      NaN     NaN   NaN       NaN     NaN  NaN   \n",
      "7182       NaN     NaN   NaN       NaN     NaN  NaN   \n",
      "15289      NaN     NaN   NaN       NaN     NaN  NaN   \n",
      "\n",
      "                                                                                                                       RoleInterest  \\\n",
      "15555                                                                                                                           NaN   \n",
      "7715                                                          Data Engineer,   Data Scientist, Information Security, Game Developer   \n",
      "153                             Full-Stack Web Developer,   User Experience Designer,   Mobile Developer,   Front-End Web Developer   \n",
      "7463                                                                                                                            NaN   \n",
      "272                                                                                                                             NaN   \n",
      "17894  Full-Stack Web Developer, Data Engineer,   Front-End Web Developer, Game Developer,   Data Scientist, Back-End Web Developer   \n",
      "6840                                                                                                                            NaN   \n",
      "11713                                                                                                                           NaN   \n",
      "7182                                                                                                       Full-Stack Web Developer   \n",
      "15289                                                                                                                           NaN   \n",
      "\n",
      "       NumSub  \n",
      "15555     0.0  \n",
      "7715      4.0  \n",
      "153       4.0  \n",
      "7463      0.0  \n",
      "272       0.0  \n",
      "17894     6.0  \n",
      "6840      0.0  \n",
      "11713     0.0  \n",
      "7182      1.0  \n",
      "15289     0.0  \n"
     ]
    }
   ],
   "source": [
    "# Create a list of columns of interest and separate dataset\n",
    "columns = ['CountryLive',\n",
    "           'JobInterestBackEnd',\n",
    "           'JobInterestDataEngr',\n",
    "           'JobInterestDataSci',\n",
    "           'JobInterestDevOps',\n",
    "           'JobInterestFrontEnd',\n",
    "           'JobInterestFullStack',\n",
    "           'JobInterestGameDev',\n",
    "           'JobInterestInfoSec',\n",
    "           'JobInterestMobile',\n",
    "           'JobInterestOther',\n",
    "           'JobInterestProjMngr',\n",
    "           'JobInterestQAEngr',\n",
    "           'JobInterestUX',\n",
    "           'JobRoleInterest',\n",
    "           'MonthsProgramming',\n",
    "           'MoneyForLearning']\n",
    "\n",
    "jobs = survey[columns]\n",
    "\n",
    "#Rename some columns\n",
    "new_columns = ['CountryLive',\n",
    "           'BackEnd',\n",
    "           'DataEngr',\n",
    "           'DataSci',\n",
    "           'DevOps',\n",
    "           'FrontEnd',\n",
    "           'FullStack',\n",
    "           'GameDev',\n",
    "           'InfoSec',\n",
    "           'Mobile',\n",
    "           'Other',\n",
    "           'ProjMngr',\n",
    "           'QAEngr',\n",
    "           'UX',\n",
    "           'RoleInterest',\n",
    "           'MonthsProgramming',\n",
    "           'MoneyForLearning']\n",
    "jobs.columns = new_columns\n",
    "\n",
    "# Create a column with a number of subject a person is\n",
    "# interested in\n",
    "jobs['NumSub'] = jobs[['BackEnd', 'DataEngr',\n",
    "                                'DataSci', 'DevOps',\n",
    "                                'FrontEnd', 'FullStack',\n",
    "                                'GameDev', 'InfoSec',\n",
    "                                'Mobile', 'Other',\n",
    "                                'ProjMngr', 'QAEngr',\n",
    "                                'UX']].sum(axis=1)\n",
    "\n",
    "# Sample 10 rows randomly to check consistency of the data\n",
    "sample = jobs[['BackEnd', 'DataEngr',\n",
    "               'DataSci', 'DevOps',\n",
    "               'FrontEnd', 'FullStack',\n",
    "               'GameDev', 'InfoSec',\n",
    "               'Mobile', 'Other',\n",
    "               'ProjMngr', 'QAEngr',\n",
    "               'UX', 'RoleInterest',\n",
    "               'NumSub']].sample(10, random_state=1)\n",
    "print(sample)"
   ]
  },
  {
   "cell_type": "markdown",
   "metadata": {},
   "source": [
    "We can see that the number of subject in RoleInterest column is consistent with NumSub one. We also observed that some rows contain nan values. We will remove these rows and create a bar chart to visualize the difference in a number of subjects."
   ]
  },
  {
   "cell_type": "code",
   "execution_count": 5,
   "metadata": {
    "collapsed": false
   },
   "outputs": [
    {
     "data": {
      "text/plain": [
       "<matplotlib.text.Text at 0x7f7621f397f0>"
      ]
     },
     "execution_count": 5,
     "metadata": {},
     "output_type": "execute_result"
    },
    {
     "data": {
      "image/png": "[encoded data removed]",
      "text/plain": [
       "<matplotlib.figure.Figure at 0x7f7622a115c0>"
      ]
     },
     "metadata": {},
     "output_type": "display_data"
    }
   ],
   "source": [
    "# Remove rows with nan values\n",
    "jobs.dropna(how='any', subset=['RoleInterest', 'NumSub'],\n",
    "            inplace=True)\n",
    "\n",
    "# Create Pandas series which contains number of people\n",
    "# who are interested in one subject and who are interested\n",
    "# in more than 1\n",
    "pd.Series(\n",
    "    {\n",
    "        '1': jobs['NumSub'][jobs['NumSub'] == 1].count(),\n",
    "        '>1': jobs['NumSub'][jobs['NumSub'] > 1].count()\n",
    "    }\n",
    ").plot.bar(ylim=(0, 6000), rot=0)\n",
    "\n",
    "# Set title\n",
    "plt.title('Number of subjects people are interedted in',\n",
    "         y=1.02)\n"
   ]
  },
  {
   "cell_type": "markdown",
   "metadata": {},
   "source": [
    "It's a quite common that people interested more the one subject."
   ]
  },
  {
   "cell_type": "markdown",
   "metadata": {},
   "source": [
    "## Finding the number of people interested in each subject\n",
    "\n",
    "We will generate a bar chart to answer this question. We will skip column 'Other' as it contains only 227 non-null values and would not significantly impact on the analysis."
   ]
  },
  {
   "cell_type": "code",
   "execution_count": 6,
   "metadata": {
    "collapsed": false
   },
   "outputs": [
    {
     "data": {
      "text/plain": [
       "<matplotlib.axes._subplots.AxesSubplot at 0x7f76229bfb00>"
      ]
     },
     "execution_count": 6,
     "metadata": {},
     "output_type": "execute_result"
    },
    {
     "data": {
      "image/png": "[encoded data removed]",
      "text/plain": [
       "<matplotlib.figure.Figure at 0x7f7622a03e80>"
      ]
     },
     "metadata": {},
     "output_type": "display_data"
    }
   ],
   "source": [
    "columns_of_interest = ['BackEnd', 'DataEngr', 'DataSci',\n",
    "                       'DevOps', 'FrontEnd', 'FullStack',\n",
    "                       'GameDev', 'InfoSec', 'Mobile',\n",
    "                       'ProjMngr', 'QAEngr', 'UX']\n",
    "\n",
    "# Create a dictionary which contains number of people who\n",
    "# are interested in particular subject\n",
    "data = {}\n",
    "for col in columns_of_interest:\n",
    "    data[col] = jobs[col].sum()\n",
    "\n",
    "# Create Pandas series to store the data and\n",
    "# horizontal generate bar chart\n",
    "data = pd.Series(data).sort_values()\n",
    "data.plot.barh(title='Number of people interested in each subject')"
   ]
  },
  {
   "cell_type": "markdown",
   "metadata": {},
   "source": [
    "The majority of learners are interested in web development and mobile development. We can conclude that:\n",
    "- the majority of people are interested in several subjects;\n",
    "- the data contains information on a wide range of subjects. But, it might be biased towards web development, because freeCodeCamp course is focused on this subject.\n",
    "\n",
    "We can consider this sample as representative."
   ]
  },
  {
   "cell_type": "markdown",
   "metadata": {},
   "source": [
    "## Identify the best countries for advertising\n",
    "\n",
    "We will look at how the potential customers are distributed among each country and display the top 10 of them."
   ]
  },
  {
   "cell_type": "code",
   "execution_count": 7,
   "metadata": {
    "collapsed": false
   },
   "outputs": [
    {
     "data": {
      "text/plain": [
       "United States of America    0.457005\n",
       "India                       0.077216\n",
       "United Kingdom              0.046066\n",
       "Canada                      0.038023\n",
       "Poland                      0.019158\n",
       "Brazil                      0.018865\n",
       "Germany                     0.018280\n",
       "Australia                   0.016379\n",
       "Russia                      0.014917\n",
       "Ukraine                     0.013016\n",
       "Name: CountryLive, dtype: float64"
      ]
     },
     "execution_count": 7,
     "metadata": {},
     "output_type": "execute_result"
    }
   ],
   "source": [
    "# Generate a frequency distribution table\n",
    "# for CountryLive columns\n",
    "jobs['CountryLive'].value_counts(normalize=True).head(10)"
   ]
  },
  {
   "cell_type": "markdown",
   "metadata": {},
   "source": [
    "We can see countries with the highest percentages of customers. Based on these results we should choose USA and India to advertise our products.\n",
    "\n",
    "But, our choice should be based on learners willingness to pay for the learning. The MoneyForLearning column describes in the amount of money spent by participants from the moment they started coding until the moment they completed the survey.\n",
    "\n",
    "Our company offers a monthly subscription. So, we need to figure out how much money each learner have spent per month. \n",
    "\n",
    "We are also going to focus our analysis on USA, India, United Kingdom, and Canada. The reasons for this are:\n",
    "- these countries have the highest absolute frequencies in our sample;\n",
    "- our products are in English and English is an official language in all these four countries."
   ]
  },
  {
   "cell_type": "code",
   "execution_count": 8,
   "metadata": {
    "collapsed": false
   },
   "outputs": [
    {
     "name": "stdout",
     "output_type": "stream",
     "text": [
      "CountryLive\n",
      "United States of America    227.997996\n",
      "India                       135.100982\n",
      "United Kingdom               45.534443\n",
      "Canada                      113.510961\n",
      "Name: MoneyPerMonth, dtype: float64\n"
     ]
    }
   ],
   "source": [
    "# Replace 0 to 1 in order to avoid zero division\n",
    "jobs['MonthsProgramming'].replace(0, 1, inplace=True)\n",
    "\n",
    "# Create a column with average monthly spending\n",
    "# on learning\n",
    "jobs['MoneyPerMonth'] = (jobs['MoneyForLearning'] /\n",
    "                         jobs['MonthsProgramming'])\n",
    "\n",
    "# Drop rows where columns MoneyPerMonth and CountryLive\n",
    "# are nan\n",
    "jobs.dropna(how='any',\n",
    "            subset=['MoneyPerMonth', 'CountryLive'],\n",
    "            inplace=True)\n",
    "\n",
    "# Display data on choosen countries\n",
    "data = (jobs[['CountryLive', 'MoneyPerMonth']]\n",
    "        .groupby(by='CountryLive')\n",
    "        .mean()\n",
    "        .sort_values('MoneyPerMonth', ascending=False))\n",
    "\n",
    "print(data['MoneyPerMonth'][['United States of America',\n",
    "           'India', 'United Kingdom',\n",
    "           'Canada']])"
   ]
  },
  {
   "cell_type": "markdown",
   "metadata": {},
   "source": [
    "Let's consider [GDP per capita](https://en.wikipedia.org/wiki/List_of_countries_by_GDP_(nominal) for each country on 2017 (places):\n",
    "- US - 7;\n",
    "- India - 22;\n",
    "- UK - 139;\n",
    "- Canada - 16;\n",
    "\n",
    "The results for India, Canada, and the UK look a bit surprising. We can assume that there are some outliers in our data which influence the mean. Or the data is not representative enough. Let's explore this more carefully."
   ]
  },
  {
   "cell_type": "markdown",
   "metadata": {},
   "source": [
    "## Explore distribution of monthly spending on learning\n",
    "\n",
    "We will create a box plot for each country to identify the existence of the outliers. "
   ]
  },
  {
   "cell_type": "code",
   "execution_count": 9,
   "metadata": {
    "collapsed": false
   },
   "outputs": [
    {
     "data": {
      "image/png": "[encoded data removed]",
      "text/plain": [
       "<matplotlib.figure.Figure at 0x7f76229806d8>"
      ]
     },
     "metadata": {},
     "output_type": "display_data"
    },
    {
     "data": {
      "image/png": "[encoded data removed]",
      "text/plain": [
       "<matplotlib.figure.Figure at 0x7f76228a3908>"
      ]
     },
     "metadata": {},
     "output_type": "display_data"
    },
    {
     "data": {
      "image/png": "[encoded data removed]",
      "text/plain": [
       "<matplotlib.figure.Figure at 0x7f76228effd0>"
      ]
     },
     "metadata": {},
     "output_type": "display_data"
    },
    {
     "data": {
      "image/png": "[encoded data removed]",
      "text/plain": [
       "<matplotlib.figure.Figure at 0x7f76228d7588>"
      ]
     },
     "metadata": {},
     "output_type": "display_data"
    }
   ],
   "source": [
    "# Display box plot for each country\n",
    "for country in ['United States of America',\n",
    "           'India', 'United Kingdom',\n",
    "           'Canada']:\n",
    "    plt.boxplot(\n",
    "        jobs[jobs['CountryLive'] == country][\n",
    "            'MoneyPerMonth'].values)\n",
    "    plt.title(country)\n",
    "    plt.show()"
   ]
  },
  {
   "cell_type": "markdown",
   "metadata": {},
   "source": [
    "There is a bunch of outliers for each country. We will now remove outliers and recalculate the mean for each country. "
   ]
  },
  {
   "cell_type": "code",
   "execution_count": 10,
   "metadata": {
    "collapsed": false
   },
   "outputs": [
    {
     "name": "stdout",
     "output_type": "stream",
     "text": [
      "Canada                       62.363676\n",
      "India                        65.758763\n",
      "United Kingdom               25.245838\n",
      "United States of America    142.654608\n",
      "dtype: float64\n"
     ]
    }
   ],
   "source": [
    "# Define function which will remove outliers\n",
    "def remove_outliers(dataset, column):\n",
    "    return dataset[\n",
    "        np.abs(dataset[column] - dataset[column].mean()\n",
    "              ) <= 3*dataset[column].std()]\n",
    "\n",
    "# Remove outliers and recalculate the mean for each country\n",
    "means = {}\n",
    "for c in ['United States of America', 'India',\n",
    "          'United Kingdom', 'Canada']:\n",
    "    means[c] = remove_outliers(\n",
    "        jobs[jobs['CountryLive'] == c],\n",
    "        'MoneyPerMonth')['MoneyPerMonth'].mean()\n",
    "print(pd.Series(means))"
   ]
  },
  {
   "cell_type": "markdown",
   "metadata": {},
   "source": [
    "Based on this data we should choose the USA as one market to advertise our product. But, the second choice is not so clear. The means for Canada and India are close, so it is not obvious which market to choose. Let's take a look at the absolute and relative number of customers in the USA, Canada, and India. "
   ]
  },
  {
   "cell_type": "code",
   "execution_count": 11,
   "metadata": {
    "collapsed": false
   },
   "outputs": [
    {
     "name": "stdout",
     "output_type": "stream",
     "text": [
      "                             0         1\n",
      "United States of America  2920  0.808416\n",
      "India                      457  0.126523\n",
      "Canada                     235  0.065061\n"
     ]
    }
   ],
   "source": [
    "# Find the number of customers for each country\n",
    "# and excluding outliers\n",
    "customers = {}\n",
    "for c in ['United States of America', 'India', 'Canada']:\n",
    "    customers[c] = remove_outliers(\n",
    "    jobs[jobs['CountryLive'] == c],\n",
    "        'MoneyPerMonth')['MoneyPerMonth'].count()\n",
    "\n",
    "# Find the percentage of customer for each country\n",
    "# and display dataframe\n",
    "total = sum(customers.values())\n",
    "for key in customers.keys():\n",
    "    customers[key] = [customers[key],\n",
    "                     customers[key] / total]\n",
    "print(pd.DataFrame.from_dict(data=customers,\n",
    "                            orient='index'))"
   ]
  },
  {
   "cell_type": "markdown",
   "metadata": {},
   "source": [
    "We see that the potential customers are splitted between countries:\n",
    "- 81% for USA;\n",
    "- 13% for India;\n",
    "- 6% for Canada;\n",
    "\n",
    "So, the final proposal is to split the promotion budget accordingly. "
   ]
  },
  {
   "cell_type": "markdown",
   "metadata": {},
   "source": [
    "# Conclusion\n",
    "\n",
    "The aim of the project was to find the two best countries to advertise e-learning courses on programming. We used freeCodeCamp survey data to identify target countries. First, we checked representativity of the sample and next find the means for each country. \n",
    "\n",
    "We found that:\n",
    "- most of the learners are interested in several subjects;\n",
    "- the majority of learners are interested in web and mobile development;\n",
    "- the best countries to advertise our product is USA, India, and Canada;\n",
    "- we propose to split advertising budget 81%/13%/6% for USA/India/Canada based on the number of customers in each country."
   ]
  }
 ],
 "metadata": {
  "kernelspec": {
   "display_name": "Python 3",
   "language": "python",
   "name": "python3"
  },
  "language_info": {
   "codemirror_mode": {
    "name": "ipython",
    "version": 3
   },
   "file_extension": ".py",
   "mimetype": "text/x-python",
   "name": "python",
   "nbconvert_exporter": "python",
   "pygments_lexer": "ipython3",
   "version": "3.4.3"
  }
 },
 "nbformat": 4,
 "nbformat_minor": 2
}
