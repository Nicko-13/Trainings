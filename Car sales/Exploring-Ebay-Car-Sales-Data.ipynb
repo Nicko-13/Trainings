{
 "cells": [
  {
   "cell_type": "markdown",
   "metadata": {
    "collapsed": true
   },
   "source": [
    "The aim of the project is to practice data cleaning techniques and conduct basic analysis of included used car listing. The following analysis will be conducted:\n",
    "- dependence of price from a brand;\n",
    "- the most common brand/model combination;\n",
    "- dependence of a price from a mileage;\n",
    "- dependence of a price from a damage;"
   ]
  },
  {
   "cell_type": "code",
   "execution_count": 1,
   "metadata": {
    "collapsed": true
   },
   "outputs": [],
   "source": [
    "import numpy as np\n",
    "import pandas as pd"
   ]
  },
  {
   "cell_type": "code",
   "execution_count": 2,
   "metadata": {
    "collapsed": false
   },
   "outputs": [
    {
     "name": "stdout",
     "output_type": "stream",
     "text": [
      "<class 'pandas.core.frame.DataFrame'>\n",
      "RangeIndex: 50000 entries, 0 to 49999\n",
      "Data columns (total 20 columns):\n",
      "dateCrawled            50000 non-null object\n",
      "name                   50000 non-null object\n",
      "seller                 50000 non-null object\n",
      "offerType              50000 non-null object\n",
      "price                  50000 non-null object\n",
      "abtest                 50000 non-null object\n",
      "vehicleType            44905 non-null object\n",
      "yearOfRegistration     50000 non-null int64\n",
      "gearbox                47320 non-null object\n",
      "powerPS                50000 non-null int64\n",
      "model                  47242 non-null object\n",
      "odometer               50000 non-null object\n",
      "monthOfRegistration    50000 non-null int64\n",
      "fuelType               45518 non-null object\n",
      "brand                  50000 non-null object\n",
      "notRepairedDamage      40171 non-null object\n",
      "dateCreated            50000 non-null object\n",
      "nrOfPictures           50000 non-null int64\n",
      "postalCode             50000 non-null int64\n",
      "lastSeen               50000 non-null object\n",
      "dtypes: int64(5), object(15)\n",
      "memory usage: 7.6+ MB\n",
      "None\n",
      "                dateCrawled         name  seller offerType  price abtest  \\\n",
      "count                 50000        50000   50000     50000  50000  50000   \n",
      "unique                48213        38754       2         2   2357      2   \n",
      "top     2016-03-09 11:54:38  Ford_Fiesta  privat   Angebot     $0   test   \n",
      "freq                      3           78   49999     49999   1421  25756   \n",
      "mean                    NaN          NaN     NaN       NaN    NaN    NaN   \n",
      "std                     NaN          NaN     NaN       NaN    NaN    NaN   \n",
      "min                     NaN          NaN     NaN       NaN    NaN    NaN   \n",
      "25%                     NaN          NaN     NaN       NaN    NaN    NaN   \n",
      "50%                     NaN          NaN     NaN       NaN    NaN    NaN   \n",
      "75%                     NaN          NaN     NaN       NaN    NaN    NaN   \n",
      "max                     NaN          NaN     NaN       NaN    NaN    NaN   \n",
      "\n",
      "       vehicleType  yearOfRegistration  gearbox       powerPS  model  \\\n",
      "count        44905        50000.000000    47320  50000.000000  47242   \n",
      "unique           8                 NaN        2           NaN    245   \n",
      "top      limousine                 NaN  manuell           NaN   golf   \n",
      "freq         12859                 NaN    36993           NaN   4024   \n",
      "mean           NaN         2005.073280      NaN    116.355920    NaN   \n",
      "std            NaN          105.712813      NaN    209.216627    NaN   \n",
      "min            NaN         1000.000000      NaN      0.000000    NaN   \n",
      "25%            NaN         1999.000000      NaN     70.000000    NaN   \n",
      "50%            NaN         2003.000000      NaN    105.000000    NaN   \n",
      "75%            NaN         2008.000000      NaN    150.000000    NaN   \n",
      "max            NaN         9999.000000      NaN  17700.000000    NaN   \n",
      "\n",
      "         odometer  monthOfRegistration fuelType       brand notRepairedDamage  \\\n",
      "count       50000         50000.000000    45518       50000             40171   \n",
      "unique         13                  NaN        7          40                 2   \n",
      "top     150,000km                  NaN   benzin  volkswagen              nein   \n",
      "freq        32424                  NaN    30107       10687             35232   \n",
      "mean          NaN             5.723360      NaN         NaN               NaN   \n",
      "std           NaN             3.711984      NaN         NaN               NaN   \n",
      "min           NaN             0.000000      NaN         NaN               NaN   \n",
      "25%           NaN             3.000000      NaN         NaN               NaN   \n",
      "50%           NaN             6.000000      NaN         NaN               NaN   \n",
      "75%           NaN             9.000000      NaN         NaN               NaN   \n",
      "max           NaN            12.000000      NaN         NaN               NaN   \n",
      "\n",
      "                dateCreated  nrOfPictures    postalCode             lastSeen  \n",
      "count                 50000       50000.0  50000.000000                50000  \n",
      "unique                   76           NaN           NaN                39481  \n",
      "top     2016-04-03 00:00:00           NaN           NaN  2016-04-07 06:17:27  \n",
      "freq                   1946           NaN           NaN                    8  \n",
      "mean                    NaN           0.0  50813.627300                  NaN  \n",
      "std                     NaN           0.0  25779.747957                  NaN  \n",
      "min                     NaN           0.0   1067.000000                  NaN  \n",
      "25%                     NaN           0.0  30451.000000                  NaN  \n",
      "50%                     NaN           0.0  49577.000000                  NaN  \n",
      "75%                     NaN           0.0  71540.000000                  NaN  \n",
      "max                     NaN           0.0  99998.000000                  NaN  \n"
     ]
    }
   ],
   "source": [
    "autos = pd.read_csv('autos.csv', encoding='Latin-1')\n",
    "print(autos.info())\n",
    "print(autos.describe(include='all'))"
   ]
  },
  {
   "cell_type": "markdown",
   "metadata": {},
   "source": [
    "The dataset contains 20 columns, most of which are strings. Columns \"vehicleType\", \"gearbox\", \"model\", \"fuelType\", and \"notRepairedDamage\" contain some null values. Some numeric data presented in str format (columns \"dateCrawled\", \"price\", \"odometer\", \"dateCreated\", \"lastSeen\")."
   ]
  },
  {
   "cell_type": "code",
   "execution_count": 3,
   "metadata": {
    "collapsed": false
   },
   "outputs": [],
   "source": [
    "# Format columns of the dataframe\n",
    "autos.columns = ['date_crawled', 'name', 'seller',\n",
    "                 'offer_type', 'price', 'abtest',\n",
    "                 'vehicle_type', 'registration_year',\n",
    "                 'gearbox', 'power_ps', 'model', 'odometer',\n",
    "                 'registration_month', 'fuel_type', 'brand',\n",
    "                 'unrepaired_damage', 'ad_created',\n",
    "                 'nr_of_pictures', 'postal_code', 'last_seen']"
   ]
  },
  {
   "cell_type": "markdown",
   "metadata": {},
   "source": [
    "Columns 'seller', 'offer_type', 'abtest', and 'nr_of_pictures' have mostly one value and can be dropped. Columns that need more investigation:\n",
    "- 'name' (car model can be extract from this column);\n",
    "- 'price' (need to be cleanded, the most frequent value is zero);\n",
    "- 'odometer_km (need to be cleaned);\n",
    "- 'vehicle_type' and 'unrepaired_damage'(some words are in German);\n",
    "- 'registration year\"(unsual min and max values);\n",
    "- 'power_ps\"(unsual min and max values);\n",
    "- Numeric data presented in str format (columns 'date_crawled', 'price\", 'odometer', 'date_created', 'last_seen') need to be evaluated;"
   ]
  },
  {
   "cell_type": "code",
   "execution_count": 4,
   "metadata": {
    "collapsed": false
   },
   "outputs": [],
   "source": [
    "# Drop columns 'seller', 'offer_type', 'abtest',\n",
    "# and'nr_of_pictures'\n",
    "autos = autos.drop(\n",
    "    ['seller', 'offer_type', 'abtest', 'nr_of_pictures'],\n",
    "    axis=1)"
   ]
  },
  {
   "cell_type": "code",
   "execution_count": 5,
   "metadata": {
    "collapsed": false
   },
   "outputs": [
    {
     "name": "stdout",
     "output_type": "stream",
     "text": [
      "Ford_Fiesta                                                      78\n",
      "BMW_316i                                                         75\n",
      "Volkswagen_Golf_1.4                                              75\n",
      "Volkswagen_Polo                                                  72\n",
      "BMW_318i                                                         72\n",
      "BMW_320i                                                         71\n",
      "Opel_Corsa                                                       71\n",
      "Renault_Twingo                                                   70\n",
      "Volkswagen_Golf                                                  57\n",
      "Opel_Corsa_1.2_16V                                               56\n",
      "BMW_116i                                                         53\n",
      "Opel_Corsa_B                                                     52\n",
      "Peugeot_206                                                      52\n",
      "Ford_Focus                                                       50\n",
      "Volkswagen_Polo_1.2                                              48\n",
      "Volkswagen_Golf_1.6                                              47\n",
      "Opel_Astra                                                       43\n",
      "Opel_Corsa_1.0_12V                                               41\n",
      "Volkswagen_Passat_Variant_1.9_TDI                                39\n",
      "BMW_320d_DPF_Touring                                             38\n",
      "BMW_520i                                                         37\n",
      "Opel_Astra_1.6                                                   35\n",
      "Audi_A4_Avant_2.0_TDI_DPF                                        34\n",
      "Renault_Twingo_1.2                                               33\n",
      "Fiat_Punto                                                       32\n",
      "Ford_Mondeo                                                      32\n",
      "Volkswagen_Golf_1.9_TDI                                          32\n",
      "Ford_Ka                                                          30\n",
      "Volkswagen_Lupo_1.0                                              29\n",
      "Renault_Clio                                                     29\n",
      "                                                                 ..\n",
      "Passat_3b_sehr_gepflegt                                           1\n",
      "guenstiger_gebrauchter_kleinwagen                                 1\n",
      "Audi_A8_3.3_TDI_08_2001_Super_Auto_fuer_wenig_Geld                1\n",
      "BMW_318_i_benzin                                                  1\n",
      "Bmw_318i_facelift_Combi_2te_hand                                  1\n",
      "Seat_Ibiza_mit_tuev_NUR_HEUTE_FÜR_990!!!!!!                      1\n",
      "Golf_5_2.0_TDI_Sportline_NAVI_LEDER_105_PS_Traktionskontrolle     1\n",
      "C_Klasse_220CDI_Automatik_Avantgarde_Navi                         1\n",
      "Audi_A3_2.0_TDI_Cabrio_S_tronic__clean_diesel__S_...              1\n",
      "Opel_Corsa_B__1_2_i__TÜV_bis_12.2017                              1\n",
      "Opel_Tigra_1.6i_16V                                               1\n",
      "Verkaufe_Golf_IV                                                  1\n",
      "Land_Rover_Freelander_Td4_S_Automatik_TÜV_NEU                     1\n",
      "Hyundai_Getz_zu_verkaufen                                         1\n",
      "°_Mercedes_Benz_190_E_2.0_1.Hd_SEC_Front_ESSD_ZV_YOUNGTIMER°      1\n",
      "VW_PASSAT_2.0TDI_DPF_KOMBI_DSG_NAVI_KLIMA_SHZ                     1\n",
      "Verkaufe_Golf_4_1.6_16_Edition                                    1\n",
      "Zer_Guten_Auto_800_                                              1\n",
      "BMW_330d_touring_Edition_Exclusive_Sportpaket_Leder               1\n",
      "Mercedes_Clk_220_cdi_DFP                                          1\n",
      "Volkswagen_Golf_Variant_1.6_TDI_DPF_Comfortline_NAVI_28tkm        1\n",
      "VW_Sharan_VR6_174PS_7Sitze_LPG_AHK_usw                            1\n",
      "Opel_Astra_G_1.8                                                  1\n",
      "Peugeot_206_110_PS_LEDER_SITZ.HEIZUNG_KLIMATRONIC                 1\n",
      "Polo_6N_mit_tuev_bis_03._2017_fuer_500_euro                       1\n",
      "Mitsubishi_Colt_mit_Klima                                         1\n",
      "Mercedes_Benz_190E_1_8                                            1\n",
      "Porsche_Cayenne_Tiptronic_S                                       1\n",
      "BMW_X6_xDrive30d_Voll_20\"LM_AHK_Navi_SHD_Kamera_5_Si              1\n",
      "Opel_Corsa_b_1.2i_16V_Edition_100                                 1\n",
      "Name: name, Length: 38754, dtype: int64\n"
     ]
    }
   ],
   "source": [
    "# Explore data in the column 'name'\n",
    "print(autos['name'].value_counts())"
   ]
  },
  {
   "cell_type": "markdown",
   "metadata": {},
   "source": [
    "We can see from the data that in most cases the second word is the model of the car. Let's extract the model and store it in the separate column. "
   ]
  },
  {
   "cell_type": "code",
   "execution_count": 6,
   "metadata": {
    "collapsed": false
   },
   "outputs": [
    {
     "name": "stdout",
     "output_type": "stream",
     "text": [
      "             brand     model\n",
      "0          peugeot       807\n",
      "1              bmw      740i\n",
      "2       volkswagen      Golf\n",
      "3            smart     smart\n",
      "4             ford     Focus\n",
      "5         chrysler     Grand\n",
      "6       volkswagen      Golf\n",
      "7       volkswagen        IV\n",
      "8             seat     Arosa\n",
      "9          renault    Megane\n",
      "10      volkswagen      Golf\n",
      "11   mercedes_benz      A140\n",
      "12           smart     smart\n",
      "13            audi        A3\n",
      "14         renault      Clio\n",
      "15  sonstige_autos        C3\n",
      "16            opel    Vectra\n",
      "17      volkswagen  Scirocco\n",
      "18             bmw      mein\n",
      "19           mazda   tribute\n"
     ]
    }
   ],
   "source": [
    "# Extract models from name column\n",
    "autos['model'] = autos['name'].str.split('_', expand=True).iloc[:, 1]\n",
    "print(autos[['brand','model']].head(20))"
   ]
  },
  {
   "cell_type": "markdown",
   "metadata": {},
   "source": [
    "Now the data can be aggregated based on brand and model which will be done later."
   ]
  },
  {
   "cell_type": "code",
   "execution_count": 7,
   "metadata": {
    "collapsed": false
   },
   "outputs": [
    {
     "name": "stdout",
     "output_type": "stream",
     "text": [
      "2357\n",
      "count    5.000000e+04\n",
      "mean     9.840044e+03\n",
      "std      4.811044e+05\n",
      "min      0.000000e+00\n",
      "25%      1.100000e+03\n",
      "50%      2.950000e+03\n",
      "75%      7.200000e+03\n",
      "max      1.000000e+08\n",
      "Name: price, dtype: float64\n"
     ]
    }
   ],
   "source": [
    "# Clean data in column 'price' and print some statisctis\n",
    "autos['price'] = (autos['price']\n",
    "                  .str.replace('$', '')\n",
    "                  .str.replace(',', '')\n",
    "                 .astype(float))\n",
    "\n",
    "print(autos['price'].unique().shape[0])\n",
    "print(autos['price'].describe())"
   ]
  },
  {
   "cell_type": "markdown",
   "metadata": {},
   "source": [
    "Column 'price' contains 2357 unique values. There are unusually min values(0) and unusually max values(8e+08). Based on descriptive statistic the distribution is skewed to the right with some outliers. Let's define a function which will remover outliers. "
   ]
  },
  {
   "cell_type": "code",
   "execution_count": 8,
   "metadata": {
    "collapsed": true
   },
   "outputs": [],
   "source": [
    "# Definition of function 'remove_outliers'\n",
    "def remove_outliers(dataset, column):\n",
    "    return dataset[\n",
    "        np.abs(dataset[column] - dataset[column].mean()\n",
    "              ) <= 3*dataset[column].std()]"
   ]
  },
  {
   "cell_type": "code",
   "execution_count": 9,
   "metadata": {
    "collapsed": false
   },
   "outputs": [
    {
     "name": "stdout",
     "output_type": "stream",
     "text": [
      "2351\n",
      "count    4.999100e+04\n",
      "mean     5.831664e+03\n",
      "std      1.427337e+04\n",
      "min      0.000000e+00\n",
      "25%      1.100000e+03\n",
      "50%      2.950000e+03\n",
      "75%      7.200000e+03\n",
      "max      1.300000e+06\n",
      "Name: price, dtype: float64\n"
     ]
    }
   ],
   "source": [
    "# Remove rows with outliers based on column 'price'\n",
    "autos = remove_outliers(autos, 'price')\n",
    "print(autos['price'].unique().shape[0])\n",
    "print(autos['price'].describe())"
   ]
  },
  {
   "cell_type": "code",
   "execution_count": 10,
   "metadata": {
    "collapsed": false
   },
   "outputs": [
    {
     "name": "stdout",
     "output_type": "stream",
     "text": [
      "13\n",
      "count     49991.000000\n",
      "mean     125736.432558\n",
      "std       40038.005358\n",
      "min        5000.000000\n",
      "25%      125000.000000\n",
      "50%      150000.000000\n",
      "75%      150000.000000\n",
      "max      150000.000000\n",
      "Name: odometer_km, dtype: float64\n"
     ]
    }
   ],
   "source": [
    "# Clean data in column 'odometer', rename the column\n",
    "autos['odometer'] = (autos['odometer']\n",
    "                    .str.replace('km', '')\n",
    "                    .str.replace(',', '')\n",
    "                    .astype(float))\n",
    "autos.rename({'odometer': 'odometer_km'},\n",
    "             axis=1,\n",
    "             inplace=True)\n",
    "print(autos['odometer_km'].unique().shape[0])\n",
    "print(autos['odometer_km'].describe())"
   ]
  },
  {
   "cell_type": "markdown",
   "metadata": {},
   "source": [
    "Column 'odometer_km' contains 13 unique values. There are no unusual values. The distribution is skewed to the left, most of the data is located between 125000 and 150000. Now let's translate some German words in English. "
   ]
  },
  {
   "cell_type": "code",
   "execution_count": 11,
   "metadata": {
    "collapsed": false
   },
   "outputs": [
    {
     "name": "stdout",
     "output_type": "stream",
     "text": [
      "limousine        12855\n",
      "supermini        10822\n",
      "station wagon     9127\n",
      "bus               4093\n",
      "cabrio            3061\n",
      "coupe             2535\n",
      "suv               1986\n",
      "other              420\n",
      "Name: vehicle_type, dtype: int64\n"
     ]
    }
   ],
   "source": [
    "# Some words in column 'vehicle type' are in German language. Let's\n",
    "# replace them with English ones. \n",
    "mapping = {'limousine': 'limousine',\n",
    "           'kleinwagen': 'supermini',\n",
    "           'kombi': 'station wagon',\n",
    "           'bus': 'bus',\n",
    "           'cabrio': 'cabrio',\n",
    "           'coupe': 'coupe',\n",
    "           'suv': 'suv',\n",
    "           'andere': 'other'}\n",
    "autos['vehicle_type'] = autos['vehicle_type'].map(mapping)\n",
    "print(autos['vehicle_type'].value_counts())"
   ]
  },
  {
   "cell_type": "code",
   "execution_count": 12,
   "metadata": {
    "collapsed": false
   },
   "outputs": [
    {
     "name": "stdout",
     "output_type": "stream",
     "text": [
      "no     35227\n",
      "yes     4939\n",
      "Name: unrepaired_damage, dtype: int64\n"
     ]
    }
   ],
   "source": [
    "# 'unrepaired_damage' contains German words.\n",
    "# Replace them with English. \n",
    "mapping = {'ja': 'yes',\n",
    "          'nein': 'no'}\n",
    "autos['unrepaired_damage'] = autos['unrepaired_damage'].map(\n",
    "mapping)\n",
    "print(autos['unrepaired_damage'].value_counts())"
   ]
  },
  {
   "cell_type": "code",
   "execution_count": 13,
   "metadata": {
    "collapsed": false
   },
   "outputs": [
    {
     "name": "stdout",
     "output_type": "stream",
     "text": [
      "count    49991.000000\n",
      "mean      2005.074533\n",
      "std        105.721987\n",
      "min       1000.000000\n",
      "25%       1999.000000\n",
      "50%       2003.000000\n",
      "75%       2008.000000\n",
      "max       9999.000000\n",
      "Name: registration_year, dtype: float64\n"
     ]
    }
   ],
   "source": [
    "# Explore data in registration year column\n",
    "print(autos['registration_year'].describe())"
   ]
  },
  {
   "cell_type": "markdown",
   "metadata": {},
   "source": [
    "The 50% of data falls between 1999 and 2008. However, there are unusual values such as 1000 and 9999 which is invalid for the year. There are some outliers which should be dropped. We will use the function 'remove_outliers'."
   ]
  },
  {
   "cell_type": "code",
   "execution_count": 14,
   "metadata": {
    "collapsed": false
   },
   "outputs": [
    {
     "name": "stdout",
     "output_type": "stream",
     "text": [
      "count    49969.000000\n",
      "mean      2003.359643\n",
      "std          7.796921\n",
      "min       1800.000000\n",
      "25%       1999.000000\n",
      "50%       2003.000000\n",
      "75%       2008.000000\n",
      "max       2019.000000\n",
      "Name: registration_year, dtype: float64\n"
     ]
    }
   ],
   "source": [
    "# Remove rows with outliers from dataset based on \n",
    "# 'registration_year' column\n",
    "autos = remove_outliers(autos, 'registration_year')\n",
    "print(autos['registration_year'].describe())"
   ]
  },
  {
   "cell_type": "markdown",
   "metadata": {},
   "source": [
    "Because a car can't be first registered before the listing was seen, any vehicle with a registration year above 2016 is definitely inaccurate and should also be removed. The production of petrol engines for automobiles was started in 1886. So, we can drop all years before 1886 and after 2016. "
   ]
  },
  {
   "cell_type": "code",
   "execution_count": 15,
   "metadata": {
    "collapsed": false
   },
   "outputs": [
    {
     "name": "stdout",
     "output_type": "stream",
     "text": [
      "1910    0.000187\n",
      "1927    0.000021\n",
      "1929    0.000021\n",
      "1931    0.000021\n",
      "1934    0.000042\n",
      "1937    0.000083\n",
      "1938    0.000021\n",
      "1939    0.000021\n",
      "1941    0.000042\n",
      "1943    0.000021\n",
      "1948    0.000021\n",
      "1950    0.000062\n",
      "1951    0.000042\n",
      "1952    0.000021\n",
      "1953    0.000021\n",
      "1954    0.000042\n",
      "1955    0.000042\n",
      "1956    0.000104\n",
      "1957    0.000042\n",
      "1958    0.000083\n",
      "1959    0.000146\n",
      "1960    0.000687\n",
      "1961    0.000125\n",
      "1962    0.000083\n",
      "1963    0.000187\n",
      "1964    0.000250\n",
      "1965    0.000354\n",
      "1966    0.000458\n",
      "1967    0.000562\n",
      "1968    0.000541\n",
      "          ...   \n",
      "1987    0.001562\n",
      "1988    0.002957\n",
      "1989    0.003769\n",
      "1990    0.008226\n",
      "1991    0.007413\n",
      "1992    0.008142\n",
      "1993    0.009267\n",
      "1994    0.013744\n",
      "1995    0.027321\n",
      "1996    0.030070\n",
      "1997    0.042232\n",
      "1998    0.051082\n",
      "1999    0.062452\n",
      "2000    0.069844\n",
      "2001    0.056267\n",
      "2002    0.052748\n",
      "2003    0.056788\n",
      "2004    0.056996\n",
      "2005    0.062785\n",
      "2006    0.056371\n",
      "2007    0.047979\n",
      "2008    0.046459\n",
      "2009    0.043689\n",
      "2010    0.033256\n",
      "2011    0.034027\n",
      "2012    0.027550\n",
      "2013    0.016784\n",
      "2014    0.013848\n",
      "2015    0.008309\n",
      "2016    0.027405\n",
      "Name: registration_year, Length: 78, dtype: float64\n"
     ]
    }
   ],
   "source": [
    "# Drop rows with years before 1886 and 2016\n",
    "autos = autos[autos['registration_year']\n",
    "              .between(1886, 2016)]\n",
    "\n",
    "# Calculate distribution of the remaining values\n",
    "print(autos['registration_year']\n",
    "      .value_counts(normalize=True, dropna=False)\n",
    "      .sort_index())"
   ]
  },
  {
   "cell_type": "markdown",
   "metadata": {},
   "source": [
    "We can see that the majority of the cars were registered in 1994-2016, however, all other values preserved for the sanity of analysis. The next column to examine is \"power_ps\"."
   ]
  },
  {
   "cell_type": "code",
   "execution_count": 16,
   "metadata": {
    "collapsed": false
   },
   "outputs": [
    {
     "name": "stdout",
     "output_type": "stream",
     "text": [
      "count    48021.000000\n",
      "mean       117.052019\n",
      "std        195.135607\n",
      "min          0.000000\n",
      "25%         71.000000\n",
      "50%        107.000000\n",
      "75%        150.000000\n",
      "max      17700.000000\n",
      "Name: power_ps, dtype: float64\n",
      "0      4988\n",
      "75     3004\n",
      "60     2084\n",
      "150    1985\n",
      "140    1823\n",
      "101    1689\n",
      "90     1671\n",
      "116    1613\n",
      "170    1460\n",
      "105    1354\n",
      "Name: power_ps, dtype: int64\n"
     ]
    }
   ],
   "source": [
    "# Print descriptive statistics of the column and count\n",
    "# unique values\n",
    "print(autos['power_ps'].describe())\n",
    "print(autos['power_ps'].value_counts().head(10))"
   ]
  },
  {
   "cell_type": "markdown",
   "metadata": {},
   "source": [
    "There are some unusually large values and unusually small. Let's removed outlier using remove_outliers function. As the number of zeros is large we will replace them with the mean for all other data. The car with smallest horsepower I could found is Peel P50 with 4.2 ps. So, we will also replace values with the mean that is smaller than 5. "
   ]
  },
  {
   "cell_type": "code",
   "execution_count": 17,
   "metadata": {
    "collapsed": false
   },
   "outputs": [
    {
     "name": "stdout",
     "output_type": "stream",
     "text": [
      "count    47964.000000\n",
      "mean       126.476820\n",
      "std         58.983982\n",
      "min          4.000000\n",
      "25%         87.000000\n",
      "50%        122.000000\n",
      "75%        150.000000\n",
      "max        696.000000\n",
      "Name: power_ps, dtype: float64\n",
      "126.47682    4996\n",
      "75.00000     3004\n",
      "60.00000     2084\n",
      "150.00000    1985\n",
      "140.00000    1823\n",
      "101.00000    1689\n",
      "90.00000     1671\n",
      "116.00000    1613\n",
      "170.00000    1460\n",
      "105.00000    1354\n",
      "Name: power_ps, dtype: int64\n"
     ]
    }
   ],
   "source": [
    "# Remove rows with outliers based on column 'power_ps' and replace zeros\n",
    "# replace small values with mean of other cells. \n",
    "autos = remove_outliers(autos, 'power_ps')\n",
    "\n",
    "autos.loc[autos['power_ps']  < 4, 'power_ps'] = autos.loc[\n",
    "    autos['power_ps'] >= 4, 'power_ps'].mean()\n",
    "\n",
    "print(autos['power_ps'].describe())\n",
    "print(autos['power_ps'].value_counts().head(10))"
   ]
  },
  {
   "cell_type": "markdown",
   "metadata": {},
   "source": [
    "Now let's look at the data in columns 'date_crawled', 'ad_created', and 'last_seen'."
   ]
  },
  {
   "cell_type": "code",
   "execution_count": 18,
   "metadata": {
    "collapsed": false
   },
   "outputs": [
    {
     "name": "stdout",
     "output_type": "stream",
     "text": [
      "          date_crawled           ad_created            last_seen\n",
      "0  2016-03-26 17:47:46  2016-03-26 00:00:00  2016-04-06 06:45:54\n",
      "1  2016-04-04 13:38:56  2016-04-04 00:00:00  2016-04-06 14:45:08\n",
      "2  2016-03-26 18:57:24  2016-03-26 00:00:00  2016-04-06 20:15:37\n",
      "3  2016-03-12 16:58:10  2016-03-12 00:00:00  2016-03-15 03:16:28\n",
      "4  2016-04-01 14:38:50  2016-04-01 00:00:00  2016-04-01 14:38:50\n"
     ]
    }
   ],
   "source": [
    "# Print example data from columns\n",
    "print(autos[['date_crawled',\n",
    "             'ad_created',\n",
    "             'last_seen']].head())"
   ]
  },
  {
   "cell_type": "markdown",
   "metadata": {},
   "source": [
    "We can extract dates from columns 'date_crawled', 'ad_created', and 'last_seen' using str[:] slice. "
   ]
  },
  {
   "cell_type": "code",
   "execution_count": 19,
   "metadata": {
    "collapsed": false
   },
   "outputs": [
    {
     "name": "stdout",
     "output_type": "stream",
     "text": [
      "2016-03    0.837566\n",
      "2016-04    0.162434\n",
      "Name: date_crawled, dtype: float64\n"
     ]
    }
   ],
   "source": [
    "print(autos['date_crawled'].str[:7].value_counts(\n",
    "normalize=True, dropna=False).sort_index())"
   ]
  },
  {
   "cell_type": "markdown",
   "metadata": {},
   "source": [
    "The 83.7% of data was crawled on March 2016."
   ]
  },
  {
   "cell_type": "code",
   "execution_count": 20,
   "metadata": {
    "collapsed": false
   },
   "outputs": [
    {
     "name": "stdout",
     "output_type": "stream",
     "text": [
      "2015-06    0.000021\n",
      "2015-08    0.000021\n",
      "2015-09    0.000021\n",
      "2015-11    0.000021\n",
      "2015-12    0.000042\n",
      "2016-01    0.000188\n",
      "2016-02    0.001313\n",
      "2016-03    0.836982\n",
      "2016-04    0.161392\n",
      "Name: ad_created, dtype: float64\n"
     ]
    }
   ],
   "source": [
    "print(autos['ad_created'].str[:7].value_counts(\n",
    "normalize=True, dropna=False).sort_index())"
   ]
  },
  {
   "cell_type": "markdown",
   "metadata": {},
   "source": [
    "The 83.7% of data was created on March 2016."
   ]
  },
  {
   "cell_type": "code",
   "execution_count": 21,
   "metadata": {
    "collapsed": false
   },
   "outputs": [
    {
     "name": "stdout",
     "output_type": "stream",
     "text": [
      "2016-03    0.423443\n",
      "2016-04    0.576557\n",
      "Name: last_seen, dtype: float64\n"
     ]
    }
   ],
   "source": [
    "print(autos['last_seen'].str[:7].value_counts(\n",
    "normalize=True, dropna=False).sort_index())"
   ]
  },
  {
   "cell_type": "markdown",
   "metadata": {},
   "source": [
    "Although most of the data was created on March 2016 this adds are still interesting for potential buyers as more than a half of it was seen in April. Now let's proceed with analysis."
   ]
  },
  {
   "cell_type": "code",
   "execution_count": 22,
   "metadata": {
    "collapsed": false
   },
   "outputs": [
    {
     "name": "stdout",
     "output_type": "stream",
     "text": [
      "volkswagen        0.212180\n",
      "bmw               0.110103\n",
      "opel              0.108102\n",
      "mercedes_benz     0.095342\n",
      "audi              0.086398\n",
      "ford              0.069698\n",
      "renault           0.047369\n",
      "peugeot           0.029522\n",
      "fiat              0.025894\n",
      "seat              0.018139\n",
      "skoda             0.016054\n",
      "mazda             0.015157\n",
      "nissan            0.015116\n",
      "smart             0.013906\n",
      "citroen           0.013885\n",
      "toyota            0.012447\n",
      "sonstige_autos    0.010925\n",
      "hyundai           0.009862\n",
      "volvo             0.009236\n",
      "mini              0.008652\n",
      "mitsubishi        0.008152\n",
      "honda             0.007839\n",
      "kia               0.007109\n",
      "alfa_romeo        0.006630\n",
      "porsche           0.006109\n",
      "suzuki            0.005900\n",
      "chevrolet         0.005713\n",
      "chrysler          0.003649\n",
      "daihatsu          0.002564\n",
      "dacia             0.002564\n",
      "jeep              0.002252\n",
      "subaru            0.002189\n",
      "land_rover        0.002043\n",
      "saab              0.001605\n",
      "jaguar            0.001585\n",
      "trabant           0.001564\n",
      "daewoo            0.001501\n",
      "rover             0.001355\n",
      "lancia            0.001084\n",
      "lada              0.000605\n",
      "Name: brand, dtype: float64\n"
     ]
    }
   ],
   "source": [
    "# Examining brand column\n",
    "top_all = autos['brand'].value_counts(\n",
    "normalize=True,\n",
    "dropna=False)\n",
    "print(top_all)"
   ]
  },
  {
   "cell_type": "markdown",
   "metadata": {},
   "source": [
    "The data will be aggregated on the top ten brands."
   ]
  },
  {
   "cell_type": "code",
   "execution_count": 23,
   "metadata": {
    "collapsed": false
   },
   "outputs": [
    {
     "name": "stdout",
     "output_type": "stream",
     "text": [
      "[('audi', 9083.736486486487), ('mercedes_benz', 8492.077848239667), ('bmw', 8336.321908729407), ('volkswagen', 5427.8745209786775), ('seat', 4308.93908045977), ('ford', 3953.517200119653), ('peugeot', 3039.313559322034), ('opel', 2874.969720347155), ('fiat', 2711.8011272141707), ('renault', 2396.3147007042253)]\n"
     ]
    }
   ],
   "source": [
    "# Find the mean price for each of top 10 brands\n",
    "price_agg = {}\n",
    "for brand in top_all.index[:10]: \n",
    "    price_agg[brand] = autos.loc[\n",
    "        autos['brand'] == brand, 'price'].mean()\n",
    "print(sorted(price_agg.items(),\n",
    "   key=lambda x: x[1],reverse=True))"
   ]
  },
  {
   "cell_type": "markdown",
   "metadata": {},
   "source": [
    "There is a significant price gap in the top 10 brands. 'audi', 'mercedes_benz', and 'bmw' are the most expensive. 'volkswagen', 'seat' and 'ford' are less expensive. 'peugeot', 'opel', 'fiat', and 'renault' are the cheapest. We will look if the price of the brands depends on the mileage. "
   ]
  },
  {
   "cell_type": "code",
   "execution_count": 24,
   "metadata": {
    "collapsed": false
   },
   "outputs": [
    {
     "name": "stdout",
     "output_type": "stream",
     "text": [
      "[('bmw', 132424.73016474152), ('mercedes_benz', 130848.45834244478), ('audi', 129306.22586872587), ('opel', 129273.86692381871), ('volkswagen', 128739.31413972683), ('renault', 128228.43309859154), ('peugeot', 127104.51977401129), ('ford', 124074.18486389471), ('seat', 121701.14942528735), ('fiat', 116553.94524959743)]\n"
     ]
    }
   ],
   "source": [
    "# Find the mean price for each of top 10 brands\n",
    "mileage_agg = {}\n",
    "for brand in top_all.index[:10]:\n",
    "    mileage_agg[brand] = autos.loc[\n",
    "        autos['brand'] == brand, 'odometer_km'\n",
    "    ].mean()\n",
    "print(sorted(mileage_agg.items(),\n",
    "            key=lambda x: x[1],\n",
    "            reverse=True))"
   ]
  },
  {
   "cell_type": "code",
   "execution_count": 25,
   "metadata": {
    "collapsed": false
   },
   "outputs": [],
   "source": [
    "# Convert both dictionaries two the series objects\n",
    "price_series = pd.Series(price_agg)\n",
    "mileage_series = pd.Series(mileage_agg)"
   ]
  },
  {
   "cell_type": "code",
   "execution_count": 26,
   "metadata": {
    "collapsed": false
   },
   "outputs": [
    {
     "name": "stdout",
     "output_type": "stream",
     "text": [
      "                 odometer_km        price\n",
      "fiat           116553.945250  2711.801127\n",
      "seat           121701.149425  4308.939080\n",
      "ford           124074.184864  3953.517200\n",
      "peugeot        127104.519774  3039.313559\n",
      "renault        128228.433099  2396.314701\n",
      "volkswagen     128739.314140  5427.874521\n",
      "opel           129273.866924  2874.969720\n",
      "audi           129306.225869  9083.736486\n",
      "mercedes_benz  130848.458342  8492.077848\n",
      "bmw            132424.730165  8336.321909\n"
     ]
    }
   ],
   "source": [
    "price_mileage = pd.DataFrame({'price': price_series,\n",
    "                 'odometer_km': mileage_series})\n",
    "print(price_mileage.sort_values(by=['odometer_km']))"
   ]
  },
  {
   "cell_type": "markdown",
   "metadata": {},
   "source": [
    "We can see from the aggregate data that the price of the brands does not depend on mileage. In a normal situation the relationship should be negative (the more a mileage the less a price). However, the opposite trend can be seen from this data. It seems like a price depends on the brand of the car."
   ]
  },
  {
   "cell_type": "code",
   "execution_count": 27,
   "metadata": {
    "collapsed": false
   },
   "outputs": [
    {
     "name": "stdout",
     "output_type": "stream",
     "text": [
      "      top_brands top_models\n",
      "0  mercedes_benz       Benz\n",
      "1     volkswagen       Golf\n",
      "2           opel      Corsa\n",
      "3     volkswagen       Polo\n",
      "4           opel      Astra\n",
      "5     volkswagen     Passat\n",
      "6           audi         A4\n",
      "7           audi         A6\n",
      "8           audi         A3\n",
      "9           ford      Focus\n"
     ]
    }
   ],
   "source": [
    "# Find the most common brand/model combinations\n",
    "top_brands = []\n",
    "top_models =  autos['model'].value_counts().head(10).index\n",
    "for model in top_models:\n",
    "    brand = autos.loc[autos['model'] == model, 'brand']\n",
    "    top_brands.append(brand.iloc[0])\n",
    "\n",
    "top_brand_model = pd.DataFrame({'top_brands': pd.Series(top_brands),\n",
    "                               'top_models': pd.Series(top_models)})\n",
    "print(top_brand_model)"
   ]
  },
  {
   "cell_type": "markdown",
   "metadata": {},
   "source": [
    "We can see the top 10 brand/model combinations. For further analysis, the data for mercedes_bens can be investigated more carefully. "
   ]
  },
  {
   "cell_type": "markdown",
   "metadata": {
    "collapsed": true
   },
   "source": [
    "We will explore the \"odometer_km\" column to see if the price is dependent on mileage. We know that the minimum value is 5000 and the maximum value is 150000. We define the following groups to explore:\n",
    "- 5000-7499 (group1);\n",
    "- 7500-9999 (group2);\n",
    "- 10000-12499 (group3);\n",
    "- 12500-15000 (gropu4);"
   ]
  },
  {
   "cell_type": "code",
   "execution_count": 28,
   "metadata": {
    "collapsed": false
   },
   "outputs": [
    {
     "name": "stdout",
     "output_type": "stream",
     "text": [
      "{'group2': 8905.781877022653, 'group4': 4107.409825576543, 'group3': 7921.102564102564, 'group1': 13558.854859991203}\n"
     ]
    }
   ],
   "source": [
    "# Split 'odometer_km' on groups based on mileage and\n",
    "# create a dictionary which contains average price for\n",
    "# each group\n",
    "splits = {'group1': [5000, 74999],\n",
    "         'group2': [75000, 99999],\n",
    "         'group3': [100000, 124999],\n",
    "         'group4': [125000, 150000]\n",
    "         }\n",
    "price_groups = {}\n",
    "\n",
    "for group in splits:\n",
    "    price_groups[group] = autos.loc[\n",
    "        autos['odometer_km'].between(\n",
    "            splits[group][0],\n",
    "            splits[group][1]),\n",
    "        'price'\n",
    "    ].mean()\n",
    "\n",
    "print(price_groups)"
   ]
  },
  {
   "cell_type": "markdown",
   "metadata": {},
   "source": [
    "We can see from this data that the mileage and the price have a negative relationship: the bigger the mileage, the less the price. Our next step is to analyze the dependence of price from damage. From the previous steps, we know that there are two values in this column: 'yes' and 'no'. Let's see if the average price differs for each group."
   ]
  },
  {
   "cell_type": "code",
   "execution_count": 29,
   "metadata": {
    "collapsed": false
   },
   "outputs": [
    {
     "name": "stdout",
     "output_type": "stream",
     "text": [
      "{'yes': 2336.6798493408664, 'no': 7144.980216825926}\n"
     ]
    }
   ],
   "source": [
    "damage_groups = {}\n",
    "for group in ['yes', 'no']:\n",
    "    damage_groups[group] = autos.loc[\n",
    "        autos['unrepaired_damage'] == group, 'price'\n",
    "    ].mean()\n",
    "print(damage_groups)"
   ]
  },
  {
   "cell_type": "markdown",
   "metadata": {},
   "source": [
    "We can see from the data that damaged cars is cheaper than non-damaged cars. \n",
    "\n",
    "Here is the outcome for our analysis:\n",
    "- the price depends on the brand, mileage (negative relationship), and damage (negative relationship);\n",
    "- top ten brand/model combinations are presented;"
   ]
  }
 ],
 "metadata": {
  "kernelspec": {
   "display_name": "Python 3",
   "language": "python",
   "name": "python3"
  },
  "language_info": {
   "codemirror_mode": {
    "name": "ipython",
    "version": 3
   },
   "file_extension": ".py",
   "mimetype": "text/x-python",
   "name": "python",
   "nbconvert_exporter": "python",
   "pygments_lexer": "ipython3",
   "version": "3.4.3"
  }
 },
 "nbformat": 4,
 "nbformat_minor": 2
}
