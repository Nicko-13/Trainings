{
 "cells": [
  {
   "cell_type": "markdown",
   "metadata": {},
   "source": [
    "## Problem definition\n",
    "\n",
    "- Informal: predict the price of the house based on historical data;\n",
    "- Formal:\n",
    "    - Task: Predict the sale price of a house based on given features;\n",
    "    - Experience: A list of houses sold for the period 2006-2010;\n",
    "    - Performace: mean absolute error, root mean squared error, statistical significance between predictions and true values;\n",
    "    \n",
    "## Assumptions\n",
    "\n",
    "The main factors which might impact on price:\n",
    "- Location;\n",
    "- Lot size;\n",
    "- Number of bedrooms;\n",
    "- Number of bathrooms;\n",
    "- Property conditions;\n",
    "\n",
    "## Planned solution\n",
    "\n",
    "### Data available\n",
    "- Dataset;\n",
    "- City Assessor website;\n",
    "- Map of Ames;\n",
    "\n",
    "### Data preparation\n",
    "- Group featues by data type;\n",
    "- Select the most relevant features within each group;\n",
    "- Divide data on train, validation and test sets;\n",
    "- Formatting, cleaning and engeneering;\n",
    "\n",
    "### Solve the problem\n",
    "- Using k-fold cross validation;\n",
    "- Using MAE, RMSE and difference between means of predicted and true values;\n",
    "- Test k-nearest neighbors and gradient discent algorithms on train and validation set, select the best one;\n",
    "- Tune the best algorithm;"
   ]
  },
  {
   "cell_type": "code",
   "execution_count": 28,
   "metadata": {},
   "outputs": [],
   "source": [
    "%matplotlib inline\n",
    "import numpy as np\n",
    "import pandas as pd\n",
    "import matplotlib.pyplot as plt\n",
    "import seaborn as sns\n",
    "from sklearn.neighbors import KNeighborsRegressor\n",
    "from sklearn.linear_model import LinearRegression\n",
    "from sklearn.model_selection import cross_val_score, KFold\n",
    "from sklearn.metrics import (mean_squared_error,\n",
    "                             mean_absolute_error)\n",
    "from sklearn.feature_selection import f_regression\n",
    "from sklearn.feature_selection import RFE\n",
    "import scipy.stats\n",
    "import itertools\n",
    "import copy\n",
    "\n",
    "pd.set_option('max_columns', 160)\n",
    "pd.set_option('max_rows', 100)\n",
    "pd.set_option('max_colwidth', 5000)\n",
    "np.random.seed(1)\n",
    "\n",
    "houses = pd.read_csv('AmesHousing.tsv', sep='\\t')"
   ]
  },
  {
   "cell_type": "markdown",
   "metadata": {},
   "source": [
    "## Getting familiar with the data"
   ]
  },
  {
   "cell_type": "code",
   "execution_count": 29,
   "metadata": {},
   "outputs": [
    {
     "name": "stdout",
     "output_type": "stream",
     "text": [
      "<class 'pandas.core.frame.DataFrame'>\n",
      "RangeIndex: 2930 entries, 0 to 2929\n",
      "Data columns (total 82 columns):\n",
      "Order              2930 non-null int64\n",
      "PID                2930 non-null int64\n",
      "MS SubClass        2930 non-null int64\n",
      "MS Zoning          2930 non-null object\n",
      "Lot Frontage       2440 non-null float64\n",
      "Lot Area           2930 non-null int64\n",
      "Street             2930 non-null object\n",
      "Alley              198 non-null object\n",
      "Lot Shape          2930 non-null object\n",
      "Land Contour       2930 non-null object\n",
      "Utilities          2930 non-null object\n",
      "Lot Config         2930 non-null object\n",
      "Land Slope         2930 non-null object\n",
      "Neighborhood       2930 non-null object\n",
      "Condition 1        2930 non-null object\n",
      "Condition 2        2930 non-null object\n",
      "Bldg Type          2930 non-null object\n",
      "House Style        2930 non-null object\n",
      "Overall Qual       2930 non-null int64\n",
      "Overall Cond       2930 non-null int64\n",
      "Year Built         2930 non-null int64\n",
      "Year Remod/Add     2930 non-null int64\n",
      "Roof Style         2930 non-null object\n",
      "Roof Matl          2930 non-null object\n",
      "Exterior 1st       2930 non-null object\n",
      "Exterior 2nd       2930 non-null object\n",
      "Mas Vnr Type       2907 non-null object\n",
      "Mas Vnr Area       2907 non-null float64\n",
      "Exter Qual         2930 non-null object\n",
      "Exter Cond         2930 non-null object\n",
      "Foundation         2930 non-null object\n",
      "Bsmt Qual          2850 non-null object\n",
      "Bsmt Cond          2850 non-null object\n",
      "Bsmt Exposure      2847 non-null object\n",
      "BsmtFin Type 1     2850 non-null object\n",
      "BsmtFin SF 1       2929 non-null float64\n",
      "BsmtFin Type 2     2849 non-null object\n",
      "BsmtFin SF 2       2929 non-null float64\n",
      "Bsmt Unf SF        2929 non-null float64\n",
      "Total Bsmt SF      2929 non-null float64\n",
      "Heating            2930 non-null object\n",
      "Heating QC         2930 non-null object\n",
      "Central Air        2930 non-null object\n",
      "Electrical         2929 non-null object\n",
      "1st Flr SF         2930 non-null int64\n",
      "2nd Flr SF         2930 non-null int64\n",
      "Low Qual Fin SF    2930 non-null int64\n",
      "Gr Liv Area        2930 non-null int64\n",
      "Bsmt Full Bath     2928 non-null float64\n",
      "Bsmt Half Bath     2928 non-null float64\n",
      "Full Bath          2930 non-null int64\n",
      "Half Bath          2930 non-null int64\n",
      "Bedroom AbvGr      2930 non-null int64\n",
      "Kitchen AbvGr      2930 non-null int64\n",
      "Kitchen Qual       2930 non-null object\n",
      "TotRms AbvGrd      2930 non-null int64\n",
      "Functional         2930 non-null object\n",
      "Fireplaces         2930 non-null int64\n",
      "Fireplace Qu       1508 non-null object\n",
      "Garage Type        2773 non-null object\n",
      "Garage Yr Blt      2771 non-null float64\n",
      "Garage Finish      2771 non-null object\n",
      "Garage Cars        2929 non-null float64\n",
      "Garage Area        2929 non-null float64\n",
      "Garage Qual        2771 non-null object\n",
      "Garage Cond        2771 non-null object\n",
      "Paved Drive        2930 non-null object\n",
      "Wood Deck SF       2930 non-null int64\n",
      "Open Porch SF      2930 non-null int64\n",
      "Enclosed Porch     2930 non-null int64\n",
      "3Ssn Porch         2930 non-null int64\n",
      "Screen Porch       2930 non-null int64\n",
      "Pool Area          2930 non-null int64\n",
      "Pool QC            13 non-null object\n",
      "Fence              572 non-null object\n",
      "Misc Feature       106 non-null object\n",
      "Misc Val           2930 non-null int64\n",
      "Mo Sold            2930 non-null int64\n",
      "Yr Sold            2930 non-null int64\n",
      "Sale Type          2930 non-null object\n",
      "Sale Condition     2930 non-null object\n",
      "SalePrice          2930 non-null int64\n",
      "dtypes: float64(11), int64(28), object(43)\n",
      "memory usage: 1.8+ MB\n"
     ]
    }
   ],
   "source": [
    "houses.info()"
   ]
  },
  {
   "cell_type": "markdown",
   "metadata": {},
   "source": [
    "## Preparing data for analysis\n",
    "\n",
    "### Working with missing values"
   ]
  },
  {
   "cell_type": "code",
   "execution_count": 30,
   "metadata": {},
   "outputs": [
    {
     "data": {
      "text/plain": [
       "Pool QC           0.995563\n",
       "Misc Feature      0.963823\n",
       "Alley             0.932423\n",
       "Fence             0.804778\n",
       "Fireplace Qu      0.485324\n",
       "Lot Frontage      0.167235\n",
       "Garage Yr Blt     0.054266\n",
       "Garage Cond       0.054266\n",
       "Garage Qual       0.054266\n",
       "Garage Finish     0.054266\n",
       "Garage Type       0.053584\n",
       "Bsmt Exposure     0.028328\n",
       "BsmtFin Type 2    0.027645\n",
       "Bsmt Cond         0.027304\n",
       "Bsmt Qual         0.027304\n",
       "BsmtFin Type 1    0.027304\n",
       "Mas Vnr Type      0.007850\n",
       "Mas Vnr Area      0.007850\n",
       "Bsmt Half Bath    0.000683\n",
       "Bsmt Full Bath    0.000683\n",
       "Garage Cars       0.000341\n",
       "BsmtFin SF 2      0.000341\n",
       "BsmtFin SF 1      0.000341\n",
       "Bsmt Unf SF       0.000341\n",
       "Total Bsmt SF     0.000341\n",
       "Garage Area       0.000341\n",
       "Electrical        0.000341\n",
       "dtype: float64"
      ]
     },
     "execution_count": 30,
     "metadata": {},
     "output_type": "execute_result"
    }
   ],
   "source": [
    "missing_values = houses.isnull().sum() / houses.shape[0]\n",
    "missing_values[missing_values > 0].sort_values(ascending=False)"
   ]
  },
  {
   "cell_type": "markdown",
   "metadata": {},
   "source": [
    "### Data preparation"
   ]
  },
  {
   "cell_type": "code",
   "execution_count": 31,
   "metadata": {},
   "outputs": [
    {
     "data": {
      "text/plain": [
       "array([dtype('int64'), dtype('O'), dtype('float64')], dtype=object)"
      ]
     },
     "execution_count": 31,
     "metadata": {},
     "output_type": "execute_result"
    }
   ],
   "source": [
    "# Display dtypes\n",
    "houses.dtypes.unique()"
   ]
  },
  {
   "cell_type": "code",
   "execution_count": 32,
   "metadata": {},
   "outputs": [],
   "source": [
    "# Group features \n",
    "disc_feat = ['Bsmt Full Bath', 'Bsmt Half Bath', 'Full Bath', 'Half Bath', 'Bedroom AbvGr', \n",
    "'Kitchen AbvGr', 'TotRms AbvGrd', 'Fireplaces', 'Garage Yr Blt',\n",
    "'Garage Cars', 'Mo Sold', 'Yr Sold']\n",
    "\n",
    "cont_feat = ['Lot Frontage', 'Lot Area', 'Mas Vnr Area', 'BsmtFin SF 1',\n",
    "'BsmtFin SF 2', 'Bsmt Unf SF', 'Total Bsmt SF', '1st Flr SF', '2nd Flr SF',\n",
    "'Low Qual Fin SF', 'Gr Liv Area', 'Garage Area', 'Wood Deck SF', \n",
    "'Open Porch SF', 'Enclosed Porch', '3Ssn Porch', 'Screen Porch',\n",
    "'Pool Area']\n",
    "\n",
    "ord_feat = ['Lot Shape', 'Utilities', 'Land Slope', 'Overall Qual',\n",
    "'Overall Cond', 'Exter Qual', 'Exter Cond', 'Bsmt Qual', 'Bsmt Cond',\n",
    "'Bsmt Exposure', 'BsmtFin Type 1', 'BsmtFin Type 2', 'Heating QC',\n",
    "'Electrical', 'Kitchen Qual', 'Functional', 'Garage Finish', \n",
    "'Garage Qual', 'Garage Cond', 'Paved Drive']\n",
    "\n",
    "nom_feat = ['MS SubClass', 'MS Zoning', 'Street', 'Land Contour', 'Lot Config',\n",
    "'Neighborhood', 'Condition 1', 'Condition 2', 'Bldg Type', 'House Style',\n",
    "'Roof Style', 'Roof Matl', 'Exterior 1st', 'Exterior 2nd', 'Mas Vnr Type',\n",
    "'Foundation', 'Heating', 'Central Air', 'Garage Type', ]"
   ]
  },
  {
   "cell_type": "code",
   "execution_count": 33,
   "metadata": {},
   "outputs": [],
   "source": [
    "def train_and_val(data, target):\n",
    "    # Split data to train and test\n",
    "    div = int(data.shape[0] * 0.8)\n",
    "    train = data.iloc[:div]\n",
    "    test = data.iloc[div:]\n",
    "    \n",
    "    # Create a list of features\n",
    "    feats = list(train.columns)\n",
    "    feats.remove('SalePrice')\n",
    "    \n",
    "    # Instantiate models and kfold class\n",
    "    knn = KNeighborsRegressor()#n_neighbors=k)\n",
    "    lr = LinearRegression()\n",
    "    kf = KFold(10, shuffle=True, random_state=1)\n",
    "    \n",
    "    # Print information on MAE and RMSE\n",
    "    for name, model in [('KNN', knn), ('LR', lr)]:\n",
    "        mses = cross_val_score(model, train[feats], train[target],\n",
    "                              scoring = 'neg_mean_squared_error', cv=kf)\n",
    "        maes = cross_val_score(model, train[feats], train[target],\n",
    "                              scoring = 'neg_mean_absolute_error', cv=kf)\n",
    "        avg_rmse = np.mean(np.sqrt(np.abs(mses)))\n",
    "        avg_mae = np.mean(np.abs(maes))\n",
    "        print('{0} RMSE: {1}'.format(name, avg_rmse))\n",
    "        print('{0} MAE: {1}'.format(name, avg_mae))"
   ]
  },
  {
   "cell_type": "code",
   "execution_count": 34,
   "metadata": {},
   "outputs": [
    {
     "name": "stdout",
     "output_type": "stream",
     "text": [
      "KNN RMSE: 29719.937687220732\n",
      "KNN MAE: 20619.08622623753\n",
      "LR RMSE: 25124.5578877397\n",
      "LR MAE: 16732.420338779502\n"
     ]
    }
   ],
   "source": [
    "# Selected manually based on data dictionary\n",
    "nom_feat = ['Lot Config', 'Condition 1', 'Bldg Type', 'Central Air', \n",
    "            'Neighborhood', 'House Style', 'Roof Style', 'Exterior 1st',\n",
    "            'Exterior 2nd', 'Mas Vnr Type', 'Foundation', 'Garage Type']\n",
    "\n",
    "# Update function definition\n",
    "def drop_low_corr(data, feat, method, test_data=None):\n",
    "    \"\"\" Drop columns with corellation coefficient less than\n",
    "        0.5 and return dataset and features as index.\n",
    "    \"\"\"\n",
    "    if test_data is not None:\n",
    "        corr_coefs = np.abs(test_data[list(feat) + ['SalePrice']].corr(\n",
    "        method=method)['SalePrice'])\n",
    "    else:\n",
    "        corr_coefs = np.abs(data[feat + ['SalePrice']].corr(\n",
    "        method=method)['SalePrice'])\n",
    "        \n",
    "    data = data.drop(corr_coefs[corr_coefs < 0.5].index, axis=1)\n",
    "    feat = corr_coefs[corr_coefs >= 0.5].index.drop('SalePrice')\n",
    "    \n",
    "    return data, feat\n",
    "\n",
    "def mapping(data):\n",
    "    test_data = data.copy()\n",
    "    # Map for columns 'Bsmt Cond', 'Bsmt Qual', 'Exter Cond', 'Exter Qual',\n",
    "    # 'Garage Cond', 'Garage Qual', 'Heating QC', 'Kitchen Qual'\n",
    "    group1_map = {'Ex': 6, 'Fa': 3, 'Gd': 5, 'NoBsmt': 1,\n",
    "                   'NoGrg': 1, 'Po': 2, 'TA': 4}\n",
    "    group1_cols = ['Bsmt Cond', 'Bsmt Qual', 'Exter Cond', 'Exter Qual', \n",
    "                    'Garage Cond', 'Garage Qual', 'Heating QC',\n",
    "                    'Kitchen Qual']\n",
    "    for col in group1_cols:\n",
    "        test_data[col] = test_data[col].map(group1_map)\n",
    "\n",
    "    # Map for 'Bsmt Exposure'\n",
    "    bsmt_exp_map = {'Av': 4, 'Gd': 5, 'Mn': 3, 'No': 2, 'NoBsmt': 1}\n",
    "    test_data['Bsmt Exposure'] = test_data['Bsmt Exposure'].map(\n",
    "        bsmt_exp_map)\n",
    "\n",
    "    # Map for columns 'BsmtFin Type 1' and 'BsmtFin Type 2'\n",
    "    bsmtfin_typ_map = {'ALQ': 6, 'BLQ': 5, 'GLQ': 7, 'LwQ': 3,\n",
    "                       'NoBsmt': 1, 'Rec': 4, 'Unf': 2}\n",
    "    for col in ['BsmtFin Type 1', 'BsmtFin Type 2']:\n",
    "        test_data[col] = test_data[col].map(bsmtfin_typ_map)\n",
    "\n",
    "    # Map for 'Functional':\n",
    "    functional_map = {'Maj1': 4, 'Maj2': 3, 'Min1': 7, 'Min2': 6,\n",
    "                      'Mod': 5, 'Sal': 1, 'Sev': 2, 'Typ': 8}\n",
    "    test_data['Functional'] = test_data['Functional'].map(functional_map)\n",
    "\n",
    "    # Map for 'Lot Shape'\n",
    "    lot_shape_map = {'IR1': 3, 'IR2': 2, 'IR3': 1, 'Reg': 4}\n",
    "    test_data['Lot Shape'] = test_data['Lot Shape'].map(lot_shape_map)\n",
    "\n",
    "    # Map for 'Paved Drive'\n",
    "    paved_drive_map = {'N': 1, 'P': 2, 'Y': 3}\n",
    "    test_data['Paved Drive'] = test_data['Paved Drive'].map(\n",
    "        paved_drive_map)\n",
    "    return test_data\n",
    "    \n",
    "def select_features(data, cont_feat, disc_feat, ord_feat, nom_feat):\n",
    "    # Copies need for several iterations\n",
    "    data = data.copy()\n",
    "    cont_feat = copy.deepcopy(cont_feat)\n",
    "    disc_feat = copy.deepcopy(disc_feat)\n",
    "    ord_feat = copy.deepcopy(ord_feat)\n",
    "    nom_feat = copy.deepcopy(nom_feat)\n",
    "    \n",
    "    # Add columns\n",
    "    data['Years_Sold'] = data['Yr Sold'] - data['Year Built']\n",
    "    data['Years_Since_Remod'] = data['Yr Sold'] - data['Year Remod/Add']\n",
    "    # Remove rows with negative values of these columns\n",
    "    data = data[(data['Years_Sold'] >= 0) &\n",
    "                (data['Years_Since_Remod'] >= 0)]\n",
    "    # Append list of features\n",
    "    cont_feat = cont_feat + ['Years_Sold', 'Years_Since_Remod']\n",
    "    \n",
    "    # Drop columns with percentage of missing values more than 45%\n",
    "    missing_values = data.isnull().sum() / data.shape[0]\n",
    "    data.drop(missing_values[missing_values > 0.45].index.tolist(),\n",
    "                     axis=1, inplace=True)\n",
    "    # Drop column and remove it from list\n",
    "    data.drop(labels='Garage Yr Blt', axis=1, inplace=True)\n",
    "    disc_feat.remove('Garage Yr Blt')\n",
    "    # Drop rows with outliers in SalePrice column\n",
    "    data = data[\n",
    "        np.abs(data['SalePrice'] - data['SalePrice'].mean()\n",
    "              ) <= 3*data['SalePrice'].std()]\n",
    "    # Drop coumns with correlation less than 0.5\n",
    "    data, cont_feat = drop_low_corr(data, cont_feat, 'pearson')\n",
    "    data, disc_feat = drop_low_corr(data, disc_feat, 'spearman')\n",
    "    \n",
    "    # Fill nan values with Zero\n",
    "    data[cont_feat] = data[cont_feat].fillna(0)\n",
    "    data['Garage Cars'] = data['Garage Cars'].fillna(0)\n",
    "    # Fill nan values for ordinal data\n",
    "    cols = ['Garage Finish', 'Garage Qual', 'Garage Cond']\n",
    "    data[cols] = data[cols].fillna('NoGrg')\n",
    "    cols = ['Bsmt Qual', 'Bsmt Cond', 'Bsmt Exposure',\n",
    "            'BsmtFin Type 1', 'BsmtFin Type 2']\n",
    "    data[cols] = data[cols].fillna('NoBsmt')\n",
    "    data['Electrical'] = data['Electrical'].fillna('SBrkr')\n",
    "    # Fill nan values for nominal data\n",
    "    houses['Garage Type'] = houses['Garage Type'].fillna('NoGrg')\n",
    "    houses['Mas Vnr Type'] = houses['Mas Vnr Type'].fillna('None')\n",
    "    \n",
    "    # Rescale data on continious columns\n",
    "    back_up = data['Gr Liv Area'].copy()\n",
    "    high = back_up.max()\n",
    "    low = back_up.min()\n",
    "    back_up = (back_up - low) / (high - low)\n",
    "    data[cont_feat] = ((data[cont_feat] - data[cont_feat].min()) /\n",
    "                   (data[cont_feat].max() - data[cont_feat].min()))\n",
    "    data['Gr Liv Area'] = back_up\n",
    "    \n",
    "    # Cheking the number of unique values in each column\n",
    "    low_var_cols = pd.Series(\n",
    "        {col: data[col].value_counts(normalize=True).max()\n",
    "         for col in ord_feat}\n",
    "    )\n",
    "    # Drop columns where % of unique values is greater than 95\n",
    "    # (low variance)\n",
    "    ord_feat = low_var_cols[low_var_cols < 0.95].index\n",
    "    data.drop(low_var_cols[low_var_cols >= 0.95].index, axis=1,\n",
    "                inplace=True)\n",
    "    \n",
    "    # Create a test dataset to test correlation\n",
    "    test_data = mapping(data)\n",
    "    test_cols = list(ord_feat) + ['SalePrice']\n",
    "    test_cols.remove('Electrical')\n",
    "    data, ord_feat = drop_low_corr(data, ord_feat, method='spearman',\n",
    "                                   test_data=test_data)\n",
    "    # Create a list of features\n",
    "    feat = list(cont_feat\n",
    "                .union(disc_feat)\n",
    "                .union(ord_feat)\n",
    "                .union(nom_feat)) + ['SalePrice']\n",
    "    # Replace ordinal and nominal features with dummy variables\n",
    "    data = pd.get_dummies(data[feat], columns=ord_feat.union(nom_feat))\n",
    "    \n",
    "    return data, feat\n",
    "\n",
    "new_houses, new_feat = select_features(houses, cont_feat, \n",
    "                                    disc_feat, ord_feat, nom_feat)\n",
    "\n",
    "new_houses = new_houses.loc[np.random.permutation(new_houses.index)]\n",
    "train_and_val(new_houses, 'SalePrice')"
   ]
  },
  {
   "cell_type": "markdown",
   "metadata": {
    "collapsed": true
   },
   "source": [
    "### Model fitting\n",
    "\n",
    "Try several configuration of knn and lr. For knn try the number of neighbors 1, 3, 5, 7, 9, 11, 13 and compare it's results with linear regression. "
   ]
  },
  {
   "cell_type": "code",
   "execution_count": 35,
   "metadata": {},
   "outputs": [
    {
     "name": "stdout",
     "output_type": "stream",
     "text": [
      "The number of neighbors is 1.\n",
      "KNN RMSE: 37223.75147631204\n",
      "KNN MAE: 25689.985383022773\n",
      "LR RMSE: 25124.5578877397\n",
      "LR MAE: 16732.420338779502\n",
      "<-------------------------------->\n",
      "The number of neighbors is 3.\n",
      "KNN RMSE: 30140.931176554448\n",
      "KNN MAE: 21108.735445761966\n",
      "LR RMSE: 25124.5578877397\n",
      "LR MAE: 16732.420338779502\n",
      "<-------------------------------->\n",
      "The number of neighbors is 5.\n",
      "KNN RMSE: 29719.937687220732\n",
      "KNN MAE: 20619.08622623753\n",
      "LR RMSE: 25124.5578877397\n",
      "LR MAE: 16732.420338779502\n",
      "<-------------------------------->\n",
      "The number of neighbors is 7.\n",
      "KNN RMSE: 29300.321096238506\n",
      "KNN MAE: 20238.338725229223\n",
      "LR RMSE: 25124.5578877397\n",
      "LR MAE: 16732.420338779502\n",
      "<-------------------------------->\n",
      "The number of neighbors is 9.\n",
      "KNN RMSE: 29331.29522028088\n",
      "KNN MAE: 20261.35760231717\n",
      "LR RMSE: 25124.5578877397\n",
      "LR MAE: 16732.420338779502\n",
      "<-------------------------------->\n",
      "The number of neighbors is 11.\n",
      "KNN RMSE: 29398.28142234659\n",
      "KNN MAE: 20320.597427236797\n",
      "LR RMSE: 25124.5578877397\n",
      "LR MAE: 16732.420338779502\n",
      "<-------------------------------->\n",
      "The number of neighbors is 13.\n",
      "KNN RMSE: 29510.54730062441\n",
      "KNN MAE: 20392.851090358916\n",
      "LR RMSE: 25124.5578877397\n",
      "LR MAE: 16732.420338779502\n",
      "<-------------------------------->\n",
      "The number of neighbors is 15.\n",
      "KNN RMSE: 29613.17216720701\n",
      "KNN MAE: 20439.36806587615\n",
      "LR RMSE: 25124.5578877397\n",
      "LR MAE: 16732.420338779502\n",
      "<-------------------------------->\n"
     ]
    }
   ],
   "source": [
    "def train_and_val(data, target, k):\n",
    "    # Split data to train and test\n",
    "    div = int(data.shape[0] * 0.8)\n",
    "    train = data.iloc[:div]\n",
    "    test = data.iloc[div:]\n",
    "    \n",
    "    # Create a list of features\n",
    "    feats = list(train.columns)\n",
    "    feats.remove('SalePrice')\n",
    "    \n",
    "    # Instantiate models and kfold class\n",
    "    knn = KNeighborsRegressor(n_neighbors=k)\n",
    "    lr = LinearRegression()\n",
    "    kf = KFold(10, shuffle=True, random_state=1)\n",
    "    \n",
    "    # Print information on MAE and RMSE\n",
    "    for name, model in [('KNN', knn), ('LR', lr)]:\n",
    "        mses = cross_val_score(model, train[feats], train[target],\n",
    "                              scoring = 'neg_mean_squared_error', cv=kf)\n",
    "        maes = cross_val_score(model, train[feats], train[target],\n",
    "                              scoring = 'neg_mean_absolute_error', cv=kf)\n",
    "        avg_rmse = np.mean(np.sqrt(np.abs(mses)))\n",
    "        avg_mae = np.mean(np.abs(maes))\n",
    "        print('{0} RMSE: {1}'.format(name, avg_rmse))\n",
    "        print('{0} MAE: {1}'.format(name, avg_mae))\n",
    "        \n",
    "for k in range(1, 16, 2):\n",
    "    print('The number of neighbors is {}.'.format(k))\n",
    "    train_and_val(new_houses, 'SalePrice', k)\n",
    "    print('<-------------------------------->')"
   ]
  },
  {
   "cell_type": "markdown",
   "metadata": {},
   "source": [
    "No improvements in model's performance. We will proceed with linear regression. Let's check our model on test data set. I didn't find any hyperparameter optimization for leaner regression. So, let's verify our model on test data set. "
   ]
  },
  {
   "cell_type": "code",
   "execution_count": 36,
   "metadata": {},
   "outputs": [
    {
     "name": "stdout",
     "output_type": "stream",
     "text": [
      "22153.32739817816\n",
      "['1st Flr SF', 'Bldg Type', 'Bsmt Qual', 'Central Air', 'Condition 1', 'Exter Qual', 'Exterior 1st', 'Exterior 2nd', 'Fireplaces', 'Foundation', 'Full Bath', 'Garage Area', 'Garage Cars', 'Garage Type', 'Gr Liv Area', 'Heating QC', 'House Style', 'Kitchen Qual', 'Lot Config', 'Mas Vnr Type', 'Neighborhood', 'Overall Qual', 'Roof Style', 'Total Bsmt SF', 'Years_Since_Remod', 'Years_Sold', 'SalePrice']\n"
     ]
    }
   ],
   "source": [
    "def train_and_test(data, target):\n",
    "    # Split data to train and test\n",
    "    div = int(data.shape[0] * 0.8)\n",
    "    train = data.iloc[:div]\n",
    "    test = data.iloc[div:]\n",
    "    \n",
    "    # Create a list of features\n",
    "    feats = list(train.columns)\n",
    "    feats.remove('SalePrice')\n",
    "    \n",
    "    lr = LinearRegression()\n",
    "    lr.fit(train[feats], train['SalePrice'])\n",
    "    predictions = lr.predict(test[feats])\n",
    "    maes = mean_squared_error(test['SalePrice'], predictions)\n",
    "    \n",
    "    return maes**0.5\n",
    "\n",
    "print(train_and_test(new_houses, 'SalePrice'))\n",
    "print(new_feat)"
   ]
  },
  {
   "cell_type": "code",
   "execution_count": 46,
   "metadata": {},
   "outputs": [
    {
     "data": {
      "image/png": "[encoded data removed]",
      "text/plain": [
       "<Figure size 432x288 with 1 Axes>"
      ]
     },
     "metadata": {
      "needs_background": "light"
     },
     "output_type": "display_data"
    },
    {
     "data": {
      "image/png": "[encoded data removed]",
      "text/plain": [
       "<Figure size 432x288 with 1 Axes>"
      ]
     },
     "metadata": {
      "needs_background": "light"
     },
     "output_type": "display_data"
    }
   ],
   "source": [
    "test_set = houses.copy()\n",
    "sns.distplot(test_set['SalePrice'], fit=scipy.stats.norm)\n",
    "plt.show()\n",
    "scipy.stats.probplot(test_set['SalePrice'], plot=plt)\n",
    "plt.show()"
   ]
  },
  {
   "cell_type": "code",
   "execution_count": 48,
   "metadata": {},
   "outputs": [],
   "source": [
    "test_set['SalePrice'] = np.log(test_set['SalePrice'])\n",
    "new_set, new_set_feats = select_features(test_set, cont_feat, disc_feat, ord_feat, nom_feat)\n",
    "new_set = new_set.loc[np.random.permutation(new_set.index)]"
   ]
  },
  {
   "cell_type": "code",
   "execution_count": 49,
   "metadata": {},
   "outputs": [
    {
     "data": {
      "text/plain": [
       "0.12236985036892596"
      ]
     },
     "execution_count": 49,
     "metadata": {},
     "output_type": "execute_result"
    }
   ],
   "source": [
    "train_and_test(new_set, 'SalePrice')"
   ]
  },
  {
   "cell_type": "code",
   "execution_count": 50,
   "metadata": {},
   "outputs": [
    {
     "name": "stderr",
     "output_type": "stream",
     "text": [
      "/Library/Frameworks/Python.framework/Versions/3.7/lib/python3.7/site-packages/scipy/stats/stats.py:1713: FutureWarning: Using a non-tuple sequence for multidimensional indexing is deprecated; use `arr[tuple(seq)]` instead of `arr[seq]`. In the future this will be interpreted as an array index, `arr[np.array(seq)]`, which will result either in an error or a different result.\n",
      "  return np.add.reduce(sorted[indexer] * weights, axis=axis) / sumval\n"
     ]
    },
    {
     "data": {
      "image/png": "[encoded data removed]",
      "text/plain": [
       "<Figure size 432x288 with 1 Axes>"
      ]
     },
     "metadata": {
      "needs_background": "light"
     },
     "output_type": "display_data"
    },
    {
     "data": {
      "image/png": "[encoded data removed]",
      "text/plain": [
       "<Figure size 432x288 with 1 Axes>"
      ]
     },
     "metadata": {
      "needs_background": "light"
     },
     "output_type": "display_data"
    }
   ],
   "source": [
    "sns.distplot(test_set['SalePrice'], fit=scipy.stats.norm)\n",
    "plt.show()\n",
    "scipy.stats.probplot(test_set['SalePrice'], plot=plt)\n",
    "plt.show()"
   ]
  },
  {
   "cell_type": "code",
   "execution_count": null,
   "metadata": {},
   "outputs": [],
   "source": []
  }
 ],
 "metadata": {
  "kernelspec": {
   "display_name": "Python 3",
   "language": "python",
   "name": "python3"
  },
  "language_info": {
   "codemirror_mode": {
    "name": "ipython",
    "version": 3
   },
   "file_extension": ".py",
   "mimetype": "text/x-python",
   "name": "python",
   "nbconvert_exporter": "python",
   "pygments_lexer": "ipython3",
   "version": "3.7.0"
  }
 },
 "nbformat": 4,
 "nbformat_minor": 2
}
