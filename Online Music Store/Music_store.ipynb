{
 "cells": [
  {
   "cell_type": "code",
   "execution_count": 1,
   "metadata": {
    "collapsed": true
   },
   "outputs": [],
   "source": [
    "%matplotlib inline\n",
    "import matplotlib.pyplot as plt\n",
    "import matplotlib\n",
    "import sqlite3\n",
    "import numpy as np\n",
    "import pandas as pd\n",
    "\n",
    "def run_query(q):\n",
    "    with sqlite3.connect('chinook.db') as conn:\n",
    "        return pd.read_sql(q, conn)\n",
    "    \n",
    "def run_command(q):\n",
    "    with sqlite3.connect('chinook.db') as conn:\n",
    "        conn.isolation_level = None\n",
    "        conn.execute(q)\n",
    "        \n",
    "def show_tables():\n",
    "    return run_query(\"\"\"SELECT name, type\n",
    "                        FROM sqlite_master\n",
    "                        WHERE type IN ('table', 'view')\n",
    "                        \"\"\")\n",
    "\n",
    "def colors(ds):\n",
    "    # Create a list of required number of colors\n",
    "    # which is equal to number of rows\n",
    "    n = ds.shape[0]\n",
    "    cmap = matplotlib.cm.get_cmap('coolwarm', n)\n",
    "    return [cmap(i)\n",
    "            for i in np.linspace(0, 1, n)]"
   ]
  },
  {
   "cell_type": "code",
   "execution_count": 2,
   "metadata": {
    "collapsed": false
   },
   "outputs": [],
   "source": [
    "#show_tables()"
   ]
  },
  {
   "cell_type": "markdown",
   "metadata": {},
   "source": [
    "# Analysis of tracks sales based on genre"
   ]
  },
  {
   "cell_type": "markdown",
   "metadata": {},
   "source": [
    "Our task is to choose three albums to buy for the music shop based on sales data on different genres. We have the following albums: \n",
    "- Regal (Hip-Hop);\n",
    "- Red Tone (Punk);\n",
    "- Meteor and the Girls (Pop);\n",
    "- Slim Jim Bites (Blues);"
   ]
  },
  {
   "cell_type": "code",
   "execution_count": 3,
   "metadata": {
    "collapsed": false
   },
   "outputs": [
    {
     "data": {
      "text/html": [
       "<div>\n",
       "<style scoped>\n",
       "    .dataframe tbody tr th:only-of-type {\n",
       "        vertical-align: middle;\n",
       "    }\n",
       "\n",
       "    .dataframe tbody tr th {\n",
       "        vertical-align: top;\n",
       "    }\n",
       "\n",
       "    .dataframe thead th {\n",
       "        text-align: right;\n",
       "    }\n",
       "</style>\n",
       "<table border=\"1\" class=\"dataframe\">\n",
       "  <thead>\n",
       "    <tr style=\"text-align: right;\">\n",
       "      <th></th>\n",
       "      <th>genre_name</th>\n",
       "      <th>tracks_purchased</th>\n",
       "      <th>tracks_purchased_prc</th>\n",
       "    </tr>\n",
       "  </thead>\n",
       "  <tbody>\n",
       "    <tr>\n",
       "      <th>0</th>\n",
       "      <td>Alternative &amp; Punk</td>\n",
       "      <td>130</td>\n",
       "      <td>0.123692</td>\n",
       "    </tr>\n",
       "    <tr>\n",
       "      <th>1</th>\n",
       "      <td>Blues</td>\n",
       "      <td>36</td>\n",
       "      <td>0.034253</td>\n",
       "    </tr>\n",
       "    <tr>\n",
       "      <th>2</th>\n",
       "      <td>Pop</td>\n",
       "      <td>22</td>\n",
       "      <td>0.020932</td>\n",
       "    </tr>\n",
       "    <tr>\n",
       "      <th>3</th>\n",
       "      <td>Hip Hop/Rap</td>\n",
       "      <td>20</td>\n",
       "      <td>0.019029</td>\n",
       "    </tr>\n",
       "  </tbody>\n",
       "</table>\n",
       "</div>"
      ],
      "text/plain": [
       "           genre_name  tracks_purchased  tracks_purchased_prc\n",
       "0  Alternative & Punk               130              0.123692\n",
       "1               Blues                36              0.034253\n",
       "2                 Pop                22              0.020932\n",
       "3         Hip Hop/Rap                20              0.019029"
      ]
     },
     "execution_count": 3,
     "metadata": {},
     "output_type": "execute_result"
    }
   ],
   "source": [
    "# Create and run query to idenrify percentages of sales \n",
    "# for each genre\n",
    "q1 = \"\"\"\n",
    "WITH\n",
    "    track_purchased AS\n",
    "        (\n",
    "        SELECT\n",
    "            t.track_id,\n",
    "            t.genre_id, \n",
    "            COUNT(il.invoice_id) invoice_count\n",
    "        FROM track t\n",
    "        INNER JOIN invoice_line il\n",
    "        ON t.track_id=il.track_id\n",
    "        INNER JOIN invoice i\n",
    "        ON il.invoice_id=i.invoice_id\n",
    "        INNER JOIN (SELECT customer_id, country\n",
    "                    FROM customer\n",
    "                    WHERE country = 'USA') c\n",
    "        ON i.customer_id=c.customer_id\n",
    "        GROUP BY 1\n",
    "        ORDER BY 1\n",
    "        ),\n",
    "    tracks_by_genre AS\n",
    "        (\n",
    "        SELECT\n",
    "            g.name genre_name, \n",
    "            SUM(tp.invoice_count) tracks_purchased\n",
    "        FROM track_purchased tp\n",
    "        INNER JOIN genre g\n",
    "        ON tp.genre_id=g.genre_id\n",
    "        GROUP BY 1\n",
    "        ORDER BY 2 DESC\n",
    "        )\n",
    "        \n",
    "SELECT\n",
    "    genre_name,\n",
    "    tracks_purchased,\n",
    "    CAST(tracks_purchased as float)/ \n",
    "    CAST(\n",
    "            (\n",
    "            SELECT SUM(tracks_purchased)\n",
    "            FROM tracks_by_genre\n",
    "            )\n",
    "        as float\n",
    "        ) tracks_purchased_prc\n",
    "FROM tracks_by_genre\n",
    "WHERE genre_name in ('Hip Hop/Rap', 'Alternative & Punk',\n",
    "'Pop', 'Blues')\n",
    "\"\"\" \n",
    "run_query(q1)"
   ]
  },
  {
   "cell_type": "code",
   "execution_count": 4,
   "metadata": {
    "collapsed": false
   },
   "outputs": [
    {
     "data": {
      "image/png": "[encoded data removed]",
      "text/plain": [
       "<matplotlib.figure.Figure at 0x7f0f500b5668>"
      ]
     },
     "metadata": {},
     "output_type": "display_data"
    }
   ],
   "source": [
    "# Create a bar chart\n",
    "data1 = run_query(q1)\n",
    "data1.set_index('genre_name', drop=True, inplace=True)    \n",
    "data1.index.name = None\n",
    "\n",
    "chart1 = data1['tracks_purchased'].plot.bar(\n",
    "title = \"Sales on target genres in USA\",\n",
    "colormap=plt.cm.coolwarm)\n",
    "plt.xlabel('')\n",
    "plt.xticks(rotation=0)\n",
    "chart1.axes.get_yaxis().set_visible(False)\n",
    "chart1.tick_params(top='off', bottom='off')\n",
    "\n",
    "for i, label in enumerate(data1.index):\n",
    "    score = data1.loc[label, 'tracks_purchased']\n",
    "    label = (data1.loc[label, 'tracks_purchased_prc']\n",
    "             *100).astype(int).astype(str) + '%'\n",
    "    plt.annotate(str(label), (i - 0.1, score + 2))"
   ]
  },
  {
   "cell_type": "markdown",
   "metadata": {
    "collapsed": true
   },
   "source": [
    "The genres which sell the most tracks in the USA are Punk, Blues, and Pop. So, we should purchase albums of Red Tone, Meteor and the Girls, and Slim Jim Bites. "
   ]
  },
  {
   "cell_type": "markdown",
   "metadata": {},
   "source": [
    "# Analysis of employee performance"
   ]
  },
  {
   "cell_type": "markdown",
   "metadata": {},
   "source": [
    "In this step, we need to analyze employees performance. I am going to do it based on the following indicators:\n",
    "- total number of customers per sales agent;\n",
    "- total sales per sales agent;\n",
    "- average sales per customer for each agent;"
   ]
  },
  {
   "cell_type": "code",
   "execution_count": 5,
   "metadata": {
    "collapsed": false
   },
   "outputs": [
    {
     "data": {
      "text/html": [
       "<div>\n",
       "<style scoped>\n",
       "    .dataframe tbody tr th:only-of-type {\n",
       "        vertical-align: middle;\n",
       "    }\n",
       "\n",
       "    .dataframe tbody tr th {\n",
       "        vertical-align: top;\n",
       "    }\n",
       "\n",
       "    .dataframe thead th {\n",
       "        text-align: right;\n",
       "    }\n",
       "</style>\n",
       "<table border=\"1\" class=\"dataframe\">\n",
       "  <thead>\n",
       "    <tr style=\"text-align: right;\">\n",
       "      <th></th>\n",
       "      <th>full_name</th>\n",
       "      <th>number_customers</th>\n",
       "      <th>total_sales</th>\n",
       "      <th>sales_per_customer</th>\n",
       "    </tr>\n",
       "  </thead>\n",
       "  <tbody>\n",
       "    <tr>\n",
       "      <th>0</th>\n",
       "      <td>Jane Peacock</td>\n",
       "      <td>21</td>\n",
       "      <td>1731.51</td>\n",
       "      <td>82.45</td>\n",
       "    </tr>\n",
       "    <tr>\n",
       "      <th>1</th>\n",
       "      <td>Margaret Park</td>\n",
       "      <td>20</td>\n",
       "      <td>1584.00</td>\n",
       "      <td>79.20</td>\n",
       "    </tr>\n",
       "    <tr>\n",
       "      <th>2</th>\n",
       "      <td>Steve Johnson</td>\n",
       "      <td>18</td>\n",
       "      <td>1393.92</td>\n",
       "      <td>77.44</td>\n",
       "    </tr>\n",
       "  </tbody>\n",
       "</table>\n",
       "</div>"
      ],
      "text/plain": [
       "       full_name  number_customers  total_sales  sales_per_customer\n",
       "0   Jane Peacock                21      1731.51               82.45\n",
       "1  Margaret Park                20      1584.00               79.20\n",
       "2  Steve Johnson                18      1393.92               77.44"
      ]
     },
     "execution_count": 5,
     "metadata": {},
     "output_type": "execute_result"
    }
   ],
   "source": [
    "# Create and run query to produce indicators. \n",
    "q2 = \"\"\"\n",
    "SELECT\n",
    "    e.first_name || ' ' || e.last_name full_name,\n",
    "    COUNT(DISTINCT c.customer_id) number_customers,\n",
    "    SUM(i.total) total_sales,\n",
    "    ROUND(\n",
    "          SUM(i.total) /\n",
    "          COUNT(DISTINCT c.customer_id), 2\n",
    "          )\n",
    "    sales_per_customer\n",
    "FROM employee e\n",
    "INNER JOIN customer c ON e.employee_id=c.support_rep_id\n",
    "INNER JOIN invoice i ON c.customer_id=i.customer_id\n",
    "GROUP BY 1\n",
    "ORDER BY 1\n",
    "\"\"\"\n",
    "run_query(q2)"
   ]
  },
  {
   "cell_type": "code",
   "execution_count": 6,
   "metadata": {
    "collapsed": false
   },
   "outputs": [
    {
     "data": {
      "image/png": "[encoded data removed]",
      "text/plain": [
       "<matplotlib.figure.Figure at 0x7f0f00779d68>"
      ]
     },
     "metadata": {},
     "output_type": "display_data"
    }
   ],
   "source": [
    "# Create a pie charts to describe the data\n",
    "data2 = run_query(q2)\n",
    "data2.set_index('full_name', drop=True, inplace=True)\n",
    "data2.index.name = None\n",
    "\n",
    "clrs = colors(data2)\n",
    "titles = ['Number of customers',\n",
    "         'Total sales',\n",
    "         'Average sale']\n",
    "\n",
    "fig, ax = plt.subplots(3, 1, figsize=(4, 12))\n",
    "for i, col in enumerate(data2.columns):\n",
    "    if i != 1:\n",
    "        labs = data2.index \n",
    "    else:\n",
    "        labs = None\n",
    "    total = sum(data2[col])\n",
    "    ax[i].pie(data2[col],\n",
    "              labels=labs,\n",
    "              colors=clrs,\n",
    "              autopct=lambda p: '{:.0f}'.format(\n",
    "                 p * total / 100))\n",
    "    ax[i].set_title(titles[i] + ' per employee')"
   ]
  },
  {
   "cell_type": "markdown",
   "metadata": {
    "collapsed": true
   },
   "source": [
    "Jane has the biggest number of client and total sales. It might be because she was hired first. The data for Steve and Margaret supports this assumption. However, we the sales per customer is also highest for Jane. So, we can assume that Jane is the top sales support agent. "
   ]
  },
  {
   "cell_type": "markdown",
   "metadata": {},
   "source": [
    "# Analyze the sales data for customers from each different country"
   ]
  },
  {
   "cell_type": "markdown",
   "metadata": {},
   "source": [
    "In this step we should calculate data, for each country, on the:\n",
    "- total number of customers;\n",
    "- total value of sales;\n",
    "- average value of sales per customer;\n",
    "- average order value;\n",
    "If there is only one customer in country, it will be included in the category \"Other\". "
   ]
  },
  {
   "cell_type": "code",
   "execution_count": 7,
   "metadata": {
    "collapsed": false
   },
   "outputs": [
    {
     "data": {
      "text/html": [
       "<div>\n",
       "<style scoped>\n",
       "    .dataframe tbody tr th:only-of-type {\n",
       "        vertical-align: middle;\n",
       "    }\n",
       "\n",
       "    .dataframe tbody tr th {\n",
       "        vertical-align: top;\n",
       "    }\n",
       "\n",
       "    .dataframe thead th {\n",
       "        text-align: right;\n",
       "    }\n",
       "</style>\n",
       "<table border=\"1\" class=\"dataframe\">\n",
       "  <thead>\n",
       "    <tr style=\"text-align: right;\">\n",
       "      <th></th>\n",
       "      <th>country</th>\n",
       "      <th>number_customers</th>\n",
       "      <th>total_sales</th>\n",
       "      <th>avg_sales_per_customer</th>\n",
       "      <th>avg_order_value</th>\n",
       "    </tr>\n",
       "  </thead>\n",
       "  <tbody>\n",
       "    <tr>\n",
       "      <th>0</th>\n",
       "      <td>USA</td>\n",
       "      <td>13</td>\n",
       "      <td>1040.49</td>\n",
       "      <td>80.04</td>\n",
       "      <td>7.94</td>\n",
       "    </tr>\n",
       "    <tr>\n",
       "      <th>1</th>\n",
       "      <td>Canada</td>\n",
       "      <td>8</td>\n",
       "      <td>535.59</td>\n",
       "      <td>66.95</td>\n",
       "      <td>7.05</td>\n",
       "    </tr>\n",
       "    <tr>\n",
       "      <th>2</th>\n",
       "      <td>Brazil</td>\n",
       "      <td>5</td>\n",
       "      <td>427.68</td>\n",
       "      <td>85.54</td>\n",
       "      <td>7.01</td>\n",
       "    </tr>\n",
       "    <tr>\n",
       "      <th>3</th>\n",
       "      <td>France</td>\n",
       "      <td>5</td>\n",
       "      <td>389.07</td>\n",
       "      <td>77.81</td>\n",
       "      <td>7.78</td>\n",
       "    </tr>\n",
       "    <tr>\n",
       "      <th>4</th>\n",
       "      <td>Germany</td>\n",
       "      <td>4</td>\n",
       "      <td>334.62</td>\n",
       "      <td>83.66</td>\n",
       "      <td>8.16</td>\n",
       "    </tr>\n",
       "    <tr>\n",
       "      <th>5</th>\n",
       "      <td>Czech Republic</td>\n",
       "      <td>2</td>\n",
       "      <td>273.24</td>\n",
       "      <td>136.62</td>\n",
       "      <td>9.11</td>\n",
       "    </tr>\n",
       "    <tr>\n",
       "      <th>6</th>\n",
       "      <td>United Kingdom</td>\n",
       "      <td>3</td>\n",
       "      <td>245.52</td>\n",
       "      <td>81.84</td>\n",
       "      <td>8.77</td>\n",
       "    </tr>\n",
       "    <tr>\n",
       "      <th>7</th>\n",
       "      <td>Portugal</td>\n",
       "      <td>2</td>\n",
       "      <td>185.13</td>\n",
       "      <td>92.57</td>\n",
       "      <td>6.38</td>\n",
       "    </tr>\n",
       "    <tr>\n",
       "      <th>8</th>\n",
       "      <td>India</td>\n",
       "      <td>2</td>\n",
       "      <td>183.15</td>\n",
       "      <td>91.57</td>\n",
       "      <td>8.72</td>\n",
       "    </tr>\n",
       "    <tr>\n",
       "      <th>9</th>\n",
       "      <td>Other</td>\n",
       "      <td>15</td>\n",
       "      <td>1094.94</td>\n",
       "      <td>73.00</td>\n",
       "      <td>7.45</td>\n",
       "    </tr>\n",
       "  </tbody>\n",
       "</table>\n",
       "</div>"
      ],
      "text/plain": [
       "          country  number_customers  total_sales  avg_sales_per_customer  \\\n",
       "0             USA                13      1040.49                   80.04   \n",
       "1          Canada                 8       535.59                   66.95   \n",
       "2          Brazil                 5       427.68                   85.54   \n",
       "3          France                 5       389.07                   77.81   \n",
       "4         Germany                 4       334.62                   83.66   \n",
       "5  Czech Republic                 2       273.24                  136.62   \n",
       "6  United Kingdom                 3       245.52                   81.84   \n",
       "7        Portugal                 2       185.13                   92.57   \n",
       "8           India                 2       183.15                   91.57   \n",
       "9           Other                15      1094.94                   73.00   \n",
       "\n",
       "   avg_order_value  \n",
       "0             7.94  \n",
       "1             7.05  \n",
       "2             7.01  \n",
       "3             7.78  \n",
       "4             8.16  \n",
       "5             9.11  \n",
       "6             8.77  \n",
       "7             6.38  \n",
       "8             8.72  \n",
       "9             7.45  "
      ]
     },
     "execution_count": 7,
     "metadata": {},
     "output_type": "execute_result"
    }
   ],
   "source": [
    "q3 = \"\"\"\n",
    "WITH\n",
    "    customers_country AS\n",
    "        (\n",
    "        SELECT\n",
    "            country,\n",
    "            COUNT(customer_id) number_customer\n",
    "        FROM customer\n",
    "        GROUP BY 1\n",
    "        HAVING number_customer > 1\n",
    "        ),\n",
    "    customer_id_country AS\n",
    "        (\n",
    "        SELECT\n",
    "            CASE\n",
    "                WHEN country\n",
    "                IN (SELECT country\n",
    "                    FROM customers_country)\n",
    "                THEN country\n",
    "                ELSE \"Other\"\n",
    "            END AS country,\n",
    "            customer_id\n",
    "        FROM customer\n",
    "        ),\n",
    "    raw_customers AS\n",
    "        (\n",
    "        SELECT\n",
    "            cic.country,\n",
    "            COUNT(DISTINCT cic.customer_id) number_customers,\n",
    "            SUM(i.total) total_sales,\n",
    "            ROUND(SUM(i.total) / COUNT(DISTINCT cic.customer_id), 2)\n",
    "            AS avg_sales_per_customer,\n",
    "            ROUND(SUM(i.total) / COUNT(i.total), 2)\n",
    "            AS avg_order_value,\n",
    "            CASE\n",
    "                WHEN cic.country = 'Other' THEN 0\n",
    "                ELSE 1\n",
    "            END AS sort\n",
    "        FROM customer_id_country cic\n",
    "        INNER JOIN invoice i ON cic.customer_id=i.customer_id\n",
    "        GROUP BY 1\n",
    "        )\n",
    "SELECT\n",
    "    country,\n",
    "    number_customers,\n",
    "    total_sales,\n",
    "    avg_sales_per_customer,\n",
    "    avg_order_value\n",
    "FROM raw_customers\n",
    "ORDER BY sort DESC, total_sales DESC\n",
    "\"\"\"\n",
    "run_query(q3)"
   ]
  },
  {
   "cell_type": "code",
   "execution_count": 8,
   "metadata": {
    "collapsed": false
   },
   "outputs": [
    {
     "data": {
      "image/png": "[encoded data removed]",
      "text/plain": [
       "<matplotlib.figure.Figure at 0x7f0ef64cbba8>"
      ]
     },
     "metadata": {},
     "output_type": "display_data"
    },
    {
     "data": {
      "image/png": "[encoded data removed]",
      "text/plain": [
       "<matplotlib.figure.Figure at 0x7f0ef62e9518>"
      ]
     },
     "metadata": {},
     "output_type": "display_data"
    },
    {
     "data": {
      "image/png": "[encoded data removed]",
      "text/plain": [
       "<matplotlib.figure.Figure at 0x7f0ef62e0668>"
      ]
     },
     "metadata": {},
     "output_type": "display_data"
    },
    {
     "data": {
      "image/png": "[encoded data removed]",
      "text/plain": [
       "<matplotlib.figure.Figure at 0x7f0ef61eb550>"
      ]
     },
     "metadata": {},
     "output_type": "display_data"
    }
   ],
   "source": [
    "# Create visualization of the data excluding group 'Other'\n",
    "data3 = run_query(q3)\n",
    "data3.set_index('country', drop=True, inplace=True)\n",
    "data3.index.name = None\n",
    "data3.drop('Other', inplace=True)\n",
    "\n",
    "clrs = colors(data3)\n",
    "titles = ['Number of customers',\n",
    "         'Total sales',\n",
    "         'Average sales per cutomer',\n",
    "         'Average value of order']\n",
    "\n",
    "for i, col in enumerate(data3.columns):\n",
    "    chart = data3[col].plot.bar(\n",
    "        title = titles[i],\n",
    "        color = clrs)\n",
    "    chart.tick_params(top='off', bottom='off')\n",
    "    \n",
    "    plt.show()"
   ]
  },
  {
   "cell_type": "markdown",
   "metadata": {
    "collapsed": true
   },
   "source": [
    "The highest average values of order are in the Czech Republic, the UK, and India. However, the number of customers is small in these countries. The recommendation is to conduct test advertising campaigns there to identify the estimated sales. "
   ]
  },
  {
   "cell_type": "markdown",
   "metadata": {
    "collapsed": true
   },
   "source": [
    "# Analyze a tendency to buy individual tracks vs whole album"
   ]
  },
  {
   "cell_type": "markdown",
   "metadata": {},
   "source": [
    "Customers can make purchases in one of the two ways:\n",
    "- a whole album\n",
    "- a collection of one or more individual tracks\n",
    "\n",
    "They cannot purchase a whole album, and then add individual tracks to that same purchase (unless they do that by choosing each track manually). We should define the percentage of the whole album purchased versus individual tracks. "
   ]
  },
  {
   "cell_type": "code",
   "execution_count": 9,
   "metadata": {
    "collapsed": false
   },
   "outputs": [
    {
     "data": {
      "text/html": [
       "<div>\n",
       "<style scoped>\n",
       "    .dataframe tbody tr th:only-of-type {\n",
       "        vertical-align: middle;\n",
       "    }\n",
       "\n",
       "    .dataframe tbody tr th {\n",
       "        vertical-align: top;\n",
       "    }\n",
       "\n",
       "    .dataframe thead th {\n",
       "        text-align: right;\n",
       "    }\n",
       "</style>\n",
       "<table border=\"1\" class=\"dataframe\">\n",
       "  <thead>\n",
       "    <tr style=\"text-align: right;\">\n",
       "      <th></th>\n",
       "      <th>album_purchased</th>\n",
       "      <th>number_of_invoices</th>\n",
       "      <th>prc_of_invoices</th>\n",
       "    </tr>\n",
       "  </thead>\n",
       "  <tbody>\n",
       "    <tr>\n",
       "      <th>0</th>\n",
       "      <td>no</td>\n",
       "      <td>500</td>\n",
       "      <td>0.814332</td>\n",
       "    </tr>\n",
       "    <tr>\n",
       "      <th>1</th>\n",
       "      <td>yes</td>\n",
       "      <td>114</td>\n",
       "      <td>0.185668</td>\n",
       "    </tr>\n",
       "  </tbody>\n",
       "</table>\n",
       "</div>"
      ],
      "text/plain": [
       "  album_purchased  number_of_invoices  prc_of_invoices\n",
       "0              no                 500         0.814332\n",
       "1             yes                 114         0.185668"
      ]
     },
     "execution_count": 9,
     "metadata": {},
     "output_type": "execute_result"
    }
   ],
   "source": [
    "q4 = \"\"\"\n",
    "/*Select ids of invoices and match them with ids of\n",
    "tracks in each invoice*/\n",
    "WITH\n",
    "    invoice_track AS\n",
    "        (\n",
    "            SELECT\n",
    "                invoice_id,\n",
    "                track_id\n",
    "            FROM invoice_line\n",
    "        ),\n",
    "/*Select ids of albums and match them with ids of\n",
    "tracks which are included in each album*/\n",
    "    album_track AS\n",
    "        (\n",
    "            SELECT\n",
    "                a.album_id,\n",
    "                t.track_id\n",
    "            FROM track t\n",
    "            INNER JOIN album a\n",
    "            ON a.album_id=t.album_id\n",
    "        ),\n",
    "/*Match albums id with invoices id if track from invoice\n",
    "is in album*/\n",
    "    album_vs_invoice AS\n",
    "        (\n",
    "            SELECT\n",
    "                at.album_id,\n",
    "                it.invoice_id\n",
    "            FROM album_track at\n",
    "            INNER JOIN invoice_track it\n",
    "            ON at.track_id=it.track_id\n",
    "            WHERE at.track_id IN (SELECT it.track_id\n",
    "                              FROM invoice_track it\n",
    "                              GROUP BY it.invoice_id)\n",
    "            GROUP BY 2\n",
    "        ),\n",
    "/*Create a table which contains ids of each invoice and\n",
    "marker column whith 1 if the whole album was purchased\n",
    "and 0 if not*/\n",
    "    album_purchased AS\n",
    "        (\n",
    "            SELECT\n",
    "                avi.invoice_id,\n",
    "                CASE\n",
    "                    /* Select ids of track for each\n",
    "                    pair of album/invoice from\n",
    "                    album_vs_invoice table. If\n",
    "                    ids match return True, if not\n",
    "                    return False*/\n",
    "                    WHEN\n",
    "                        (        \n",
    "                        SELECT track_id\n",
    "                        FROM album_track\n",
    "                        WHERE album_id=avi.album_id\n",
    "\n",
    "                        EXCEPT\n",
    "\n",
    "                        SELECT track_id\n",
    "                        FROM invoice_track\n",
    "                        WHERE invoice_id=avi.invoice_id\n",
    "                        ) IS NULL\n",
    "\n",
    "                        AND\n",
    "\n",
    "                        (\n",
    "                        SELECT track_id\n",
    "                        FROM invoice_track\n",
    "                        WHERE invoice_id=avi.invoice_id\n",
    "\n",
    "                        EXCEPT\n",
    "\n",
    "                        SELECT track_id\n",
    "                        FROM album_track\n",
    "                        WHERE album_id=avi.album_id\n",
    "                        ) IS NULL THEN 1\n",
    "                        ELSE 0\n",
    "                    END AS marker\n",
    "            FROM album_vs_invoice avi\n",
    "        )\n",
    "SELECT\n",
    "    CASE WHEN marker=1 THEN 'yes'\n",
    "    ELSE 'no'\n",
    "    END AS album_purchased,\n",
    "    COUNT(invoice_id) number_of_invoices,\n",
    "    CAST(COUNT(invoice_id) AS float)/\n",
    "    CAST((SELECT COUNT(*)\n",
    "          FROM album_purchased) AS float) prc_of_invoices\n",
    "FROM album_purchased\n",
    "GROUP BY 1\n",
    "\"\"\"                 \n",
    "run_query(q4)"
   ]
  },
  {
   "cell_type": "markdown",
   "metadata": {},
   "source": [
    "The purchase of the whole album is 18.6%. If the company will buy only individual tracks it might lose 20% of revenue. So, I would not recommend to do it. "
   ]
  },
  {
   "cell_type": "markdown",
   "metadata": {},
   "source": [
    "# Top playlist artist"
   ]
  },
  {
   "cell_type": "markdown",
   "metadata": {},
   "source": [
    "We will identify which artist is used in the most playlists"
   ]
  },
  {
   "cell_type": "code",
   "execution_count": 10,
   "metadata": {
    "collapsed": false
   },
   "outputs": [
    {
     "data": {
      "text/html": [
       "<div>\n",
       "<style scoped>\n",
       "    .dataframe tbody tr th:only-of-type {\n",
       "        vertical-align: middle;\n",
       "    }\n",
       "\n",
       "    .dataframe tbody tr th {\n",
       "        vertical-align: top;\n",
       "    }\n",
       "\n",
       "    .dataframe thead th {\n",
       "        text-align: right;\n",
       "    }\n",
       "</style>\n",
       "<table border=\"1\" class=\"dataframe\">\n",
       "  <thead>\n",
       "    <tr style=\"text-align: right;\">\n",
       "      <th></th>\n",
       "      <th>number_of_playlists</th>\n",
       "      <th>name_of_artist</th>\n",
       "    </tr>\n",
       "  </thead>\n",
       "  <tbody>\n",
       "    <tr>\n",
       "      <th>0</th>\n",
       "      <td>7</td>\n",
       "      <td>Eugene Ormandy</td>\n",
       "    </tr>\n",
       "    <tr>\n",
       "      <th>1</th>\n",
       "      <td>6</td>\n",
       "      <td>Academy of St. Martin in the Fields &amp; Sir Nevi...</td>\n",
       "    </tr>\n",
       "    <tr>\n",
       "      <th>2</th>\n",
       "      <td>6</td>\n",
       "      <td>Berliner Philharmoniker &amp; Herbert Von Karajan</td>\n",
       "    </tr>\n",
       "    <tr>\n",
       "      <th>3</th>\n",
       "      <td>6</td>\n",
       "      <td>English Concert &amp; Trevor Pinnock</td>\n",
       "    </tr>\n",
       "    <tr>\n",
       "      <th>4</th>\n",
       "      <td>6</td>\n",
       "      <td>The King's Singers</td>\n",
       "    </tr>\n",
       "  </tbody>\n",
       "</table>\n",
       "</div>"
      ],
      "text/plain": [
       "   number_of_playlists                                     name_of_artist\n",
       "0                    7                                     Eugene Ormandy\n",
       "1                    6  Academy of St. Martin in the Fields & Sir Nevi...\n",
       "2                    6      Berliner Philharmoniker & Herbert Von Karajan\n",
       "3                    6                   English Concert & Trevor Pinnock\n",
       "4                    6                                 The King's Singers"
      ]
     },
     "execution_count": 10,
     "metadata": {},
     "output_type": "execute_result"
    }
   ],
   "source": [
    "# Define if the artist in the playlist\n",
    "# Count the number of playlists\n",
    "# Find maximum value\n",
    "q5 = \"\"\"\n",
    "SELECT\n",
    "    COUNT(playlist_id) number_of_playlists,\n",
    "    name name_of_artist\n",
    "FROM(\n",
    "    SELECT\n",
    "        pt.playlist_id,\n",
    "        ar.name\n",
    "    FROM playlist_track pt\n",
    "    INNER JOIN track t ON pt.track_id=t.track_id\n",
    "    INNER JOIN album al ON t.album_id=al.album_id\n",
    "    INNER JOIN artist ar ON al.artist_id=ar.artist_id\n",
    "    GROUP BY 2, 1\n",
    "    ORDER BY 1, 2\n",
    "    )\n",
    "GROUP BY 2\n",
    "ORDER BY 1 DESC\n",
    "LIMIT 5\n",
    "\"\"\"\n",
    "run_query(q5)"
   ]
  },
  {
   "cell_type": "markdown",
   "metadata": {
    "collapsed": true
   },
   "source": [
    "We can see from the data that Eugene Ormandy is used in the most playlists. "
   ]
  },
  {
   "cell_type": "markdown",
   "metadata": {},
   "source": [
    "# Purchased vs not purchased tracks"
   ]
  },
  {
   "cell_type": "markdown",
   "metadata": {},
   "source": [
    "In this step, we will identify how many tracks have been purchased and not purchased."
   ]
  },
  {
   "cell_type": "code",
   "execution_count": 11,
   "metadata": {
    "collapsed": false
   },
   "outputs": [
    {
     "data": {
      "text/html": [
       "<div>\n",
       "<style scoped>\n",
       "    .dataframe tbody tr th:only-of-type {\n",
       "        vertical-align: middle;\n",
       "    }\n",
       "\n",
       "    .dataframe tbody tr th {\n",
       "        vertical-align: top;\n",
       "    }\n",
       "\n",
       "    .dataframe thead th {\n",
       "        text-align: right;\n",
       "    }\n",
       "</style>\n",
       "<table border=\"1\" class=\"dataframe\">\n",
       "  <thead>\n",
       "    <tr style=\"text-align: right;\">\n",
       "      <th></th>\n",
       "      <th>prc_of_purchased_tracks</th>\n",
       "      <th>prc_of_not_purchased_tracks</th>\n",
       "    </tr>\n",
       "  </thead>\n",
       "  <tbody>\n",
       "    <tr>\n",
       "      <th>0</th>\n",
       "      <td>0.515558</td>\n",
       "      <td>0.484442</td>\n",
       "    </tr>\n",
       "  </tbody>\n",
       "</table>\n",
       "</div>"
      ],
      "text/plain": [
       "   prc_of_purchased_tracks  prc_of_not_purchased_tracks\n",
       "0                 0.515558                     0.484442"
      ]
     },
     "execution_count": 11,
     "metadata": {},
     "output_type": "execute_result"
    }
   ],
   "source": [
    "q6 = \"\"\"\n",
    "WITH\n",
    "    unique_track AS\n",
    "        (\n",
    "         SELECT track_id\n",
    "         FROM track\n",
    "         GROUP BY 1\n",
    "        ),\n",
    "    unique_track_purch AS\n",
    "        (\n",
    "         SELECT track_id\n",
    "         FROM invoice_line\n",
    "         GROUP BY 1\n",
    "        )\n",
    "SELECT\n",
    "    CAST(\n",
    "        COUNT(utp.track_id) AS float\n",
    "        ) / \n",
    "    CAST(\n",
    "        COUNT(ut.track_id) AS float\n",
    "        ) prc_of_purchased_tracks,\n",
    "    CAST(\n",
    "        (COUNT(ut.track_id) - \n",
    "         COUNT(utp.track_id)) AS float\n",
    "         ) /\n",
    "    CAST(\n",
    "        COUNT(ut.track_id) AS float\n",
    "        ) prc_of_not_purchased_tracks\n",
    "FROM unique_track ut\n",
    "LEFT JOIN unique_track_purch utp\n",
    "ON ut.track_id=utp.track_id\n",
    "\"\"\"\n",
    "run_query(q6)"
   ]
  },
  {
   "cell_type": "markdown",
   "metadata": {
    "collapsed": true
   },
   "source": [
    "Only half of the tracks were sold from the store."
   ]
  }
 ],
 "metadata": {
  "kernelspec": {
   "display_name": "Python 3",
   "language": "python",
   "name": "python3"
  },
  "language_info": {
   "codemirror_mode": {
    "name": "ipython",
    "version": 3
   },
   "file_extension": ".py",
   "mimetype": "text/x-python",
   "name": "python",
   "nbconvert_exporter": "python",
   "pygments_lexer": "ipython3",
   "version": "3.4.3"
  }
 },
 "nbformat": 4,
 "nbformat_minor": 2
}
