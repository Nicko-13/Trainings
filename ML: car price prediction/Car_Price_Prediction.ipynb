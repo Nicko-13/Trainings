{
 "cells": [
  {
   "cell_type": "markdown",
   "metadata": {},
   "source": [
    "# My First ML Project - Creating a Model for Car Price Prediction\n",
    "\n",
    "In this project, I practiced the basic workflow of Machine Learning. The model predicts the price of a car based on various features. The information about the [dataset](https://archive.ics.uci.edu/ml/machine-learning-databases/autos/imports-85.data) available [here](https://archive.ics.uci.edu/ml/datasets/automobile).\n",
    "\n",
    "I used the k-nearest neighbors algorithm to build the model. Then, I evaluated the efficiency of the model. I used different types of validation techniques and metrics. \n",
    "\n",
    "The different techniques returned the same model parameters as the most efficient. But, the model needs further optimization based on the MAE/RMSE comparison.\n"
   ]
  },
  {
   "cell_type": "code",
   "execution_count": 10,
   "metadata": {
    "collapsed": false
   },
   "outputs": [],
   "source": [
    "%matplotlib inline\n",
    "import matplotlib.pyplot as plt\n",
    "import seaborn as sns\n",
    "import pandas as pd\n",
    "import numpy as np\n",
    "from sklearn.neighbors import KNeighborsRegressor\n",
    "from sklearn.metrics import mean_squared_error\n",
    "from sklearn.model_selection import cross_val_score, KFold\n",
    "import collections\n",
    "\n",
    "columns = ['symboling', 'normalized_losses', 'make', 'fuel_type',\n",
    "          'aspiration', 'num_doors', 'body_style', 'drive_wheels',\n",
    "          'engine_location', 'wheel_base', 'length', 'width',\n",
    "          'height', 'curb_weight', 'engine_type', 'num_cylinders',\n",
    "          'engine_size', 'fuel_system', 'bore', 'stroke',\n",
    "          'compression_ratio', 'horsepower', 'peak_rmp',\n",
    "          'city_mpg', 'highway_mpg', 'price']\n",
    "\n",
    "cars = pd.read_csv('imports-85.data', header=None, names=columns)"
   ]
  },
  {
   "cell_type": "markdown",
   "metadata": {},
   "source": [
    "## Getting familiar with the data"
   ]
  },
  {
   "cell_type": "code",
   "execution_count": 11,
   "metadata": {
    "collapsed": false
   },
   "outputs": [
    {
     "data": {
      "text/html": [
       "<div>\n",
       "<style scoped>\n",
       "    .dataframe tbody tr th:only-of-type {\n",
       "        vertical-align: middle;\n",
       "    }\n",
       "\n",
       "    .dataframe tbody tr th {\n",
       "        vertical-align: top;\n",
       "    }\n",
       "\n",
       "    .dataframe thead th {\n",
       "        text-align: right;\n",
       "    }\n",
       "</style>\n",
       "<table border=\"1\" class=\"dataframe\">\n",
       "  <thead>\n",
       "    <tr style=\"text-align: right;\">\n",
       "      <th></th>\n",
       "      <th>symboling</th>\n",
       "      <th>normalized_losses</th>\n",
       "      <th>make</th>\n",
       "      <th>fuel_type</th>\n",
       "      <th>aspiration</th>\n",
       "      <th>num_doors</th>\n",
       "      <th>body_style</th>\n",
       "      <th>drive_wheels</th>\n",
       "      <th>engine_location</th>\n",
       "      <th>wheel_base</th>\n",
       "      <th>...</th>\n",
       "      <th>engine_size</th>\n",
       "      <th>fuel_system</th>\n",
       "      <th>bore</th>\n",
       "      <th>stroke</th>\n",
       "      <th>compression_ratio</th>\n",
       "      <th>horsepower</th>\n",
       "      <th>peak_rmp</th>\n",
       "      <th>city_mpg</th>\n",
       "      <th>highway_mpg</th>\n",
       "      <th>price</th>\n",
       "    </tr>\n",
       "  </thead>\n",
       "  <tbody>\n",
       "    <tr>\n",
       "      <th>0</th>\n",
       "      <td>3</td>\n",
       "      <td>?</td>\n",
       "      <td>alfa-romero</td>\n",
       "      <td>gas</td>\n",
       "      <td>std</td>\n",
       "      <td>two</td>\n",
       "      <td>convertible</td>\n",
       "      <td>rwd</td>\n",
       "      <td>front</td>\n",
       "      <td>88.6</td>\n",
       "      <td>...</td>\n",
       "      <td>130</td>\n",
       "      <td>mpfi</td>\n",
       "      <td>3.47</td>\n",
       "      <td>2.68</td>\n",
       "      <td>9.0</td>\n",
       "      <td>111</td>\n",
       "      <td>5000</td>\n",
       "      <td>21</td>\n",
       "      <td>27</td>\n",
       "      <td>13495</td>\n",
       "    </tr>\n",
       "    <tr>\n",
       "      <th>1</th>\n",
       "      <td>3</td>\n",
       "      <td>?</td>\n",
       "      <td>alfa-romero</td>\n",
       "      <td>gas</td>\n",
       "      <td>std</td>\n",
       "      <td>two</td>\n",
       "      <td>convertible</td>\n",
       "      <td>rwd</td>\n",
       "      <td>front</td>\n",
       "      <td>88.6</td>\n",
       "      <td>...</td>\n",
       "      <td>130</td>\n",
       "      <td>mpfi</td>\n",
       "      <td>3.47</td>\n",
       "      <td>2.68</td>\n",
       "      <td>9.0</td>\n",
       "      <td>111</td>\n",
       "      <td>5000</td>\n",
       "      <td>21</td>\n",
       "      <td>27</td>\n",
       "      <td>16500</td>\n",
       "    </tr>\n",
       "    <tr>\n",
       "      <th>2</th>\n",
       "      <td>1</td>\n",
       "      <td>?</td>\n",
       "      <td>alfa-romero</td>\n",
       "      <td>gas</td>\n",
       "      <td>std</td>\n",
       "      <td>two</td>\n",
       "      <td>hatchback</td>\n",
       "      <td>rwd</td>\n",
       "      <td>front</td>\n",
       "      <td>94.5</td>\n",
       "      <td>...</td>\n",
       "      <td>152</td>\n",
       "      <td>mpfi</td>\n",
       "      <td>2.68</td>\n",
       "      <td>3.47</td>\n",
       "      <td>9.0</td>\n",
       "      <td>154</td>\n",
       "      <td>5000</td>\n",
       "      <td>19</td>\n",
       "      <td>26</td>\n",
       "      <td>16500</td>\n",
       "    </tr>\n",
       "    <tr>\n",
       "      <th>3</th>\n",
       "      <td>2</td>\n",
       "      <td>164</td>\n",
       "      <td>audi</td>\n",
       "      <td>gas</td>\n",
       "      <td>std</td>\n",
       "      <td>four</td>\n",
       "      <td>sedan</td>\n",
       "      <td>fwd</td>\n",
       "      <td>front</td>\n",
       "      <td>99.8</td>\n",
       "      <td>...</td>\n",
       "      <td>109</td>\n",
       "      <td>mpfi</td>\n",
       "      <td>3.19</td>\n",
       "      <td>3.40</td>\n",
       "      <td>10.0</td>\n",
       "      <td>102</td>\n",
       "      <td>5500</td>\n",
       "      <td>24</td>\n",
       "      <td>30</td>\n",
       "      <td>13950</td>\n",
       "    </tr>\n",
       "    <tr>\n",
       "      <th>4</th>\n",
       "      <td>2</td>\n",
       "      <td>164</td>\n",
       "      <td>audi</td>\n",
       "      <td>gas</td>\n",
       "      <td>std</td>\n",
       "      <td>four</td>\n",
       "      <td>sedan</td>\n",
       "      <td>4wd</td>\n",
       "      <td>front</td>\n",
       "      <td>99.4</td>\n",
       "      <td>...</td>\n",
       "      <td>136</td>\n",
       "      <td>mpfi</td>\n",
       "      <td>3.19</td>\n",
       "      <td>3.40</td>\n",
       "      <td>8.0</td>\n",
       "      <td>115</td>\n",
       "      <td>5500</td>\n",
       "      <td>18</td>\n",
       "      <td>22</td>\n",
       "      <td>17450</td>\n",
       "    </tr>\n",
       "  </tbody>\n",
       "</table>\n",
       "<p>5 rows × 26 columns</p>\n",
       "</div>"
      ],
      "text/plain": [
       "   symboling normalized_losses         make fuel_type aspiration num_doors  \\\n",
       "0          3                 ?  alfa-romero       gas        std       two   \n",
       "1          3                 ?  alfa-romero       gas        std       two   \n",
       "2          1                 ?  alfa-romero       gas        std       two   \n",
       "3          2               164         audi       gas        std      four   \n",
       "4          2               164         audi       gas        std      four   \n",
       "\n",
       "    body_style drive_wheels engine_location  wheel_base  ...    engine_size  \\\n",
       "0  convertible          rwd           front        88.6  ...            130   \n",
       "1  convertible          rwd           front        88.6  ...            130   \n",
       "2    hatchback          rwd           front        94.5  ...            152   \n",
       "3        sedan          fwd           front        99.8  ...            109   \n",
       "4        sedan          4wd           front        99.4  ...            136   \n",
       "\n",
       "   fuel_system  bore  stroke compression_ratio horsepower  peak_rmp city_mpg  \\\n",
       "0         mpfi  3.47    2.68               9.0        111      5000       21   \n",
       "1         mpfi  3.47    2.68               9.0        111      5000       21   \n",
       "2         mpfi  2.68    3.47               9.0        154      5000       19   \n",
       "3         mpfi  3.19    3.40              10.0        102      5500       24   \n",
       "4         mpfi  3.19    3.40               8.0        115      5500       18   \n",
       "\n",
       "  highway_mpg  price  \n",
       "0          27  13495  \n",
       "1          27  16500  \n",
       "2          26  16500  \n",
       "3          30  13950  \n",
       "4          22  17450  \n",
       "\n",
       "[5 rows x 26 columns]"
      ]
     },
     "execution_count": 11,
     "metadata": {},
     "output_type": "execute_result"
    }
   ],
   "source": [
    "cars.head()"
   ]
  },
  {
   "cell_type": "markdown",
   "metadata": {
    "collapsed": true
   },
   "source": [
    "The following columns are numeric and can be used for analysis:\n",
    "- normalized_losses;\n",
    "- wheel_base;\n",
    "- length;\n",
    "- width;\n",
    "- height;\n",
    "- curb-weight;\n",
    "- bore;\n",
    "- stroke;\n",
    "- compression-ratio;\n",
    "- horsepower;\n",
    "- peak-rpm;\n",
    "- city-mpg;\n",
    "- highway-mpg\n",
    "\n",
    "The price is the target column. We can see that there are some '?' values in normalized_losses column. We will replace all such values to np.nan. "
   ]
  },
  {
   "cell_type": "markdown",
   "metadata": {},
   "source": [
    "## Data cleaning"
   ]
  },
  {
   "cell_type": "code",
   "execution_count": 12,
   "metadata": {
    "collapsed": false
   },
   "outputs": [
    {
     "name": "stdout",
     "output_type": "stream",
     "text": [
      "<class 'pandas.core.frame.DataFrame'>\n",
      "RangeIndex: 205 entries, 0 to 204\n",
      "Data columns (total 26 columns):\n",
      "symboling            205 non-null int64\n",
      "normalized_losses    164 non-null object\n",
      "make                 205 non-null object\n",
      "fuel_type            205 non-null object\n",
      "aspiration           205 non-null object\n",
      "num_doors            203 non-null object\n",
      "body_style           205 non-null object\n",
      "drive_wheels         205 non-null object\n",
      "engine_location      205 non-null object\n",
      "wheel_base           205 non-null float64\n",
      "length               205 non-null float64\n",
      "width                205 non-null float64\n",
      "height               205 non-null float64\n",
      "curb_weight          205 non-null int64\n",
      "engine_type          205 non-null object\n",
      "num_cylinders        205 non-null object\n",
      "engine_size          205 non-null int64\n",
      "fuel_system          205 non-null object\n",
      "bore                 201 non-null object\n",
      "stroke               201 non-null object\n",
      "compression_ratio    205 non-null float64\n",
      "horsepower           203 non-null object\n",
      "peak_rmp             203 non-null object\n",
      "city_mpg             205 non-null int64\n",
      "highway_mpg          205 non-null int64\n",
      "price                201 non-null object\n",
      "dtypes: float64(5), int64(5), object(16)\n",
      "memory usage: 41.7+ KB\n"
     ]
    }
   ],
   "source": [
    "# Replace '?' values witn np.nan\n",
    "cars = cars.replace('?', np.nan)\n",
    "\n",
    "# Check columns datatypes\n",
    "cars.info()"
   ]
  },
  {
   "cell_type": "markdown",
   "metadata": {},
   "source": [
    "We can see that some columns contain Nan values. We well drop rows where price is null as it's a predicted value. For all other columns, we will replace missing values with the mean of the particular column."
   ]
  },
  {
   "cell_type": "code",
   "execution_count": 13,
   "metadata": {
    "collapsed": false
   },
   "outputs": [
    {
     "name": "stdout",
     "output_type": "stream",
     "text": [
      "<class 'pandas.core.frame.DataFrame'>\n",
      "Int64Index: 201 entries, 0 to 204\n",
      "Data columns (total 14 columns):\n",
      "normalized_losses    201 non-null float64\n",
      "wheel_base           201 non-null float64\n",
      "length               201 non-null float64\n",
      "width                201 non-null float64\n",
      "height               201 non-null float64\n",
      "curb_weight          201 non-null float64\n",
      "bore                 201 non-null float64\n",
      "stroke               201 non-null float64\n",
      "compression_ratio    201 non-null float64\n",
      "horsepower           201 non-null float64\n",
      "peak_rmp             201 non-null float64\n",
      "city_mpg             201 non-null float64\n",
      "highway_mpg          201 non-null float64\n",
      "price                201 non-null float64\n",
      "dtypes: float64(14)\n",
      "memory usage: 23.6 KB\n",
      "None\n"
     ]
    }
   ],
   "source": [
    "# Separate columns with numeric values\n",
    "numeric_cols = ['normalized_losses', 'wheel_base', 'length', 'width',\n",
    "          'height', 'curb_weight','bore', 'stroke',\n",
    "          'compression_ratio', 'horsepower', 'peak_rmp',\n",
    "          'city_mpg', 'highway_mpg', 'price']\n",
    "cars_num = cars[numeric_cols]\n",
    "\n",
    "# Drop columns where price is null\n",
    "cars_num = cars_num.dropna(subset=['price'])\n",
    "\n",
    "# Convert all columns to float data type\n",
    "cars_num = cars_num.astype('float')\n",
    "\n",
    "# Replace missing values with mean of the column\n",
    "cars_num = cars_num.fillna(cars_num.mean())\n",
    "print(cars_num.info())"
   ]
  },
  {
   "cell_type": "markdown",
   "metadata": {
    "collapsed": true
   },
   "source": [
    "## Data normalization\n",
    "\n",
    "The next step is to rescale our data to make the analysis consistent. For this project, we will normalize our data so all values range from 0 to 1. The price column won't be normalized."
   ]
  },
  {
   "cell_type": "code",
   "execution_count": 14,
   "metadata": {
    "collapsed": false
   },
   "outputs": [
    {
     "data": {
      "text/html": [
       "<div>\n",
       "<style scoped>\n",
       "    .dataframe tbody tr th:only-of-type {\n",
       "        vertical-align: middle;\n",
       "    }\n",
       "\n",
       "    .dataframe tbody tr th {\n",
       "        vertical-align: top;\n",
       "    }\n",
       "\n",
       "    .dataframe thead th {\n",
       "        text-align: right;\n",
       "    }\n",
       "</style>\n",
       "<table border=\"1\" class=\"dataframe\">\n",
       "  <thead>\n",
       "    <tr style=\"text-align: right;\">\n",
       "      <th></th>\n",
       "      <th>normalized_losses</th>\n",
       "      <th>wheel_base</th>\n",
       "      <th>length</th>\n",
       "      <th>width</th>\n",
       "      <th>height</th>\n",
       "      <th>curb_weight</th>\n",
       "      <th>bore</th>\n",
       "      <th>stroke</th>\n",
       "      <th>compression_ratio</th>\n",
       "      <th>horsepower</th>\n",
       "      <th>peak_rmp</th>\n",
       "      <th>city_mpg</th>\n",
       "      <th>highway_mpg</th>\n",
       "      <th>price</th>\n",
       "    </tr>\n",
       "  </thead>\n",
       "  <tbody>\n",
       "    <tr>\n",
       "      <th>0</th>\n",
       "      <td>0.298429</td>\n",
       "      <td>0.058309</td>\n",
       "      <td>0.413433</td>\n",
       "      <td>0.324786</td>\n",
       "      <td>0.083333</td>\n",
       "      <td>0.411171</td>\n",
       "      <td>0.664286</td>\n",
       "      <td>0.290476</td>\n",
       "      <td>0.12500</td>\n",
       "      <td>0.294393</td>\n",
       "      <td>0.346939</td>\n",
       "      <td>0.222222</td>\n",
       "      <td>0.289474</td>\n",
       "      <td>13495.0</td>\n",
       "    </tr>\n",
       "    <tr>\n",
       "      <th>1</th>\n",
       "      <td>0.298429</td>\n",
       "      <td>0.058309</td>\n",
       "      <td>0.413433</td>\n",
       "      <td>0.324786</td>\n",
       "      <td>0.083333</td>\n",
       "      <td>0.411171</td>\n",
       "      <td>0.664286</td>\n",
       "      <td>0.290476</td>\n",
       "      <td>0.12500</td>\n",
       "      <td>0.294393</td>\n",
       "      <td>0.346939</td>\n",
       "      <td>0.222222</td>\n",
       "      <td>0.289474</td>\n",
       "      <td>16500.0</td>\n",
       "    </tr>\n",
       "    <tr>\n",
       "      <th>2</th>\n",
       "      <td>0.298429</td>\n",
       "      <td>0.230321</td>\n",
       "      <td>0.449254</td>\n",
       "      <td>0.444444</td>\n",
       "      <td>0.383333</td>\n",
       "      <td>0.517843</td>\n",
       "      <td>0.100000</td>\n",
       "      <td>0.666667</td>\n",
       "      <td>0.12500</td>\n",
       "      <td>0.495327</td>\n",
       "      <td>0.346939</td>\n",
       "      <td>0.166667</td>\n",
       "      <td>0.263158</td>\n",
       "      <td>16500.0</td>\n",
       "    </tr>\n",
       "    <tr>\n",
       "      <th>3</th>\n",
       "      <td>0.518325</td>\n",
       "      <td>0.384840</td>\n",
       "      <td>0.529851</td>\n",
       "      <td>0.504274</td>\n",
       "      <td>0.541667</td>\n",
       "      <td>0.329325</td>\n",
       "      <td>0.464286</td>\n",
       "      <td>0.633333</td>\n",
       "      <td>0.18750</td>\n",
       "      <td>0.252336</td>\n",
       "      <td>0.551020</td>\n",
       "      <td>0.305556</td>\n",
       "      <td>0.368421</td>\n",
       "      <td>13950.0</td>\n",
       "    </tr>\n",
       "    <tr>\n",
       "      <th>4</th>\n",
       "      <td>0.518325</td>\n",
       "      <td>0.373178</td>\n",
       "      <td>0.529851</td>\n",
       "      <td>0.521368</td>\n",
       "      <td>0.541667</td>\n",
       "      <td>0.518231</td>\n",
       "      <td>0.464286</td>\n",
       "      <td>0.633333</td>\n",
       "      <td>0.06250</td>\n",
       "      <td>0.313084</td>\n",
       "      <td>0.551020</td>\n",
       "      <td>0.138889</td>\n",
       "      <td>0.157895</td>\n",
       "      <td>17450.0</td>\n",
       "    </tr>\n",
       "    <tr>\n",
       "      <th>5</th>\n",
       "      <td>0.298429</td>\n",
       "      <td>0.384840</td>\n",
       "      <td>0.540299</td>\n",
       "      <td>0.512821</td>\n",
       "      <td>0.441667</td>\n",
       "      <td>0.395268</td>\n",
       "      <td>0.464286</td>\n",
       "      <td>0.633333</td>\n",
       "      <td>0.09375</td>\n",
       "      <td>0.289720</td>\n",
       "      <td>0.551020</td>\n",
       "      <td>0.166667</td>\n",
       "      <td>0.236842</td>\n",
       "      <td>15250.0</td>\n",
       "    </tr>\n",
       "    <tr>\n",
       "      <th>6</th>\n",
       "      <td>0.486911</td>\n",
       "      <td>0.559767</td>\n",
       "      <td>0.770149</td>\n",
       "      <td>0.948718</td>\n",
       "      <td>0.658333</td>\n",
       "      <td>0.525989</td>\n",
       "      <td>0.464286</td>\n",
       "      <td>0.633333</td>\n",
       "      <td>0.09375</td>\n",
       "      <td>0.289720</td>\n",
       "      <td>0.551020</td>\n",
       "      <td>0.166667</td>\n",
       "      <td>0.236842</td>\n",
       "      <td>17710.0</td>\n",
       "    </tr>\n",
       "    <tr>\n",
       "      <th>7</th>\n",
       "      <td>0.298429</td>\n",
       "      <td>0.559767</td>\n",
       "      <td>0.770149</td>\n",
       "      <td>0.948718</td>\n",
       "      <td>0.658333</td>\n",
       "      <td>0.568658</td>\n",
       "      <td>0.464286</td>\n",
       "      <td>0.633333</td>\n",
       "      <td>0.09375</td>\n",
       "      <td>0.289720</td>\n",
       "      <td>0.551020</td>\n",
       "      <td>0.166667</td>\n",
       "      <td>0.236842</td>\n",
       "      <td>18920.0</td>\n",
       "    </tr>\n",
       "    <tr>\n",
       "      <th>8</th>\n",
       "      <td>0.486911</td>\n",
       "      <td>0.559767</td>\n",
       "      <td>0.770149</td>\n",
       "      <td>0.948718</td>\n",
       "      <td>0.675000</td>\n",
       "      <td>0.619860</td>\n",
       "      <td>0.421429</td>\n",
       "      <td>0.633333</td>\n",
       "      <td>0.08125</td>\n",
       "      <td>0.429907</td>\n",
       "      <td>0.551020</td>\n",
       "      <td>0.111111</td>\n",
       "      <td>0.105263</td>\n",
       "      <td>23875.0</td>\n",
       "    </tr>\n",
       "    <tr>\n",
       "      <th>10</th>\n",
       "      <td>0.664921</td>\n",
       "      <td>0.425656</td>\n",
       "      <td>0.532836</td>\n",
       "      <td>0.384615</td>\n",
       "      <td>0.541667</td>\n",
       "      <td>0.351823</td>\n",
       "      <td>0.685714</td>\n",
       "      <td>0.347619</td>\n",
       "      <td>0.11250</td>\n",
       "      <td>0.247664</td>\n",
       "      <td>0.673469</td>\n",
       "      <td>0.277778</td>\n",
       "      <td>0.342105</td>\n",
       "      <td>16430.0</td>\n",
       "    </tr>\n",
       "  </tbody>\n",
       "</table>\n",
       "</div>"
      ],
      "text/plain": [
       "    normalized_losses  wheel_base    length     width    height  curb_weight  \\\n",
       "0            0.298429    0.058309  0.413433  0.324786  0.083333     0.411171   \n",
       "1            0.298429    0.058309  0.413433  0.324786  0.083333     0.411171   \n",
       "2            0.298429    0.230321  0.449254  0.444444  0.383333     0.517843   \n",
       "3            0.518325    0.384840  0.529851  0.504274  0.541667     0.329325   \n",
       "4            0.518325    0.373178  0.529851  0.521368  0.541667     0.518231   \n",
       "5            0.298429    0.384840  0.540299  0.512821  0.441667     0.395268   \n",
       "6            0.486911    0.559767  0.770149  0.948718  0.658333     0.525989   \n",
       "7            0.298429    0.559767  0.770149  0.948718  0.658333     0.568658   \n",
       "8            0.486911    0.559767  0.770149  0.948718  0.675000     0.619860   \n",
       "10           0.664921    0.425656  0.532836  0.384615  0.541667     0.351823   \n",
       "\n",
       "        bore    stroke  compression_ratio  horsepower  peak_rmp  city_mpg  \\\n",
       "0   0.664286  0.290476            0.12500    0.294393  0.346939  0.222222   \n",
       "1   0.664286  0.290476            0.12500    0.294393  0.346939  0.222222   \n",
       "2   0.100000  0.666667            0.12500    0.495327  0.346939  0.166667   \n",
       "3   0.464286  0.633333            0.18750    0.252336  0.551020  0.305556   \n",
       "4   0.464286  0.633333            0.06250    0.313084  0.551020  0.138889   \n",
       "5   0.464286  0.633333            0.09375    0.289720  0.551020  0.166667   \n",
       "6   0.464286  0.633333            0.09375    0.289720  0.551020  0.166667   \n",
       "7   0.464286  0.633333            0.09375    0.289720  0.551020  0.166667   \n",
       "8   0.421429  0.633333            0.08125    0.429907  0.551020  0.111111   \n",
       "10  0.685714  0.347619            0.11250    0.247664  0.673469  0.277778   \n",
       "\n",
       "    highway_mpg    price  \n",
       "0      0.289474  13495.0  \n",
       "1      0.289474  16500.0  \n",
       "2      0.263158  16500.0  \n",
       "3      0.368421  13950.0  \n",
       "4      0.157895  17450.0  \n",
       "5      0.236842  15250.0  \n",
       "6      0.236842  17710.0  \n",
       "7      0.236842  18920.0  \n",
       "8      0.105263  23875.0  \n",
       "10     0.342105  16430.0  "
      ]
     },
     "execution_count": 14,
     "metadata": {},
     "output_type": "execute_result"
    }
   ],
   "source": [
    "# Normalize columns\n",
    "price = cars_num['price']\n",
    "cars_num = (cars_num - cars_num.min()) / (cars_num.max() - cars_num.min())\n",
    "cars_num['price'] = price\n",
    "cars_num.head(10)"
   ]
  },
  {
   "cell_type": "markdown",
   "metadata": {},
   "source": [
    "## Experimenting with univariate models\n",
    "\n",
    "To practice the machine learning workflow I will define a simple univariate model with training and validation."
   ]
  },
  {
   "cell_type": "markdown",
   "metadata": {},
   "source": [
    "### Calculating RMSE for each feature"
   ]
  },
  {
   "cell_type": "code",
   "execution_count": 15,
   "metadata": {
    "collapsed": false
   },
   "outputs": [
    {
     "data": {
      "text/plain": [
       "city_mpg             3684.803554\n",
       "width                3917.227670\n",
       "curb_weight          4011.450036\n",
       "wheel_base           4161.947972\n",
       "highway_mpg          4323.502530\n",
       "horsepower           4756.983755\n",
       "length               5416.294064\n",
       "compression_ratio    5958.572328\n",
       "normalized_losses    6231.311124\n",
       "peak_rmp             6326.471744\n",
       "bore                 6507.421953\n",
       "height               6666.667678\n",
       "stroke               6939.691440\n",
       "dtype: float64"
      ]
     },
     "execution_count": 15,
     "metadata": {},
     "output_type": "execute_result"
    }
   ],
   "source": [
    "# Defining function\n",
    "def knn_train_test(train, target, data):\n",
    "    # Randomize data\n",
    "    np.random.seed(1)\n",
    "    data = data.loc[np.random.permutation(data.index)]\n",
    "    \n",
    "    # Split data to the training and test datasets\n",
    "    train_set = data.iloc[:150]\n",
    "    test_set = data.iloc[150:]\n",
    "    # Instantiate KNeighborsRegressor class\n",
    "    knn = KNeighborsRegressor()\n",
    "    # Fit the model\n",
    "    knn.fit(train_set[[train]], train_set[[target]])\n",
    "    # Make predictions\n",
    "    labels = knn.predict(test_set[[train]])\n",
    "    # Calculate mse\n",
    "    mse = mean_squared_error(test_set['price'], labels)\n",
    "    return mse**0.5\n",
    "\n",
    "features = ['normalized_losses', 'wheel_base', 'length',\n",
    "            'width', 'height', 'curb_weight','bore',\n",
    "            'stroke', 'compression_ratio', 'horsepower',\n",
    "            'peak_rmp', 'city_mpg', 'highway_mpg']\n",
    "\n",
    "# Calculate RMSE values for different features\n",
    "rmse_res = {}\n",
    "for col in features:\n",
    "    rmse_res[col] = knn_train_test(col, 'price', cars_num)\n",
    "signle_k_result = pd.Series(rmse_res).sort_values()\n",
    "signle_k_result"
   ]
  },
  {
   "cell_type": "markdown",
   "metadata": {
    "collapsed": true
   },
   "source": [
    "We can see the list of RMSEs with corresponding features. Let's update the function and include the number of neighbors as an argument. "
   ]
  },
  {
   "cell_type": "markdown",
   "metadata": {},
   "source": [
    "### Calculating RMSE value with different k-values"
   ]
  },
  {
   "cell_type": "code",
   "execution_count": 16,
   "metadata": {
    "collapsed": false
   },
   "outputs": [
    {
     "name": "stderr",
     "output_type": "stream",
     "text": [
      "/dataquest/system/env/python3/lib/python3.4/site-packages/seaborn/categorical.py:1468: FutureWarning: remove_na is deprecated and is a private function. Do not use.\n",
      "  stat_data = remove_na(group_data[hue_mask])\n"
     ]
    },
    {
     "data": {
      "text/plain": [
       "<matplotlib.text.Text at 0x7f3958768400>"
      ]
     },
     "execution_count": 16,
     "metadata": {},
     "output_type": "execute_result"
    },
    {
     "data": {
      "image/png": "[encoded data removed]",
      "text/plain": [
       "<matplotlib.figure.Figure at 0x7f3958761dd8>"
      ]
     },
     "metadata": {},
     "output_type": "display_data"
    }
   ],
   "source": [
    "# Updating function\n",
    "def knn_train_test(train, target, k, data):\n",
    "    # Randomize data\n",
    "    np.random.seed(1)\n",
    "    data = data.loc[np.random.permutation(data.index)]\n",
    "    # Split data to the training and test datasets\n",
    "    train_set = data.iloc[:150]\n",
    "    test_set = data.iloc[150:]\n",
    "    # Instantiate KNeighborsRegressor class\n",
    "    knn = KNeighborsRegressor(n_neighbors=k)\n",
    "    # Fit the model\n",
    "    knn.fit(train_set[[train]], train_set[[target]])\n",
    "    # Make predictions\n",
    "    labels = knn.predict(test_set[[train]])\n",
    "    # Calculate mse\n",
    "    mse = mean_squared_error(test_set['price'], labels)\n",
    "    return mse**0.5\n",
    "\n",
    "# Calculate RMSEs for each combination of variable and k\n",
    "rmse_res = collections.defaultdict(list)\n",
    "i = 0\n",
    "for col in features:\n",
    "    for k in [1, 3, 5, 7, 9]:\n",
    "        rmse_res[i].extend([k, col,\n",
    "                            knn_train_test(col,'price',\n",
    "                                           k, cars_num)])\n",
    "        i += 1\n",
    "multi_k_result = pd.DataFrame.from_dict(rmse_res,\n",
    "                                        orient='index')\n",
    "multi_k_result.columns = ['k-value', 'variable', 'RMSE']\n",
    "\n",
    "# Plot RMSEs values grouped by each variable\n",
    "sns.set(rc={'figure.figsize':(9, 8)})\n",
    "sns.barplot(x='RMSE', y='variable', hue='k-value',\n",
    "            data=multi_k_result, orient='h')\n",
    "plt.title('RMSE values within each variable for differen k-values',\n",
    "         fontsize=15)\n",
    "plt.xticks(rotation=0, fontsize=12)\n",
    "plt.xlabel('RMSE values')\n",
    "plt.ylabel('Variables')"
   ]
  },
  {
   "cell_type": "markdown",
   "metadata": {
    "collapsed": true
   },
   "source": [
    "## Experimenting with a multivariate model\n",
    "\n",
    "We will update the definition of our function to work with several features. For this step, we will use one k-value which is 5. "
   ]
  },
  {
   "cell_type": "code",
   "execution_count": 17,
   "metadata": {
    "collapsed": false
   },
   "outputs": [
    {
     "data": {
      "text/plain": [
       "8     2246.254636\n",
       "10    2354.434849\n",
       "9     2414.644170\n",
       "7     2423.487643\n",
       "12    2489.879494\n",
       "6     2513.599834\n",
       "13    2624.277537\n",
       "5     2709.547668\n",
       "11    2712.175143\n",
       "4     2792.801911\n",
       "3     3120.289132\n",
       "2     4582.186974\n",
       "dtype: float64"
      ]
     },
     "execution_count": 17,
     "metadata": {},
     "output_type": "execute_result"
    }
   ],
   "source": [
    "# Update the function\n",
    "def knn_train_test(features, target, data, k=5):\n",
    "    # Randomize data\n",
    "    np.random.seed(1)\n",
    "    data = data.loc[np.random.permutation(data.index)]\n",
    "    \n",
    "    # Split data to the training and test datasets\n",
    "    train_set = data.iloc[:150]\n",
    "    test_set = data.iloc[150:]\n",
    "    # Instantiate KNeighborsRegressor class\n",
    "    knn = KNeighborsRegressor(n_neighbors=k)\n",
    "    # Fit the model\n",
    "    knn.fit(train_set[features], train_set[target])\n",
    "    # Make predictions\n",
    "    labels = knn.predict(test_set[features])\n",
    "    # Calculate mse\n",
    "    mse = mean_squared_error(test_set[target], labels)\n",
    "    return mse**0.5\n",
    "\n",
    "# Find variables with lowest RMSE and k-value equal to 5\n",
    "features = (multi_k_result.groupby('variable').mean()['RMSE']\n",
    "               .sort_values().index.values)\n",
    "\n",
    "# Calculate RMSE for different number of features\n",
    "rmses_res ={}\n",
    "for i in range(2, len(features) + 1):\n",
    "    rmses_res[i] = knn_train_test(features[:i],\n",
    "                                  'price', cars_num)\n",
    "\n",
    "multivariate_result = pd.Series(rmses_res).sort_values()\n",
    "multivariate_result"
   ]
  },
  {
   "cell_type": "markdown",
   "metadata": {},
   "source": [
    "We can observe that the lowest RMSE values are for 8, 10, and 9 number of features. We will now optimize the model with a given number of features and different values of k."
   ]
  },
  {
   "cell_type": "markdown",
   "metadata": {},
   "source": [
    "## Model optimization\n",
    "   "
   ]
  },
  {
   "cell_type": "code",
   "execution_count": 19,
   "metadata": {
    "collapsed": false
   },
   "outputs": [
    {
     "data": {
      "text/html": [
       "<div>\n",
       "<style scoped>\n",
       "    .dataframe tbody tr th:only-of-type {\n",
       "        vertical-align: middle;\n",
       "    }\n",
       "\n",
       "    .dataframe tbody tr th {\n",
       "        vertical-align: top;\n",
       "    }\n",
       "\n",
       "    .dataframe thead th {\n",
       "        text-align: right;\n",
       "    }\n",
       "</style>\n",
       "<table border=\"1\" class=\"dataframe\">\n",
       "  <thead>\n",
       "    <tr style=\"text-align: right;\">\n",
       "      <th></th>\n",
       "      <th>k-value</th>\n",
       "      <th>num_of_feat</th>\n",
       "      <th>RMSE</th>\n",
       "    </tr>\n",
       "  </thead>\n",
       "  <tbody>\n",
       "    <tr>\n",
       "      <th>6</th>\n",
       "      <td>5</td>\n",
       "      <td>8</td>\n",
       "      <td>2246.254636</td>\n",
       "    </tr>\n",
       "    <tr>\n",
       "      <th>5</th>\n",
       "      <td>3</td>\n",
       "      <td>10</td>\n",
       "      <td>2272.995113</td>\n",
       "    </tr>\n",
       "    <tr>\n",
       "      <th>8</th>\n",
       "      <td>5</td>\n",
       "      <td>10</td>\n",
       "      <td>2354.434849</td>\n",
       "    </tr>\n",
       "    <tr>\n",
       "      <th>11</th>\n",
       "      <td>7</td>\n",
       "      <td>10</td>\n",
       "      <td>2393.302320</td>\n",
       "    </tr>\n",
       "    <tr>\n",
       "      <th>7</th>\n",
       "      <td>5</td>\n",
       "      <td>9</td>\n",
       "      <td>2414.644170</td>\n",
       "    </tr>\n",
       "    <tr>\n",
       "      <th>13</th>\n",
       "      <td>9</td>\n",
       "      <td>9</td>\n",
       "      <td>2574.237428</td>\n",
       "    </tr>\n",
       "    <tr>\n",
       "      <th>0</th>\n",
       "      <td>1</td>\n",
       "      <td>8</td>\n",
       "      <td>2577.406570</td>\n",
       "    </tr>\n",
       "    <tr>\n",
       "      <th>2</th>\n",
       "      <td>1</td>\n",
       "      <td>10</td>\n",
       "      <td>2582.760577</td>\n",
       "    </tr>\n",
       "    <tr>\n",
       "      <th>3</th>\n",
       "      <td>3</td>\n",
       "      <td>8</td>\n",
       "      <td>2595.817898</td>\n",
       "    </tr>\n",
       "    <tr>\n",
       "      <th>10</th>\n",
       "      <td>7</td>\n",
       "      <td>9</td>\n",
       "      <td>2606.423557</td>\n",
       "    </tr>\n",
       "  </tbody>\n",
       "</table>\n",
       "</div>"
      ],
      "text/plain": [
       "    k-value  num_of_feat         RMSE\n",
       "6         5            8  2246.254636\n",
       "5         3           10  2272.995113\n",
       "8         5           10  2354.434849\n",
       "11        7           10  2393.302320\n",
       "7         5            9  2414.644170\n",
       "13        9            9  2574.237428\n",
       "0         1            8  2577.406570\n",
       "2         1           10  2582.760577\n",
       "3         3            8  2595.817898\n",
       "10        7            9  2606.423557"
      ]
     },
     "execution_count": 19,
     "metadata": {},
     "output_type": "execute_result"
    }
   ],
   "source": [
    "# Compute RMSEs values for various combinations of k and \n",
    "# number of features\n",
    "rmses_res = collections.defaultdict(list)\n",
    "j = 0\n",
    "for k in range(1, 26, 2):\n",
    "    for i in [8, 9, 10]:\n",
    "        rmses_res[j].extend([k, i, knn_train_test(\n",
    "            features[:i], 'price', cars_num, k=k)])\n",
    "        j += 1\n",
    "\n",
    "optimization_result = pd.DataFrame.from_dict(\n",
    "    rmses_res,\n",
    "    orient='index'\n",
    ")\n",
    "optimization_result.columns = ['k-value', 'num_of_feat',\n",
    "                               'RMSE']\n",
    "optimization_result.sort_values('RMSE').head(10)"
   ]
  },
  {
   "cell_type": "raw",
   "metadata": {
    "collapsed": true
   },
   "source": [
    "From this table, we can conclude that the model is most accurate with k equal to 5 and the number of features equal to eight. We will now optimize the model with k-fold cross-validation and update our function again."
   ]
  },
  {
   "cell_type": "markdown",
   "metadata": {},
   "source": [
    "## k-fold cross validation"
   ]
  },
  {
   "cell_type": "code",
   "execution_count": 21,
   "metadata": {
    "collapsed": false
   },
   "outputs": [
    {
     "data": {
      "text/html": [
       "<div>\n",
       "<style scoped>\n",
       "    .dataframe tbody tr th:only-of-type {\n",
       "        vertical-align: middle;\n",
       "    }\n",
       "\n",
       "    .dataframe tbody tr th {\n",
       "        vertical-align: top;\n",
       "    }\n",
       "\n",
       "    .dataframe thead th {\n",
       "        text-align: right;\n",
       "    }\n",
       "</style>\n",
       "<table border=\"1\" class=\"dataframe\">\n",
       "  <thead>\n",
       "    <tr style=\"text-align: right;\">\n",
       "      <th></th>\n",
       "      <th>k-value</th>\n",
       "      <th>num_of_feat</th>\n",
       "      <th>RMSE</th>\n",
       "    </tr>\n",
       "  </thead>\n",
       "  <tbody>\n",
       "    <tr>\n",
       "      <th>1</th>\n",
       "      <td>1</td>\n",
       "      <td>9</td>\n",
       "      <td>2882.59</td>\n",
       "    </tr>\n",
       "    <tr>\n",
       "      <th>2</th>\n",
       "      <td>1</td>\n",
       "      <td>10</td>\n",
       "      <td>2986.29</td>\n",
       "    </tr>\n",
       "    <tr>\n",
       "      <th>4</th>\n",
       "      <td>3</td>\n",
       "      <td>9</td>\n",
       "      <td>3003.24</td>\n",
       "    </tr>\n",
       "    <tr>\n",
       "      <th>0</th>\n",
       "      <td>1</td>\n",
       "      <td>8</td>\n",
       "      <td>3046.15</td>\n",
       "    </tr>\n",
       "    <tr>\n",
       "      <th>5</th>\n",
       "      <td>3</td>\n",
       "      <td>10</td>\n",
       "      <td>3066.97</td>\n",
       "    </tr>\n",
       "    <tr>\n",
       "      <th>3</th>\n",
       "      <td>3</td>\n",
       "      <td>8</td>\n",
       "      <td>3206.15</td>\n",
       "    </tr>\n",
       "    <tr>\n",
       "      <th>7</th>\n",
       "      <td>5</td>\n",
       "      <td>9</td>\n",
       "      <td>3448.02</td>\n",
       "    </tr>\n",
       "    <tr>\n",
       "      <th>8</th>\n",
       "      <td>5</td>\n",
       "      <td>10</td>\n",
       "      <td>3456.18</td>\n",
       "    </tr>\n",
       "    <tr>\n",
       "      <th>6</th>\n",
       "      <td>5</td>\n",
       "      <td>8</td>\n",
       "      <td>3457.85</td>\n",
       "    </tr>\n",
       "    <tr>\n",
       "      <th>11</th>\n",
       "      <td>7</td>\n",
       "      <td>10</td>\n",
       "      <td>3692.77</td>\n",
       "    </tr>\n",
       "  </tbody>\n",
       "</table>\n",
       "</div>"
      ],
      "text/plain": [
       "    k-value  num_of_feat     RMSE\n",
       "1         1            9  2882.59\n",
       "2         1           10  2986.29\n",
       "4         3            9  3003.24\n",
       "0         1            8  3046.15\n",
       "5         3           10  3066.97\n",
       "3         3            8  3206.15\n",
       "7         5            9  3448.02\n",
       "8         5           10  3456.18\n",
       "6         5            8  3457.85\n",
       "11        7           10  3692.77"
      ]
     },
     "execution_count": 21,
     "metadata": {},
     "output_type": "execute_result"
    }
   ],
   "source": [
    "# Upgrade the function definition\n",
    "def cross_val(features, target, data, k=5, f=10):\n",
    "    # Instantiating KFold class\n",
    "    kf = KFold(f, shuffle=True, random_state=1)\n",
    "    # Instantiate KNeighborsRegressor class\n",
    "    knn = KNeighborsRegressor(n_neighbors=k)\n",
    "    # Calculate mses\n",
    "    mses = cross_val_score(knn, data[features], \n",
    "                          data[target],\n",
    "                          scoring=\"neg_mean_squared_error\",\n",
    "                          cv=kf)\n",
    "    rmses = np.mean(np.sqrt(np.abs(mses)))\n",
    "    return round(rmses, 2)\n",
    "\n",
    "rmses_res = collections.defaultdict(list)\n",
    "j = 0\n",
    "for k in range(1, 26, 2):\n",
    "    for i in [8, 9, 10]:\n",
    "        rmses_res[j].extend([\n",
    "            k, i, cross_val(\n",
    "                features[:i],\n",
    "                'price',\n",
    "                cars_num, k=k)])\n",
    "        j += 1\n",
    "cross_val_result = pd.DataFrame.from_dict(rmses_res,\n",
    "                                             orient='index')\n",
    "cross_val_result.columns = ['k-value', 'num_of_feat', 'RMSE']\n",
    "cross_val_result.sort_values('RMSE').head(10)"
   ]
  },
  {
   "cell_type": "markdown",
   "metadata": {},
   "source": [
    "We can see that the result of cross-validation is very different. The best result is with k-value equal to 1 and the number of features equal to 9. Let's explore the data more deeply. We will compare the root mean squared errors and mean absolute errors. We will also add calculation of RMSEs standard deviation. "
   ]
  },
  {
   "cell_type": "markdown",
   "metadata": {},
   "source": [
    "## Comparing RMSE and MAE"
   ]
  },
  {
   "cell_type": "code",
   "execution_count": 23,
   "metadata": {
    "collapsed": false
   },
   "outputs": [
    {
     "data": {
      "text/plain": [
       "defaultdict(list,\n",
       "            {0: [1, 8, [1899.38, 3046.15, 540.05]],\n",
       "             1: [1, 9, [1979.11, 2882.59, 650.01]],\n",
       "             2: [1, 10, [1968.35, 2986.29, 871.63]],\n",
       "             3: [3, 8, [2074.46, 3206.15, 792.12]],\n",
       "             4: [3, 9, [1938.63, 3003.24, 983.52]],\n",
       "             5: [3, 10, [2050.73, 3066.97, 1076.0]],\n",
       "             6: [5, 8, [2135.81, 3457.85, 1157.18]],\n",
       "             7: [5, 9, [2145.21, 3448.02, 1300.16]],\n",
       "             8: [5, 10, [2217.17, 3456.18, 1171.93]],\n",
       "             9: [7, 8, [2311.48, 3747.79, 1243.49]],\n",
       "             10: [7, 9, [2297.93, 3723.6, 1255.03]],\n",
       "             11: [7, 10, [2271.97, 3692.77, 1221.16]]})"
      ]
     },
     "execution_count": 23,
     "metadata": {},
     "output_type": "execute_result"
    }
   ],
   "source": [
    "# Updating function definition\n",
    "def cross_val_mae_rmse(features, target, data, k=5, f=10):\n",
    "    # Instantiating KFold class\n",
    "    kf = KFold(f, shuffle=True, random_state=1)\n",
    "    # Instantiate KNeighborsRegressor class\n",
    "    knn = KNeighborsRegressor(n_neighbors=k)\n",
    "    \n",
    "    # Calculate mses\n",
    "    mses = cross_val_score(knn, data[features], \n",
    "                          data[target],\n",
    "                          scoring=\"neg_mean_squared_error\",\n",
    "                          cv=kf)\n",
    "    # Calculate average rmse and rmse std\n",
    "    avg_rmse = round(np.mean(np.sqrt(np.abs(mses))), 2)\n",
    "    avr_rmse_std = round(np.std(np.sqrt(np.abs(mses))), 2)\n",
    "    # Calculate average maes\n",
    "    maes = cross_val_score(knn, data[features], \n",
    "                          data[target],\n",
    "                          scoring=\"neg_mean_absolute_error\",\n",
    "                           cv=kf)\n",
    "    avg_mae = round(np.mean(np.abs(maes)), 2)\n",
    "    return [avg_mae, avg_rmse, avr_rmse_std]\n",
    "\n",
    "# Exploring maes and rmses with various combination of\n",
    "# k-value and features\n",
    "res = collections.defaultdict(list)\n",
    "j = 0\n",
    "for k in range(1, 8, 2):\n",
    "    for i in [8, 9, 10]:\n",
    "        res[j].extend([\n",
    "            k, i, cross_val_mae_rmse(\n",
    "                features[:i],\n",
    "                'price',\n",
    "                cars_num, k=k)])\n",
    "        j += 1\n",
    "res"
   ]
  },
  {
   "cell_type": "markdown",
   "metadata": {},
   "source": [
    "We can see that in the majority of case the MAE value is lower than the RMSE value. We can assume that there are some outliers in our data. We will now return to the database normalization step. This time we will standardize our data. "
   ]
  },
  {
   "cell_type": "code",
   "execution_count": 24,
   "metadata": {
    "collapsed": false
   },
   "outputs": [
    {
     "ename": "NameError",
     "evalue": "name 'features_RMSE' is not defined",
     "output_type": "error",
     "traceback": [
      "\u001b[1;31m\u001b[0m",
      "\u001b[1;31mNameError\u001b[0mTraceback (most recent call last)",
      "\u001b[1;32m<ipython-input-24-1f85f6dd843d>\u001b[0m in \u001b[0;36m<module>\u001b[1;34m()\u001b[0m\n\u001b[0;32m      1\u001b[0m \u001b[1;31m# Create separate database\u001b[0m\u001b[1;33m\u001b[0m\u001b[1;33m\u001b[0m\u001b[0m\n\u001b[1;32m----> 2\u001b[1;33m \u001b[0mfeatures\u001b[0m \u001b[1;33m=\u001b[0m \u001b[0mnp\u001b[0m\u001b[1;33m.\u001b[0m\u001b[0mappend\u001b[0m\u001b[1;33m(\u001b[0m\u001b[0mfeatures_RMSE\u001b[0m\u001b[1;33m[\u001b[0m\u001b[1;33m:\u001b[0m\u001b[1;36m10\u001b[0m\u001b[1;33m]\u001b[0m\u001b[1;33m,\u001b[0m \u001b[1;34m'price'\u001b[0m\u001b[1;33m)\u001b[0m\u001b[1;33m\u001b[0m\u001b[0m\n\u001b[0m\u001b[0;32m      3\u001b[0m \u001b[0mnew_cars_num\u001b[0m \u001b[1;33m=\u001b[0m \u001b[0mcars\u001b[0m\u001b[1;33m[\u001b[0m\u001b[0mfeatures\u001b[0m\u001b[1;33m]\u001b[0m\u001b[1;33m.\u001b[0m\u001b[0mcopy\u001b[0m\u001b[1;33m(\u001b[0m\u001b[1;33m)\u001b[0m\u001b[1;33m\u001b[0m\u001b[0m\n\u001b[0;32m      4\u001b[0m \u001b[1;33m\u001b[0m\u001b[0m\n\u001b[0;32m      5\u001b[0m \u001b[1;31m# Drop rows where price is nan\u001b[0m\u001b[1;33m\u001b[0m\u001b[1;33m\u001b[0m\u001b[0m\n",
      "\u001b[1;31mNameError\u001b[0m: name 'features_RMSE' is not defined"
     ]
    }
   ],
   "source": [
    "# Create separate database\n",
    "features = np.append(features[:10], 'price')\n",
    "new_cars_num = cars[features].copy()\n",
    "\n",
    "# Drop rows where price is nan\n",
    "new_cars_num = new_cars_num.dropna(subset=['price'])\n",
    "new_cars_num = new_cars_num.astype('float')\n",
    "new_cars_num = new_cars_num.fillna(new_cars_num.mean())\n",
    "\n",
    "# Standardize data\n",
    "price = new_cars_num['price']\n",
    "new_cars_num = ((new_cars_num - new_cars_num.mean()) /\n",
    "                new_cars_num.std())\n",
    "new_cars_num['price'] = price\n",
    "\n",
    "# Looking for outliers\n",
    "def find_outliers(data):\n",
    "    res = {}\n",
    "    for col in data.columns[:-1]:\n",
    "        res[col] = data[col][\n",
    "            (data[col] >=3) |\n",
    "            (data[col] <=-3)\n",
    "        ].shape[0]\n",
    "    return res\n",
    "find_outliers(new_cars_num)"
   ]
  },
  {
   "cell_type": "markdown",
   "metadata": {
    "collapsed": true
   },
   "source": [
    "We can see that the most outliers in the compression_ration column. Let's remove the rows with outliers and observe the remaining ones. "
   ]
  },
  {
   "cell_type": "code",
   "execution_count": null,
   "metadata": {
    "collapsed": false
   },
   "outputs": [],
   "source": [
    "# Remove rows with outliers\n",
    "new_cars_num = new_cars_num[\n",
    "            (new_cars_num['compression_ratio'] < 3) &\n",
    "            (new_cars_num['compression_ratio'] > -3)]\n",
    "# Check the number of outliers in each column\n",
    "find_outliers(new_cars_num)"
   ]
  },
  {
   "cell_type": "markdown",
   "metadata": {},
   "source": [
    "The number of outliers becomes smaller in the target column and in some other. We will now analyze the data using previously defined functions."
   ]
  },
  {
   "cell_type": "code",
   "execution_count": null,
   "metadata": {
    "collapsed": false
   },
   "outputs": [],
   "source": [
    "# Calculate RMSEs using train/test validation\n",
    "res = collections.defaultdict(list)\n",
    "j = 0\n",
    "for k in range(1, 10, 2):\n",
    "    for i in [8, 9, 10]:\n",
    "        res[j].extend([k, i, knn_train_test(\n",
    "            features[:i], 'price', new_cars_num, k=k)])\n",
    "        j += 1\n",
    "\n",
    "train_test_result = pd.DataFrame.from_dict(res,\n",
    "                                           orient='index')\n",
    "train_test_result.columns = ['k-value', 'num_of_feat',\n",
    "                             'RMSE']\n",
    "train_test_result.sort_values('RMSE').head(10)"
   ]
  },
  {
   "cell_type": "code",
   "execution_count": null,
   "metadata": {
    "collapsed": false
   },
   "outputs": [],
   "source": [
    "# Calculate RMSEs using k-fold validation\n",
    "res = collections.defaultdict(list)\n",
    "j = 0\n",
    "for k in range(1, 26, 2):\n",
    "    for i in [8, 9, 10]:\n",
    "        res[j].extend([\n",
    "            k, i, cross_val(\n",
    "                features[:i],\n",
    "                'price',\n",
    "                new_cars_num, k=k)])\n",
    "        j += 1\n",
    "kfold_result = pd.DataFrame.from_dict(rmses_res,\n",
    "                                             orient='index')\n",
    "kfold_result.columns = ['k-value', 'num_of_feat', 'RMSE']\n",
    "kfold_result.sort_values('RMSE').head(10)"
   ]
  },
  {
   "cell_type": "code",
   "execution_count": null,
   "metadata": {
    "collapsed": false
   },
   "outputs": [],
   "source": [
    "# Looking at MAE/RMSE and RMSE std\n",
    "res = collections.defaultdict(list)\n",
    "j = 0\n",
    "for k in range(1, 8, 2):\n",
    "    for i in [8, 9, 10]:\n",
    "        res[j].extend([\n",
    "            k, i, cross_val_mae_rmse(\n",
    "                features[:i],\n",
    "                'price',\n",
    "                new_cars_num, k=k)])\n",
    "        j += 1\n",
    "res"
   ]
  },
  {
   "cell_type": "markdown",
   "metadata": {},
   "source": [
    "We can observe that:\n",
    "-  train/test validation and k-fold validation return the same model parameters as the most efficient(k-value is 1, the number of parameters is 9). \n",
    "- this configuration of the model has the lowest values of average RMSE and standard deviation of RMSE (the bias/variance trade-off). \n",
    "\n",
    "But, the average MAE and average RMSE values are quite different, so we cannot say that the model is accurate."
   ]
  },
  {
   "cell_type": "markdown",
   "metadata": {
    "collapsed": true
   },
   "source": [
    "## Conclusion\n",
    "\n",
    "In this project, I practiced the fundamental Machine Learning workflow. k-nearest neighbors algorithm was used to build the model. I also used the train/test and k-fold validations and RMSE and MAE as metrics.\n",
    "\n",
    "At this stage, we can conclude that the optimal k-value is 1 and the number of parameters is 9. But, this model needs further optimization."
   ]
  }
 ],
 "metadata": {
  "kernelspec": {
   "display_name": "Python 3",
   "language": "python",
   "name": "python3"
  },
  "language_info": {
   "codemirror_mode": {
    "name": "ipython",
    "version": 3
   },
   "file_extension": ".py",
   "mimetype": "text/x-python",
   "name": "python",
   "nbconvert_exporter": "python",
   "pygments_lexer": "ipython3",
   "version": "3.4.3"
  }
 },
 "nbformat": 4,
 "nbformat_minor": 2
}
